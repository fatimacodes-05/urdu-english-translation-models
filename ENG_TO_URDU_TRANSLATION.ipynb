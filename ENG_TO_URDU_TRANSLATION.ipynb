{
  "nbformat": 4,
  "nbformat_minor": 0,
  "metadata": {
    "colab": {
      "provenance": [],
      "gpuType": "T4"
    },
    "kernelspec": {
      "name": "python3",
      "display_name": "Python 3"
    },
    "language_info": {
      "name": "python"
    },
    "accelerator": "GPU"
  },
  "cells": [
    {
      "cell_type": "markdown",
      "source": [
        "# QUESTION 3"
      ],
      "metadata": {
        "id": "LY1jxoZXRRh0"
      }
    },
    {
      "cell_type": "markdown",
      "source": [
        "**DATA LOADING**"
      ],
      "metadata": {
        "id": "sXAvvLni1Yj2"
      }
    },
    {
      "cell_type": "code",
      "source": [
        "import pandas as pd\n",
        "\n",
        "# Load the parallel corpus\n",
        "with open(\"/content/english-corpus.txt\", \"r\", encoding=\"utf-8\") as f:\n",
        "    english_sentences = f.read().splitlines()\n",
        "\n",
        "with open(\"/content/urdu-corpus.txt\", \"r\", encoding=\"utf-8\") as f:\n",
        "    urdu_sentences = f.read().splitlines()\n",
        "\n",
        "# Combine into DataFrame\n",
        "df = pd.DataFrame({'English': english_sentences, 'Urdu': urdu_sentences})\n",
        "df.head()\n"
      ],
      "metadata": {
        "colab": {
          "base_uri": "https://localhost:8080/",
          "height": 206
        },
        "id": "8Y5xDTgFIOr8",
        "outputId": "b812a4f3-43a7-4c1d-9461-b7c379d3cd95"
      },
      "execution_count": 2,
      "outputs": [
        {
          "output_type": "execute_result",
          "data": {
            "text/plain": [
              "                English                       Urdu\n",
              "0   is zain your nephew      زین تمہارا بھتیجا ہے۔\n",
              "1  i wish youd trust me  کاش تم مجھ پر بھروسہ کرتے\n",
              "2      did he touch you      کیا اس نے آپ کو چھوا؟\n",
              "3      its part of life         اس کی زندگی کا حصہ\n",
              "4        zain isnt ugly        زین بدصورت نہیں ہے۔"
            ],
            "text/html": [
              "\n",
              "  <div id=\"df-1a81a622-6f9a-4c71-b98f-0756ffc7e8dc\" class=\"colab-df-container\">\n",
              "    <div>\n",
              "<style scoped>\n",
              "    .dataframe tbody tr th:only-of-type {\n",
              "        vertical-align: middle;\n",
              "    }\n",
              "\n",
              "    .dataframe tbody tr th {\n",
              "        vertical-align: top;\n",
              "    }\n",
              "\n",
              "    .dataframe thead th {\n",
              "        text-align: right;\n",
              "    }\n",
              "</style>\n",
              "<table border=\"1\" class=\"dataframe\">\n",
              "  <thead>\n",
              "    <tr style=\"text-align: right;\">\n",
              "      <th></th>\n",
              "      <th>English</th>\n",
              "      <th>Urdu</th>\n",
              "    </tr>\n",
              "  </thead>\n",
              "  <tbody>\n",
              "    <tr>\n",
              "      <th>0</th>\n",
              "      <td>is zain your nephew</td>\n",
              "      <td>زین تمہارا بھتیجا ہے۔</td>\n",
              "    </tr>\n",
              "    <tr>\n",
              "      <th>1</th>\n",
              "      <td>i wish youd trust me</td>\n",
              "      <td>کاش تم مجھ پر بھروسہ کرتے</td>\n",
              "    </tr>\n",
              "    <tr>\n",
              "      <th>2</th>\n",
              "      <td>did he touch you</td>\n",
              "      <td>کیا اس نے آپ کو چھوا؟</td>\n",
              "    </tr>\n",
              "    <tr>\n",
              "      <th>3</th>\n",
              "      <td>its part of life</td>\n",
              "      <td>اس کی زندگی کا حصہ</td>\n",
              "    </tr>\n",
              "    <tr>\n",
              "      <th>4</th>\n",
              "      <td>zain isnt ugly</td>\n",
              "      <td>زین بدصورت نہیں ہے۔</td>\n",
              "    </tr>\n",
              "  </tbody>\n",
              "</table>\n",
              "</div>\n",
              "    <div class=\"colab-df-buttons\">\n",
              "\n",
              "  <div class=\"colab-df-container\">\n",
              "    <button class=\"colab-df-convert\" onclick=\"convertToInteractive('df-1a81a622-6f9a-4c71-b98f-0756ffc7e8dc')\"\n",
              "            title=\"Convert this dataframe to an interactive table.\"\n",
              "            style=\"display:none;\">\n",
              "\n",
              "  <svg xmlns=\"http://www.w3.org/2000/svg\" height=\"24px\" viewBox=\"0 -960 960 960\">\n",
              "    <path d=\"M120-120v-720h720v720H120Zm60-500h600v-160H180v160Zm220 220h160v-160H400v160Zm0 220h160v-160H400v160ZM180-400h160v-160H180v160Zm440 0h160v-160H620v160ZM180-180h160v-160H180v160Zm440 0h160v-160H620v160Z\"/>\n",
              "  </svg>\n",
              "    </button>\n",
              "\n",
              "  <style>\n",
              "    .colab-df-container {\n",
              "      display:flex;\n",
              "      gap: 12px;\n",
              "    }\n",
              "\n",
              "    .colab-df-convert {\n",
              "      background-color: #E8F0FE;\n",
              "      border: none;\n",
              "      border-radius: 50%;\n",
              "      cursor: pointer;\n",
              "      display: none;\n",
              "      fill: #1967D2;\n",
              "      height: 32px;\n",
              "      padding: 0 0 0 0;\n",
              "      width: 32px;\n",
              "    }\n",
              "\n",
              "    .colab-df-convert:hover {\n",
              "      background-color: #E2EBFA;\n",
              "      box-shadow: 0px 1px 2px rgba(60, 64, 67, 0.3), 0px 1px 3px 1px rgba(60, 64, 67, 0.15);\n",
              "      fill: #174EA6;\n",
              "    }\n",
              "\n",
              "    .colab-df-buttons div {\n",
              "      margin-bottom: 4px;\n",
              "    }\n",
              "\n",
              "    [theme=dark] .colab-df-convert {\n",
              "      background-color: #3B4455;\n",
              "      fill: #D2E3FC;\n",
              "    }\n",
              "\n",
              "    [theme=dark] .colab-df-convert:hover {\n",
              "      background-color: #434B5C;\n",
              "      box-shadow: 0px 1px 3px 1px rgba(0, 0, 0, 0.15);\n",
              "      filter: drop-shadow(0px 1px 2px rgba(0, 0, 0, 0.3));\n",
              "      fill: #FFFFFF;\n",
              "    }\n",
              "  </style>\n",
              "\n",
              "    <script>\n",
              "      const buttonEl =\n",
              "        document.querySelector('#df-1a81a622-6f9a-4c71-b98f-0756ffc7e8dc button.colab-df-convert');\n",
              "      buttonEl.style.display =\n",
              "        google.colab.kernel.accessAllowed ? 'block' : 'none';\n",
              "\n",
              "      async function convertToInteractive(key) {\n",
              "        const element = document.querySelector('#df-1a81a622-6f9a-4c71-b98f-0756ffc7e8dc');\n",
              "        const dataTable =\n",
              "          await google.colab.kernel.invokeFunction('convertToInteractive',\n",
              "                                                    [key], {});\n",
              "        if (!dataTable) return;\n",
              "\n",
              "        const docLinkHtml = 'Like what you see? Visit the ' +\n",
              "          '<a target=\"_blank\" href=https://colab.research.google.com/notebooks/data_table.ipynb>data table notebook</a>'\n",
              "          + ' to learn more about interactive tables.';\n",
              "        element.innerHTML = '';\n",
              "        dataTable['output_type'] = 'display_data';\n",
              "        await google.colab.output.renderOutput(dataTable, element);\n",
              "        const docLink = document.createElement('div');\n",
              "        docLink.innerHTML = docLinkHtml;\n",
              "        element.appendChild(docLink);\n",
              "      }\n",
              "    </script>\n",
              "  </div>\n",
              "\n",
              "\n",
              "<div id=\"df-64a337cc-b216-4962-b708-2af6f5d1c224\">\n",
              "  <button class=\"colab-df-quickchart\" onclick=\"quickchart('df-64a337cc-b216-4962-b708-2af6f5d1c224')\"\n",
              "            title=\"Suggest charts\"\n",
              "            style=\"display:none;\">\n",
              "\n",
              "<svg xmlns=\"http://www.w3.org/2000/svg\" height=\"24px\"viewBox=\"0 0 24 24\"\n",
              "     width=\"24px\">\n",
              "    <g>\n",
              "        <path d=\"M19 3H5c-1.1 0-2 .9-2 2v14c0 1.1.9 2 2 2h14c1.1 0 2-.9 2-2V5c0-1.1-.9-2-2-2zM9 17H7v-7h2v7zm4 0h-2V7h2v10zm4 0h-2v-4h2v4z\"/>\n",
              "    </g>\n",
              "</svg>\n",
              "  </button>\n",
              "\n",
              "<style>\n",
              "  .colab-df-quickchart {\n",
              "      --bg-color: #E8F0FE;\n",
              "      --fill-color: #1967D2;\n",
              "      --hover-bg-color: #E2EBFA;\n",
              "      --hover-fill-color: #174EA6;\n",
              "      --disabled-fill-color: #AAA;\n",
              "      --disabled-bg-color: #DDD;\n",
              "  }\n",
              "\n",
              "  [theme=dark] .colab-df-quickchart {\n",
              "      --bg-color: #3B4455;\n",
              "      --fill-color: #D2E3FC;\n",
              "      --hover-bg-color: #434B5C;\n",
              "      --hover-fill-color: #FFFFFF;\n",
              "      --disabled-bg-color: #3B4455;\n",
              "      --disabled-fill-color: #666;\n",
              "  }\n",
              "\n",
              "  .colab-df-quickchart {\n",
              "    background-color: var(--bg-color);\n",
              "    border: none;\n",
              "    border-radius: 50%;\n",
              "    cursor: pointer;\n",
              "    display: none;\n",
              "    fill: var(--fill-color);\n",
              "    height: 32px;\n",
              "    padding: 0;\n",
              "    width: 32px;\n",
              "  }\n",
              "\n",
              "  .colab-df-quickchart:hover {\n",
              "    background-color: var(--hover-bg-color);\n",
              "    box-shadow: 0 1px 2px rgba(60, 64, 67, 0.3), 0 1px 3px 1px rgba(60, 64, 67, 0.15);\n",
              "    fill: var(--button-hover-fill-color);\n",
              "  }\n",
              "\n",
              "  .colab-df-quickchart-complete:disabled,\n",
              "  .colab-df-quickchart-complete:disabled:hover {\n",
              "    background-color: var(--disabled-bg-color);\n",
              "    fill: var(--disabled-fill-color);\n",
              "    box-shadow: none;\n",
              "  }\n",
              "\n",
              "  .colab-df-spinner {\n",
              "    border: 2px solid var(--fill-color);\n",
              "    border-color: transparent;\n",
              "    border-bottom-color: var(--fill-color);\n",
              "    animation:\n",
              "      spin 1s steps(1) infinite;\n",
              "  }\n",
              "\n",
              "  @keyframes spin {\n",
              "    0% {\n",
              "      border-color: transparent;\n",
              "      border-bottom-color: var(--fill-color);\n",
              "      border-left-color: var(--fill-color);\n",
              "    }\n",
              "    20% {\n",
              "      border-color: transparent;\n",
              "      border-left-color: var(--fill-color);\n",
              "      border-top-color: var(--fill-color);\n",
              "    }\n",
              "    30% {\n",
              "      border-color: transparent;\n",
              "      border-left-color: var(--fill-color);\n",
              "      border-top-color: var(--fill-color);\n",
              "      border-right-color: var(--fill-color);\n",
              "    }\n",
              "    40% {\n",
              "      border-color: transparent;\n",
              "      border-right-color: var(--fill-color);\n",
              "      border-top-color: var(--fill-color);\n",
              "    }\n",
              "    60% {\n",
              "      border-color: transparent;\n",
              "      border-right-color: var(--fill-color);\n",
              "    }\n",
              "    80% {\n",
              "      border-color: transparent;\n",
              "      border-right-color: var(--fill-color);\n",
              "      border-bottom-color: var(--fill-color);\n",
              "    }\n",
              "    90% {\n",
              "      border-color: transparent;\n",
              "      border-bottom-color: var(--fill-color);\n",
              "    }\n",
              "  }\n",
              "</style>\n",
              "\n",
              "  <script>\n",
              "    async function quickchart(key) {\n",
              "      const quickchartButtonEl =\n",
              "        document.querySelector('#' + key + ' button');\n",
              "      quickchartButtonEl.disabled = true;  // To prevent multiple clicks.\n",
              "      quickchartButtonEl.classList.add('colab-df-spinner');\n",
              "      try {\n",
              "        const charts = await google.colab.kernel.invokeFunction(\n",
              "            'suggestCharts', [key], {});\n",
              "      } catch (error) {\n",
              "        console.error('Error during call to suggestCharts:', error);\n",
              "      }\n",
              "      quickchartButtonEl.classList.remove('colab-df-spinner');\n",
              "      quickchartButtonEl.classList.add('colab-df-quickchart-complete');\n",
              "    }\n",
              "    (() => {\n",
              "      let quickchartButtonEl =\n",
              "        document.querySelector('#df-64a337cc-b216-4962-b708-2af6f5d1c224 button');\n",
              "      quickchartButtonEl.style.display =\n",
              "        google.colab.kernel.accessAllowed ? 'block' : 'none';\n",
              "    })();\n",
              "  </script>\n",
              "</div>\n",
              "\n",
              "    </div>\n",
              "  </div>\n"
            ],
            "application/vnd.google.colaboratory.intrinsic+json": {
              "type": "dataframe",
              "variable_name": "df",
              "summary": "{\n  \"name\": \"df\",\n  \"rows\": 24525,\n  \"fields\": [\n    {\n      \"column\": \"English\",\n      \"properties\": {\n        \"dtype\": \"string\",\n        \"num_unique_values\": 24004,\n        \"samples\": [\n          \"please sign here\",\n          \"zain has three sons\",\n          \"a window was broken\"\n        ],\n        \"semantic_type\": \"\",\n        \"description\": \"\"\n      }\n    },\n    {\n      \"column\": \"Urdu\",\n      \"properties\": {\n        \"dtype\": \"string\",\n        \"num_unique_values\": 22904,\n        \"samples\": [\n          \"\\u0645\\u06cc\\u06ba \\u0641\\u0679 \\u0628\\u0627\\u0644 \\u06a9\\u06be\\u06cc\\u0644\\u0646\\u0627 \\u067e\\u0633\\u0646\\u062f \\u06a9\\u0631\\u062a\\u0627 \\u06c1\\u0648\\u06ba\",\n          \"\\u0627\\u0633 \\u0645\\u0646\\u062f\\u0631 \\u06a9\\u0648 \\u062a\\u0628\\u0627\\u06c1 \\u06a9\\u0631 \\u062f\\u0648\",\n          \"\\u0627\\u06cc\\u06a9 \\u0628\\u0644\\u06cc \\u06a9\\u06cc \\u0633\\u0627\\u062a \\u0632\\u0646\\u062f\\u06af\\u06cc\\u0627\\u06ba \\u06c1\\u06cc\\u06ba\\u06d4\"\n        ],\n        \"semantic_type\": \"\",\n        \"description\": \"\"\n      }\n    }\n  ]\n}"
            }
          },
          "metadata": {},
          "execution_count": 2
        }
      ]
    },
    {
      "cell_type": "markdown",
      "source": [
        "**DATA PREPROCESSING**"
      ],
      "metadata": {
        "id": "bcrrWHJ71eze"
      }
    },
    {
      "cell_type": "code",
      "source": [
        "from tensorflow.keras.preprocessing.text import Tokenizer\n",
        "from tensorflow.keras.preprocessing.sequence import pad_sequences\n",
        "\n",
        "# Tokenize English\n",
        "en_tokenizer = Tokenizer()\n",
        "en_tokenizer.fit_on_texts(df['English'])\n",
        "en_sequences = en_tokenizer.texts_to_sequences(df['English'])\n",
        "\n",
        "# Tokenize Urdu\n",
        "ur_tokenizer = Tokenizer()\n",
        "ur_tokenizer.fit_on_texts(df['Urdu'])\n",
        "ur_sequences = ur_tokenizer.texts_to_sequences(df['Urdu'])\n",
        "\n",
        "# Vocabulary sizes\n",
        "en_vocab_size = len(en_tokenizer.word_index) + 1\n",
        "ur_vocab_size = len(ur_tokenizer.word_index) + 1\n",
        "\n",
        "# Padding\n",
        "MAX_LEN_EN = 20\n",
        "MAX_LEN_UR = 20\n",
        "\n",
        "en_padded = pad_sequences(en_sequences, maxlen=MAX_LEN_EN, padding='post')\n",
        "ur_padded = pad_sequences(ur_sequences, maxlen=MAX_LEN_UR, padding='post')\n"
      ],
      "metadata": {
        "id": "WshEXdUCIXHE"
      },
      "execution_count": 3,
      "outputs": []
    },
    {
      "cell_type": "markdown",
      "source": [
        "**TEST AND TRAIN**"
      ],
      "metadata": {
        "id": "RfpNkyLN1pIT"
      }
    },
    {
      "cell_type": "code",
      "source": [
        "from sklearn.model_selection import train_test_split\n",
        "import numpy as np\n",
        "\n",
        "X_train, X_test, y_train, y_test = train_test_split(en_padded, ur_padded, test_size=0.1, random_state=42)\n",
        "\n",
        "# Reshape y for sparse_categorical_crossentropy\n",
        "y_train = np.expand_dims(y_train, -1)\n",
        "y_test = np.expand_dims(y_test, -1)\n"
      ],
      "metadata": {
        "id": "YCv-9z4nIf0J"
      },
      "execution_count": 4,
      "outputs": []
    },
    {
      "cell_type": "markdown",
      "source": [
        "**SIMPLE RNN**"
      ],
      "metadata": {
        "id": "DdbzfeLI1tTK"
      }
    },
    {
      "cell_type": "code",
      "source": [
        "from tensorflow.keras.models import Model\n",
        "from tensorflow.keras.layers import Input, Embedding, SimpleRNN, Dense\n",
        "\n",
        "def build_rnn_seq2seq():\n",
        "    # Encoder\n",
        "    encoder_inputs = Input(shape=(MAX_LEN_EN,))\n",
        "    encoder_embedding = Embedding(en_vocab_size, 128)(encoder_inputs)\n",
        "    encoder_output, state = SimpleRNN(128, return_state=True)(encoder_embedding)\n",
        "\n",
        "\n",
        "    # Decoder\n",
        "    decoder_inputs = Input(shape=(MAX_LEN_UR,))\n",
        "    decoder_embedding = Embedding(ur_vocab_size, 128)(decoder_inputs)\n",
        "    decoder_output = SimpleRNN(128, return_sequences=True)(decoder_embedding, initial_state=state)\n",
        "    outputs = Dense(ur_vocab_size, activation='softmax')(decoder_output)\n",
        "\n",
        "    model = Model([encoder_inputs, decoder_inputs], outputs)\n",
        "    model.compile(optimizer='adam', loss='sparse_categorical_crossentropy', metrics=['accuracy'])\n",
        "    return model\n",
        "\n",
        "rnn_model = build_rnn_seq2seq()\n",
        "rnn_model.summary()\n"
      ],
      "metadata": {
        "colab": {
          "base_uri": "https://localhost:8080/",
          "height": 449
        },
        "id": "cWKoKCikIi5p",
        "outputId": "ef3515fa-56e6-4e04-cef8-a397c4c1ca54"
      },
      "execution_count": 5,
      "outputs": [
        {
          "output_type": "display_data",
          "data": {
            "text/plain": [
              "\u001b[1mModel: \"functional\"\u001b[0m\n"
            ],
            "text/html": [
              "<pre style=\"white-space:pre;overflow-x:auto;line-height:normal;font-family:Menlo,'DejaVu Sans Mono',consolas,'Courier New',monospace\"><span style=\"font-weight: bold\">Model: \"functional\"</span>\n",
              "</pre>\n"
            ]
          },
          "metadata": {}
        },
        {
          "output_type": "display_data",
          "data": {
            "text/plain": [
              "┏━━━━━━━━━━━━━━━━━━━━━┳━━━━━━━━━━━━━━━━━━━┳━━━━━━━━━━━━┳━━━━━━━━━━━━━━━━━━━┓\n",
              "┃\u001b[1m \u001b[0m\u001b[1mLayer (type)       \u001b[0m\u001b[1m \u001b[0m┃\u001b[1m \u001b[0m\u001b[1mOutput Shape     \u001b[0m\u001b[1m \u001b[0m┃\u001b[1m \u001b[0m\u001b[1m   Param #\u001b[0m\u001b[1m \u001b[0m┃\u001b[1m \u001b[0m\u001b[1mConnected to     \u001b[0m\u001b[1m \u001b[0m┃\n",
              "┡━━━━━━━━━━━━━━━━━━━━━╇━━━━━━━━━━━━━━━━━━━╇━━━━━━━━━━━━╇━━━━━━━━━━━━━━━━━━━┩\n",
              "│ input_layer         │ (\u001b[38;5;45mNone\u001b[0m, \u001b[38;5;34m20\u001b[0m)        │          \u001b[38;5;34m0\u001b[0m │ -                 │\n",
              "│ (\u001b[38;5;33mInputLayer\u001b[0m)        │                   │            │                   │\n",
              "├─────────────────────┼───────────────────┼────────────┼───────────────────┤\n",
              "│ input_layer_1       │ (\u001b[38;5;45mNone\u001b[0m, \u001b[38;5;34m20\u001b[0m)        │          \u001b[38;5;34m0\u001b[0m │ -                 │\n",
              "│ (\u001b[38;5;33mInputLayer\u001b[0m)        │                   │            │                   │\n",
              "├─────────────────────┼───────────────────┼────────────┼───────────────────┤\n",
              "│ embedding           │ (\u001b[38;5;45mNone\u001b[0m, \u001b[38;5;34m20\u001b[0m, \u001b[38;5;34m128\u001b[0m)   │    \u001b[38;5;34m726,912\u001b[0m │ input_layer[\u001b[38;5;34m0\u001b[0m][\u001b[38;5;34m0\u001b[0m] │\n",
              "│ (\u001b[38;5;33mEmbedding\u001b[0m)         │                   │            │                   │\n",
              "├─────────────────────┼───────────────────┼────────────┼───────────────────┤\n",
              "│ embedding_1         │ (\u001b[38;5;45mNone\u001b[0m, \u001b[38;5;34m20\u001b[0m, \u001b[38;5;34m128\u001b[0m)   │    \u001b[38;5;34m759,040\u001b[0m │ input_layer_1[\u001b[38;5;34m0\u001b[0m]… │\n",
              "│ (\u001b[38;5;33mEmbedding\u001b[0m)         │                   │            │                   │\n",
              "├─────────────────────┼───────────────────┼────────────┼───────────────────┤\n",
              "│ simple_rnn          │ [(\u001b[38;5;45mNone\u001b[0m, \u001b[38;5;34m128\u001b[0m),     │     \u001b[38;5;34m32,896\u001b[0m │ embedding[\u001b[38;5;34m0\u001b[0m][\u001b[38;5;34m0\u001b[0m]   │\n",
              "│ (\u001b[38;5;33mSimpleRNN\u001b[0m)         │ (\u001b[38;5;45mNone\u001b[0m, \u001b[38;5;34m128\u001b[0m)]      │            │                   │\n",
              "├─────────────────────┼───────────────────┼────────────┼───────────────────┤\n",
              "│ simple_rnn_1        │ (\u001b[38;5;45mNone\u001b[0m, \u001b[38;5;34m20\u001b[0m, \u001b[38;5;34m128\u001b[0m)   │     \u001b[38;5;34m32,896\u001b[0m │ embedding_1[\u001b[38;5;34m0\u001b[0m][\u001b[38;5;34m0\u001b[0m… │\n",
              "│ (\u001b[38;5;33mSimpleRNN\u001b[0m)         │                   │            │ simple_rnn[\u001b[38;5;34m0\u001b[0m][\u001b[38;5;34m1\u001b[0m]  │\n",
              "├─────────────────────┼───────────────────┼────────────┼───────────────────┤\n",
              "│ dense (\u001b[38;5;33mDense\u001b[0m)       │ (\u001b[38;5;45mNone\u001b[0m, \u001b[38;5;34m20\u001b[0m, \u001b[38;5;34m5930\u001b[0m)  │    \u001b[38;5;34m764,970\u001b[0m │ simple_rnn_1[\u001b[38;5;34m0\u001b[0m][\u001b[38;5;34m…\u001b[0m │\n",
              "└─────────────────────┴───────────────────┴────────────┴───────────────────┘\n"
            ],
            "text/html": [
              "<pre style=\"white-space:pre;overflow-x:auto;line-height:normal;font-family:Menlo,'DejaVu Sans Mono',consolas,'Courier New',monospace\">┏━━━━━━━━━━━━━━━━━━━━━┳━━━━━━━━━━━━━━━━━━━┳━━━━━━━━━━━━┳━━━━━━━━━━━━━━━━━━━┓\n",
              "┃<span style=\"font-weight: bold\"> Layer (type)        </span>┃<span style=\"font-weight: bold\"> Output Shape      </span>┃<span style=\"font-weight: bold\">    Param # </span>┃<span style=\"font-weight: bold\"> Connected to      </span>┃\n",
              "┡━━━━━━━━━━━━━━━━━━━━━╇━━━━━━━━━━━━━━━━━━━╇━━━━━━━━━━━━╇━━━━━━━━━━━━━━━━━━━┩\n",
              "│ input_layer         │ (<span style=\"color: #00d7ff; text-decoration-color: #00d7ff\">None</span>, <span style=\"color: #00af00; text-decoration-color: #00af00\">20</span>)        │          <span style=\"color: #00af00; text-decoration-color: #00af00\">0</span> │ -                 │\n",
              "│ (<span style=\"color: #0087ff; text-decoration-color: #0087ff\">InputLayer</span>)        │                   │            │                   │\n",
              "├─────────────────────┼───────────────────┼────────────┼───────────────────┤\n",
              "│ input_layer_1       │ (<span style=\"color: #00d7ff; text-decoration-color: #00d7ff\">None</span>, <span style=\"color: #00af00; text-decoration-color: #00af00\">20</span>)        │          <span style=\"color: #00af00; text-decoration-color: #00af00\">0</span> │ -                 │\n",
              "│ (<span style=\"color: #0087ff; text-decoration-color: #0087ff\">InputLayer</span>)        │                   │            │                   │\n",
              "├─────────────────────┼───────────────────┼────────────┼───────────────────┤\n",
              "│ embedding           │ (<span style=\"color: #00d7ff; text-decoration-color: #00d7ff\">None</span>, <span style=\"color: #00af00; text-decoration-color: #00af00\">20</span>, <span style=\"color: #00af00; text-decoration-color: #00af00\">128</span>)   │    <span style=\"color: #00af00; text-decoration-color: #00af00\">726,912</span> │ input_layer[<span style=\"color: #00af00; text-decoration-color: #00af00\">0</span>][<span style=\"color: #00af00; text-decoration-color: #00af00\">0</span>] │\n",
              "│ (<span style=\"color: #0087ff; text-decoration-color: #0087ff\">Embedding</span>)         │                   │            │                   │\n",
              "├─────────────────────┼───────────────────┼────────────┼───────────────────┤\n",
              "│ embedding_1         │ (<span style=\"color: #00d7ff; text-decoration-color: #00d7ff\">None</span>, <span style=\"color: #00af00; text-decoration-color: #00af00\">20</span>, <span style=\"color: #00af00; text-decoration-color: #00af00\">128</span>)   │    <span style=\"color: #00af00; text-decoration-color: #00af00\">759,040</span> │ input_layer_1[<span style=\"color: #00af00; text-decoration-color: #00af00\">0</span>]… │\n",
              "│ (<span style=\"color: #0087ff; text-decoration-color: #0087ff\">Embedding</span>)         │                   │            │                   │\n",
              "├─────────────────────┼───────────────────┼────────────┼───────────────────┤\n",
              "│ simple_rnn          │ [(<span style=\"color: #00d7ff; text-decoration-color: #00d7ff\">None</span>, <span style=\"color: #00af00; text-decoration-color: #00af00\">128</span>),     │     <span style=\"color: #00af00; text-decoration-color: #00af00\">32,896</span> │ embedding[<span style=\"color: #00af00; text-decoration-color: #00af00\">0</span>][<span style=\"color: #00af00; text-decoration-color: #00af00\">0</span>]   │\n",
              "│ (<span style=\"color: #0087ff; text-decoration-color: #0087ff\">SimpleRNN</span>)         │ (<span style=\"color: #00d7ff; text-decoration-color: #00d7ff\">None</span>, <span style=\"color: #00af00; text-decoration-color: #00af00\">128</span>)]      │            │                   │\n",
              "├─────────────────────┼───────────────────┼────────────┼───────────────────┤\n",
              "│ simple_rnn_1        │ (<span style=\"color: #00d7ff; text-decoration-color: #00d7ff\">None</span>, <span style=\"color: #00af00; text-decoration-color: #00af00\">20</span>, <span style=\"color: #00af00; text-decoration-color: #00af00\">128</span>)   │     <span style=\"color: #00af00; text-decoration-color: #00af00\">32,896</span> │ embedding_1[<span style=\"color: #00af00; text-decoration-color: #00af00\">0</span>][<span style=\"color: #00af00; text-decoration-color: #00af00\">0</span>… │\n",
              "│ (<span style=\"color: #0087ff; text-decoration-color: #0087ff\">SimpleRNN</span>)         │                   │            │ simple_rnn[<span style=\"color: #00af00; text-decoration-color: #00af00\">0</span>][<span style=\"color: #00af00; text-decoration-color: #00af00\">1</span>]  │\n",
              "├─────────────────────┼───────────────────┼────────────┼───────────────────┤\n",
              "│ dense (<span style=\"color: #0087ff; text-decoration-color: #0087ff\">Dense</span>)       │ (<span style=\"color: #00d7ff; text-decoration-color: #00d7ff\">None</span>, <span style=\"color: #00af00; text-decoration-color: #00af00\">20</span>, <span style=\"color: #00af00; text-decoration-color: #00af00\">5930</span>)  │    <span style=\"color: #00af00; text-decoration-color: #00af00\">764,970</span> │ simple_rnn_1[<span style=\"color: #00af00; text-decoration-color: #00af00\">0</span>][<span style=\"color: #00af00; text-decoration-color: #00af00\">…</span> │\n",
              "└─────────────────────┴───────────────────┴────────────┴───────────────────┘\n",
              "</pre>\n"
            ]
          },
          "metadata": {}
        },
        {
          "output_type": "display_data",
          "data": {
            "text/plain": [
              "\u001b[1m Total params: \u001b[0m\u001b[38;5;34m2,316,714\u001b[0m (8.84 MB)\n"
            ],
            "text/html": [
              "<pre style=\"white-space:pre;overflow-x:auto;line-height:normal;font-family:Menlo,'DejaVu Sans Mono',consolas,'Courier New',monospace\"><span style=\"font-weight: bold\"> Total params: </span><span style=\"color: #00af00; text-decoration-color: #00af00\">2,316,714</span> (8.84 MB)\n",
              "</pre>\n"
            ]
          },
          "metadata": {}
        },
        {
          "output_type": "display_data",
          "data": {
            "text/plain": [
              "\u001b[1m Trainable params: \u001b[0m\u001b[38;5;34m2,316,714\u001b[0m (8.84 MB)\n"
            ],
            "text/html": [
              "<pre style=\"white-space:pre;overflow-x:auto;line-height:normal;font-family:Menlo,'DejaVu Sans Mono',consolas,'Courier New',monospace\"><span style=\"font-weight: bold\"> Trainable params: </span><span style=\"color: #00af00; text-decoration-color: #00af00\">2,316,714</span> (8.84 MB)\n",
              "</pre>\n"
            ]
          },
          "metadata": {}
        },
        {
          "output_type": "display_data",
          "data": {
            "text/plain": [
              "\u001b[1m Non-trainable params: \u001b[0m\u001b[38;5;34m0\u001b[0m (0.00 B)\n"
            ],
            "text/html": [
              "<pre style=\"white-space:pre;overflow-x:auto;line-height:normal;font-family:Menlo,'DejaVu Sans Mono',consolas,'Courier New',monospace\"><span style=\"font-weight: bold\"> Non-trainable params: </span><span style=\"color: #00af00; text-decoration-color: #00af00\">0</span> (0.00 B)\n",
              "</pre>\n"
            ]
          },
          "metadata": {}
        }
      ]
    },
    {
      "cell_type": "code",
      "source": [
        "# Prepare decoder input and target (shifted version of urdu padded sequences)\n",
        "decoder_input_data = y_train[:, :-1]\n",
        "decoder_input_data = pad_sequences(decoder_input_data, maxlen=MAX_LEN_UR, padding='post')\n",
        "\n",
        "decoder_target_data = y_train[:, 1:]\n",
        "decoder_target_data = pad_sequences(decoder_target_data, maxlen=MAX_LEN_UR, padding='post')\n",
        "\n",
        "# Train the model (RNN model already defined as rnn_model)\n",
        "history_rnn = rnn_model.fit(\n",
        "    [X_train, decoder_input_data],  # encoder input and decoder input\n",
        "    decoder_target_data,            # decoder output (target)\n",
        "    epochs=50,\n",
        "    batch_size=64,\n",
        "    validation_split=0.1\n",
        ")\n"
      ],
      "metadata": {
        "colab": {
          "base_uri": "https://localhost:8080/"
        },
        "id": "jnK8xuVOIoPr",
        "outputId": "0a5f7699-1d8a-4b0d-e26b-20175eb48e76"
      },
      "execution_count": 6,
      "outputs": [
        {
          "output_type": "stream",
          "name": "stdout",
          "text": [
            "Epoch 1/50\n",
            "\u001b[1m311/311\u001b[0m \u001b[32m━━━━━━━━━━━━━━━━━━━━\u001b[0m\u001b[37m\u001b[0m \u001b[1m12s\u001b[0m 24ms/step - accuracy: 0.7702 - loss: 2.9670 - val_accuracy: 0.8078 - val_loss: 1.2237\n",
            "Epoch 2/50\n",
            "\u001b[1m311/311\u001b[0m \u001b[32m━━━━━━━━━━━━━━━━━━━━\u001b[0m\u001b[37m\u001b[0m \u001b[1m4s\u001b[0m 10ms/step - accuracy: 0.8139 - loss: 1.1717 - val_accuracy: 0.8202 - val_loss: 1.1280\n",
            "Epoch 3/50\n",
            "\u001b[1m311/311\u001b[0m \u001b[32m━━━━━━━━━━━━━━━━━━━━\u001b[0m\u001b[37m\u001b[0m \u001b[1m3s\u001b[0m 10ms/step - accuracy: 0.8239 - loss: 1.0693 - val_accuracy: 0.8289 - val_loss: 1.0553\n",
            "Epoch 4/50\n",
            "\u001b[1m311/311\u001b[0m \u001b[32m━━━━━━━━━━━━━━━━━━━━\u001b[0m\u001b[37m\u001b[0m \u001b[1m3s\u001b[0m 10ms/step - accuracy: 0.8327 - loss: 0.9874 - val_accuracy: 0.8346 - val_loss: 1.0070\n",
            "Epoch 5/50\n",
            "\u001b[1m311/311\u001b[0m \u001b[32m━━━━━━━━━━━━━━━━━━━━\u001b[0m\u001b[37m\u001b[0m \u001b[1m3s\u001b[0m 11ms/step - accuracy: 0.8420 - loss: 0.9102 - val_accuracy: 0.8392 - val_loss: 0.9712\n",
            "Epoch 6/50\n",
            "\u001b[1m311/311\u001b[0m \u001b[32m━━━━━━━━━━━━━━━━━━━━\u001b[0m\u001b[37m\u001b[0m \u001b[1m5s\u001b[0m 10ms/step - accuracy: 0.8470 - loss: 0.8591 - val_accuracy: 0.8420 - val_loss: 0.9492\n",
            "Epoch 7/50\n",
            "\u001b[1m311/311\u001b[0m \u001b[32m━━━━━━━━━━━━━━━━━━━━\u001b[0m\u001b[37m\u001b[0m \u001b[1m3s\u001b[0m 10ms/step - accuracy: 0.8524 - loss: 0.8134 - val_accuracy: 0.8440 - val_loss: 0.9343\n",
            "Epoch 8/50\n",
            "\u001b[1m311/311\u001b[0m \u001b[32m━━━━━━━━━━━━━━━━━━━━\u001b[0m\u001b[37m\u001b[0m \u001b[1m3s\u001b[0m 11ms/step - accuracy: 0.8547 - loss: 0.7811 - val_accuracy: 0.8455 - val_loss: 0.9269\n",
            "Epoch 9/50\n",
            "\u001b[1m311/311\u001b[0m \u001b[32m━━━━━━━━━━━━━━━━━━━━\u001b[0m\u001b[37m\u001b[0m \u001b[1m5s\u001b[0m 10ms/step - accuracy: 0.8586 - loss: 0.7488 - val_accuracy: 0.8457 - val_loss: 0.9200\n",
            "Epoch 10/50\n",
            "\u001b[1m311/311\u001b[0m \u001b[32m━━━━━━━━━━━━━━━━━━━━\u001b[0m\u001b[37m\u001b[0m \u001b[1m3s\u001b[0m 10ms/step - accuracy: 0.8611 - loss: 0.7219 - val_accuracy: 0.8473 - val_loss: 0.9174\n",
            "Epoch 11/50\n",
            "\u001b[1m311/311\u001b[0m \u001b[32m━━━━━━━━━━━━━━━━━━━━\u001b[0m\u001b[37m\u001b[0m \u001b[1m5s\u001b[0m 11ms/step - accuracy: 0.8643 - loss: 0.6976 - val_accuracy: 0.8477 - val_loss: 0.9151\n",
            "Epoch 12/50\n",
            "\u001b[1m311/311\u001b[0m \u001b[32m━━━━━━━━━━━━━━━━━━━━\u001b[0m\u001b[37m\u001b[0m \u001b[1m5s\u001b[0m 10ms/step - accuracy: 0.8675 - loss: 0.6765 - val_accuracy: 0.8475 - val_loss: 0.9156\n",
            "Epoch 13/50\n",
            "\u001b[1m311/311\u001b[0m \u001b[32m━━━━━━━━━━━━━━━━━━━━\u001b[0m\u001b[37m\u001b[0m \u001b[1m4s\u001b[0m 11ms/step - accuracy: 0.8704 - loss: 0.6528 - val_accuracy: 0.8481 - val_loss: 0.9164\n",
            "Epoch 14/50\n",
            "\u001b[1m311/311\u001b[0m \u001b[32m━━━━━━━━━━━━━━━━━━━━\u001b[0m\u001b[37m\u001b[0m \u001b[1m5s\u001b[0m 10ms/step - accuracy: 0.8724 - loss: 0.6391 - val_accuracy: 0.8486 - val_loss: 0.9188\n",
            "Epoch 15/50\n",
            "\u001b[1m311/311\u001b[0m \u001b[32m━━━━━━━━━━━━━━━━━━━━\u001b[0m\u001b[37m\u001b[0m \u001b[1m3s\u001b[0m 11ms/step - accuracy: 0.8754 - loss: 0.6203 - val_accuracy: 0.8485 - val_loss: 0.9214\n",
            "Epoch 16/50\n",
            "\u001b[1m311/311\u001b[0m \u001b[32m━━━━━━━━━━━━━━━━━━━━\u001b[0m\u001b[37m\u001b[0m \u001b[1m3s\u001b[0m 10ms/step - accuracy: 0.8785 - loss: 0.6026 - val_accuracy: 0.8485 - val_loss: 0.9239\n",
            "Epoch 17/50\n",
            "\u001b[1m311/311\u001b[0m \u001b[32m━━━━━━━━━━━━━━━━━━━━\u001b[0m\u001b[37m\u001b[0m \u001b[1m5s\u001b[0m 10ms/step - accuracy: 0.8801 - loss: 0.5916 - val_accuracy: 0.8485 - val_loss: 0.9284\n",
            "Epoch 18/50\n",
            "\u001b[1m311/311\u001b[0m \u001b[32m━━━━━━━━━━━━━━━━━━━━\u001b[0m\u001b[37m\u001b[0m \u001b[1m3s\u001b[0m 10ms/step - accuracy: 0.8826 - loss: 0.5795 - val_accuracy: 0.8489 - val_loss: 0.9320\n",
            "Epoch 19/50\n",
            "\u001b[1m311/311\u001b[0m \u001b[32m━━━━━━━━━━━━━━━━━━━━\u001b[0m\u001b[37m\u001b[0m \u001b[1m3s\u001b[0m 10ms/step - accuracy: 0.8854 - loss: 0.5635 - val_accuracy: 0.8491 - val_loss: 0.9362\n",
            "Epoch 20/50\n",
            "\u001b[1m311/311\u001b[0m \u001b[32m━━━━━━━━━━━━━━━━━━━━\u001b[0m\u001b[37m\u001b[0m \u001b[1m4s\u001b[0m 12ms/step - accuracy: 0.8870 - loss: 0.5532 - val_accuracy: 0.8493 - val_loss: 0.9395\n",
            "Epoch 21/50\n",
            "\u001b[1m311/311\u001b[0m \u001b[32m━━━━━━━━━━━━━━━━━━━━\u001b[0m\u001b[37m\u001b[0m \u001b[1m5s\u001b[0m 10ms/step - accuracy: 0.8887 - loss: 0.5415 - val_accuracy: 0.8487 - val_loss: 0.9452\n",
            "Epoch 22/50\n",
            "\u001b[1m311/311\u001b[0m \u001b[32m━━━━━━━━━━━━━━━━━━━━\u001b[0m\u001b[37m\u001b[0m \u001b[1m5s\u001b[0m 11ms/step - accuracy: 0.8910 - loss: 0.5332 - val_accuracy: 0.8495 - val_loss: 0.9499\n",
            "Epoch 23/50\n",
            "\u001b[1m311/311\u001b[0m \u001b[32m━━━━━━━━━━━━━━━━━━━━\u001b[0m\u001b[37m\u001b[0m \u001b[1m5s\u001b[0m 10ms/step - accuracy: 0.8918 - loss: 0.5243 - val_accuracy: 0.8487 - val_loss: 0.9547\n",
            "Epoch 24/50\n",
            "\u001b[1m311/311\u001b[0m \u001b[32m━━━━━━━━━━━━━━━━━━━━\u001b[0m\u001b[37m\u001b[0m \u001b[1m5s\u001b[0m 10ms/step - accuracy: 0.8938 - loss: 0.5139 - val_accuracy: 0.8491 - val_loss: 0.9590\n",
            "Epoch 25/50\n",
            "\u001b[1m311/311\u001b[0m \u001b[32m━━━━━━━━━━━━━━━━━━━━\u001b[0m\u001b[37m\u001b[0m \u001b[1m3s\u001b[0m 11ms/step - accuracy: 0.8950 - loss: 0.5086 - val_accuracy: 0.8487 - val_loss: 0.9645\n",
            "Epoch 26/50\n",
            "\u001b[1m311/311\u001b[0m \u001b[32m━━━━━━━━━━━━━━━━━━━━\u001b[0m\u001b[37m\u001b[0m \u001b[1m5s\u001b[0m 11ms/step - accuracy: 0.8966 - loss: 0.4994 - val_accuracy: 0.8483 - val_loss: 0.9701\n",
            "Epoch 27/50\n",
            "\u001b[1m311/311\u001b[0m \u001b[32m━━━━━━━━━━━━━━━━━━━━\u001b[0m\u001b[37m\u001b[0m \u001b[1m3s\u001b[0m 10ms/step - accuracy: 0.8980 - loss: 0.4917 - val_accuracy: 0.8487 - val_loss: 0.9755\n",
            "Epoch 28/50\n",
            "\u001b[1m311/311\u001b[0m \u001b[32m━━━━━━━━━━━━━━━━━━━━\u001b[0m\u001b[37m\u001b[0m \u001b[1m3s\u001b[0m 11ms/step - accuracy: 0.8996 - loss: 0.4850 - val_accuracy: 0.8483 - val_loss: 0.9806\n",
            "Epoch 29/50\n",
            "\u001b[1m311/311\u001b[0m \u001b[32m━━━━━━━━━━━━━━━━━━━━\u001b[0m\u001b[37m\u001b[0m \u001b[1m3s\u001b[0m 10ms/step - accuracy: 0.9001 - loss: 0.4822 - val_accuracy: 0.8493 - val_loss: 0.9846\n",
            "Epoch 30/50\n",
            "\u001b[1m311/311\u001b[0m \u001b[32m━━━━━━━━━━━━━━━━━━━━\u001b[0m\u001b[37m\u001b[0m \u001b[1m5s\u001b[0m 11ms/step - accuracy: 0.9008 - loss: 0.4755 - val_accuracy: 0.8488 - val_loss: 0.9924\n",
            "Epoch 31/50\n",
            "\u001b[1m311/311\u001b[0m \u001b[32m━━━━━━━━━━━━━━━━━━━━\u001b[0m\u001b[37m\u001b[0m \u001b[1m5s\u001b[0m 11ms/step - accuracy: 0.9026 - loss: 0.4684 - val_accuracy: 0.8484 - val_loss: 0.9978\n",
            "Epoch 32/50\n",
            "\u001b[1m311/311\u001b[0m \u001b[32m━━━━━━━━━━━━━━━━━━━━\u001b[0m\u001b[37m\u001b[0m \u001b[1m3s\u001b[0m 10ms/step - accuracy: 0.9035 - loss: 0.4641 - val_accuracy: 0.8484 - val_loss: 1.0036\n",
            "Epoch 33/50\n",
            "\u001b[1m311/311\u001b[0m \u001b[32m━━━━━━━━━━━━━━━━━━━━\u001b[0m\u001b[37m\u001b[0m \u001b[1m3s\u001b[0m 10ms/step - accuracy: 0.9045 - loss: 0.4565 - val_accuracy: 0.8481 - val_loss: 1.0079\n",
            "Epoch 34/50\n",
            "\u001b[1m311/311\u001b[0m \u001b[32m━━━━━━━━━━━━━━━━━━━━\u001b[0m\u001b[37m\u001b[0m \u001b[1m3s\u001b[0m 11ms/step - accuracy: 0.9050 - loss: 0.4530 - val_accuracy: 0.8490 - val_loss: 1.0122\n",
            "Epoch 35/50\n",
            "\u001b[1m311/311\u001b[0m \u001b[32m━━━━━━━━━━━━━━━━━━━━\u001b[0m\u001b[37m\u001b[0m \u001b[1m5s\u001b[0m 10ms/step - accuracy: 0.9068 - loss: 0.4458 - val_accuracy: 0.8480 - val_loss: 1.0190\n",
            "Epoch 36/50\n",
            "\u001b[1m311/311\u001b[0m \u001b[32m━━━━━━━━━━━━━━━━━━━━\u001b[0m\u001b[37m\u001b[0m \u001b[1m5s\u001b[0m 11ms/step - accuracy: 0.9065 - loss: 0.4454 - val_accuracy: 0.8481 - val_loss: 1.0237\n",
            "Epoch 37/50\n",
            "\u001b[1m311/311\u001b[0m \u001b[32m━━━━━━━━━━━━━━━━━━━━\u001b[0m\u001b[37m\u001b[0m \u001b[1m5s\u001b[0m 10ms/step - accuracy: 0.9073 - loss: 0.4398 - val_accuracy: 0.8479 - val_loss: 1.0298\n",
            "Epoch 38/50\n",
            "\u001b[1m311/311\u001b[0m \u001b[32m━━━━━━━━━━━━━━━━━━━━\u001b[0m\u001b[37m\u001b[0m \u001b[1m3s\u001b[0m 10ms/step - accuracy: 0.9079 - loss: 0.4366 - val_accuracy: 0.8476 - val_loss: 1.0357\n",
            "Epoch 39/50\n",
            "\u001b[1m311/311\u001b[0m \u001b[32m━━━━━━━━━━━━━━━━━━━━\u001b[0m\u001b[37m\u001b[0m \u001b[1m3s\u001b[0m 11ms/step - accuracy: 0.9082 - loss: 0.4329 - val_accuracy: 0.8483 - val_loss: 1.0398\n",
            "Epoch 40/50\n",
            "\u001b[1m311/311\u001b[0m \u001b[32m━━━━━━━━━━━━━━━━━━━━\u001b[0m\u001b[37m\u001b[0m \u001b[1m3s\u001b[0m 11ms/step - accuracy: 0.9093 - loss: 0.4296 - val_accuracy: 0.8478 - val_loss: 1.0464\n",
            "Epoch 41/50\n",
            "\u001b[1m311/311\u001b[0m \u001b[32m━━━━━━━━━━━━━━━━━━━━\u001b[0m\u001b[37m\u001b[0m \u001b[1m5s\u001b[0m 10ms/step - accuracy: 0.9104 - loss: 0.4242 - val_accuracy: 0.8479 - val_loss: 1.0526\n",
            "Epoch 42/50\n",
            "\u001b[1m311/311\u001b[0m \u001b[32m━━━━━━━━━━━━━━━━━━━━\u001b[0m\u001b[37m\u001b[0m \u001b[1m3s\u001b[0m 10ms/step - accuracy: 0.9105 - loss: 0.4205 - val_accuracy: 0.8474 - val_loss: 1.0568\n",
            "Epoch 43/50\n",
            "\u001b[1m311/311\u001b[0m \u001b[32m━━━━━━━━━━━━━━━━━━━━\u001b[0m\u001b[37m\u001b[0m \u001b[1m3s\u001b[0m 11ms/step - accuracy: 0.9100 - loss: 0.4223 - val_accuracy: 0.8474 - val_loss: 1.0615\n",
            "Epoch 44/50\n",
            "\u001b[1m311/311\u001b[0m \u001b[32m━━━━━━━━━━━━━━━━━━━━\u001b[0m\u001b[37m\u001b[0m \u001b[1m5s\u001b[0m 11ms/step - accuracy: 0.9121 - loss: 0.4165 - val_accuracy: 0.8473 - val_loss: 1.0670\n",
            "Epoch 45/50\n",
            "\u001b[1m311/311\u001b[0m \u001b[32m━━━━━━━━━━━━━━━━━━━━\u001b[0m\u001b[37m\u001b[0m \u001b[1m3s\u001b[0m 11ms/step - accuracy: 0.9125 - loss: 0.4146 - val_accuracy: 0.8473 - val_loss: 1.0713\n",
            "Epoch 46/50\n",
            "\u001b[1m311/311\u001b[0m \u001b[32m━━━━━━━━━━━━━━━━━━━━\u001b[0m\u001b[37m\u001b[0m \u001b[1m3s\u001b[0m 10ms/step - accuracy: 0.9127 - loss: 0.4099 - val_accuracy: 0.8465 - val_loss: 1.0751\n",
            "Epoch 47/50\n",
            "\u001b[1m311/311\u001b[0m \u001b[32m━━━━━━━━━━━━━━━━━━━━\u001b[0m\u001b[37m\u001b[0m \u001b[1m3s\u001b[0m 10ms/step - accuracy: 0.9127 - loss: 0.4089 - val_accuracy: 0.8468 - val_loss: 1.0806\n",
            "Epoch 48/50\n",
            "\u001b[1m311/311\u001b[0m \u001b[32m━━━━━━━━━━━━━━━━━━━━\u001b[0m\u001b[37m\u001b[0m \u001b[1m3s\u001b[0m 10ms/step - accuracy: 0.9133 - loss: 0.4061 - val_accuracy: 0.8465 - val_loss: 1.0866\n",
            "Epoch 49/50\n",
            "\u001b[1m311/311\u001b[0m \u001b[32m━━━━━━━━━━━━━━━━━━━━\u001b[0m\u001b[37m\u001b[0m \u001b[1m5s\u001b[0m 11ms/step - accuracy: 0.9136 - loss: 0.4039 - val_accuracy: 0.8469 - val_loss: 1.0900\n",
            "Epoch 50/50\n",
            "\u001b[1m311/311\u001b[0m \u001b[32m━━━━━━━━━━━━━━━━━━━━\u001b[0m\u001b[37m\u001b[0m \u001b[1m5s\u001b[0m 11ms/step - accuracy: 0.9134 - loss: 0.4018 - val_accuracy: 0.8464 - val_loss: 1.0951\n"
          ]
        }
      ]
    },
    {
      "cell_type": "markdown",
      "source": [
        "**BIDIRECTIONAL RNN**"
      ],
      "metadata": {
        "id": "Gsm15UBWLSIq"
      }
    },
    {
      "cell_type": "code",
      "source": [
        "from tensorflow.keras.layers import Bidirectional, LSTM\n",
        "\n",
        "def build_birnn_seq2seq():\n",
        "    # Encoder\n",
        "    encoder_inputs = Input(shape=(MAX_LEN_EN,))\n",
        "    encoder_embedding = Embedding(en_vocab_size, 128)(encoder_inputs)\n",
        "\n",
        "    # Use Bidirectional LSTM for the encoder\n",
        "    encoder_output, forward_state, backward_state, forward_cstate, backward_cstate = Bidirectional(LSTM(128, return_state=True))(encoder_embedding)\n",
        "    state = [forward_state, backward_state]  # We need both forward and backward states\n",
        "\n",
        "    # Decoder\n",
        "    decoder_inputs = Input(shape=(MAX_LEN_UR,))\n",
        "    decoder_embedding = Embedding(ur_vocab_size, 128)(decoder_inputs)\n",
        "    decoder_output = LSTM(128, return_sequences=True)(decoder_embedding, initial_state=state)\n",
        "    outputs = Dense(ur_vocab_size, activation='softmax')(decoder_output)\n",
        "\n",
        "    model = Model([encoder_inputs, decoder_inputs], outputs)\n",
        "    model.compile(optimizer='adam', loss='sparse_categorical_crossentropy', metrics=['accuracy'])\n",
        "    return model\n",
        "\n",
        "# Build and summarize the BiRNN model\n",
        "rnn_model_birnn = build_birnn_seq2seq()\n",
        "rnn_model_birnn.summary()\n"
      ],
      "metadata": {
        "colab": {
          "base_uri": "https://localhost:8080/",
          "height": 513
        },
        "id": "DfbcnsoCKc_F",
        "outputId": "14220932-e025-47c5-dc90-af0a61781fef"
      },
      "execution_count": 7,
      "outputs": [
        {
          "output_type": "display_data",
          "data": {
            "text/plain": [
              "\u001b[1mModel: \"functional_1\"\u001b[0m\n"
            ],
            "text/html": [
              "<pre style=\"white-space:pre;overflow-x:auto;line-height:normal;font-family:Menlo,'DejaVu Sans Mono',consolas,'Courier New',monospace\"><span style=\"font-weight: bold\">Model: \"functional_1\"</span>\n",
              "</pre>\n"
            ]
          },
          "metadata": {}
        },
        {
          "output_type": "display_data",
          "data": {
            "text/plain": [
              "┏━━━━━━━━━━━━━━━━━━━━━┳━━━━━━━━━━━━━━━━━━━┳━━━━━━━━━━━━┳━━━━━━━━━━━━━━━━━━━┓\n",
              "┃\u001b[1m \u001b[0m\u001b[1mLayer (type)       \u001b[0m\u001b[1m \u001b[0m┃\u001b[1m \u001b[0m\u001b[1mOutput Shape     \u001b[0m\u001b[1m \u001b[0m┃\u001b[1m \u001b[0m\u001b[1m   Param #\u001b[0m\u001b[1m \u001b[0m┃\u001b[1m \u001b[0m\u001b[1mConnected to     \u001b[0m\u001b[1m \u001b[0m┃\n",
              "┡━━━━━━━━━━━━━━━━━━━━━╇━━━━━━━━━━━━━━━━━━━╇━━━━━━━━━━━━╇━━━━━━━━━━━━━━━━━━━┩\n",
              "│ input_layer_2       │ (\u001b[38;5;45mNone\u001b[0m, \u001b[38;5;34m20\u001b[0m)        │          \u001b[38;5;34m0\u001b[0m │ -                 │\n",
              "│ (\u001b[38;5;33mInputLayer\u001b[0m)        │                   │            │                   │\n",
              "├─────────────────────┼───────────────────┼────────────┼───────────────────┤\n",
              "│ input_layer_3       │ (\u001b[38;5;45mNone\u001b[0m, \u001b[38;5;34m20\u001b[0m)        │          \u001b[38;5;34m0\u001b[0m │ -                 │\n",
              "│ (\u001b[38;5;33mInputLayer\u001b[0m)        │                   │            │                   │\n",
              "├─────────────────────┼───────────────────┼────────────┼───────────────────┤\n",
              "│ embedding_2         │ (\u001b[38;5;45mNone\u001b[0m, \u001b[38;5;34m20\u001b[0m, \u001b[38;5;34m128\u001b[0m)   │    \u001b[38;5;34m726,912\u001b[0m │ input_layer_2[\u001b[38;5;34m0\u001b[0m]… │\n",
              "│ (\u001b[38;5;33mEmbedding\u001b[0m)         │                   │            │                   │\n",
              "├─────────────────────┼───────────────────┼────────────┼───────────────────┤\n",
              "│ embedding_3         │ (\u001b[38;5;45mNone\u001b[0m, \u001b[38;5;34m20\u001b[0m, \u001b[38;5;34m128\u001b[0m)   │    \u001b[38;5;34m759,040\u001b[0m │ input_layer_3[\u001b[38;5;34m0\u001b[0m]… │\n",
              "│ (\u001b[38;5;33mEmbedding\u001b[0m)         │                   │            │                   │\n",
              "├─────────────────────┼───────────────────┼────────────┼───────────────────┤\n",
              "│ bidirectional       │ [(\u001b[38;5;45mNone\u001b[0m, \u001b[38;5;34m256\u001b[0m),     │    \u001b[38;5;34m263,168\u001b[0m │ embedding_2[\u001b[38;5;34m0\u001b[0m][\u001b[38;5;34m0\u001b[0m] │\n",
              "│ (\u001b[38;5;33mBidirectional\u001b[0m)     │ (\u001b[38;5;45mNone\u001b[0m, \u001b[38;5;34m128\u001b[0m),      │            │                   │\n",
              "│                     │ (\u001b[38;5;45mNone\u001b[0m, \u001b[38;5;34m128\u001b[0m),      │            │                   │\n",
              "│                     │ (\u001b[38;5;45mNone\u001b[0m, \u001b[38;5;34m128\u001b[0m),      │            │                   │\n",
              "│                     │ (\u001b[38;5;45mNone\u001b[0m, \u001b[38;5;34m128\u001b[0m)]      │            │                   │\n",
              "├─────────────────────┼───────────────────┼────────────┼───────────────────┤\n",
              "│ lstm_1 (\u001b[38;5;33mLSTM\u001b[0m)       │ (\u001b[38;5;45mNone\u001b[0m, \u001b[38;5;34m20\u001b[0m, \u001b[38;5;34m128\u001b[0m)   │    \u001b[38;5;34m131,584\u001b[0m │ embedding_3[\u001b[38;5;34m0\u001b[0m][\u001b[38;5;34m0\u001b[0m… │\n",
              "│                     │                   │            │ bidirectional[\u001b[38;5;34m0\u001b[0m]… │\n",
              "│                     │                   │            │ bidirectional[\u001b[38;5;34m0\u001b[0m]… │\n",
              "├─────────────────────┼───────────────────┼────────────┼───────────────────┤\n",
              "│ dense_1 (\u001b[38;5;33mDense\u001b[0m)     │ (\u001b[38;5;45mNone\u001b[0m, \u001b[38;5;34m20\u001b[0m, \u001b[38;5;34m5930\u001b[0m)  │    \u001b[38;5;34m764,970\u001b[0m │ lstm_1[\u001b[38;5;34m0\u001b[0m][\u001b[38;5;34m0\u001b[0m]      │\n",
              "└─────────────────────┴───────────────────┴────────────┴───────────────────┘\n"
            ],
            "text/html": [
              "<pre style=\"white-space:pre;overflow-x:auto;line-height:normal;font-family:Menlo,'DejaVu Sans Mono',consolas,'Courier New',monospace\">┏━━━━━━━━━━━━━━━━━━━━━┳━━━━━━━━━━━━━━━━━━━┳━━━━━━━━━━━━┳━━━━━━━━━━━━━━━━━━━┓\n",
              "┃<span style=\"font-weight: bold\"> Layer (type)        </span>┃<span style=\"font-weight: bold\"> Output Shape      </span>┃<span style=\"font-weight: bold\">    Param # </span>┃<span style=\"font-weight: bold\"> Connected to      </span>┃\n",
              "┡━━━━━━━━━━━━━━━━━━━━━╇━━━━━━━━━━━━━━━━━━━╇━━━━━━━━━━━━╇━━━━━━━━━━━━━━━━━━━┩\n",
              "│ input_layer_2       │ (<span style=\"color: #00d7ff; text-decoration-color: #00d7ff\">None</span>, <span style=\"color: #00af00; text-decoration-color: #00af00\">20</span>)        │          <span style=\"color: #00af00; text-decoration-color: #00af00\">0</span> │ -                 │\n",
              "│ (<span style=\"color: #0087ff; text-decoration-color: #0087ff\">InputLayer</span>)        │                   │            │                   │\n",
              "├─────────────────────┼───────────────────┼────────────┼───────────────────┤\n",
              "│ input_layer_3       │ (<span style=\"color: #00d7ff; text-decoration-color: #00d7ff\">None</span>, <span style=\"color: #00af00; text-decoration-color: #00af00\">20</span>)        │          <span style=\"color: #00af00; text-decoration-color: #00af00\">0</span> │ -                 │\n",
              "│ (<span style=\"color: #0087ff; text-decoration-color: #0087ff\">InputLayer</span>)        │                   │            │                   │\n",
              "├─────────────────────┼───────────────────┼────────────┼───────────────────┤\n",
              "│ embedding_2         │ (<span style=\"color: #00d7ff; text-decoration-color: #00d7ff\">None</span>, <span style=\"color: #00af00; text-decoration-color: #00af00\">20</span>, <span style=\"color: #00af00; text-decoration-color: #00af00\">128</span>)   │    <span style=\"color: #00af00; text-decoration-color: #00af00\">726,912</span> │ input_layer_2[<span style=\"color: #00af00; text-decoration-color: #00af00\">0</span>]… │\n",
              "│ (<span style=\"color: #0087ff; text-decoration-color: #0087ff\">Embedding</span>)         │                   │            │                   │\n",
              "├─────────────────────┼───────────────────┼────────────┼───────────────────┤\n",
              "│ embedding_3         │ (<span style=\"color: #00d7ff; text-decoration-color: #00d7ff\">None</span>, <span style=\"color: #00af00; text-decoration-color: #00af00\">20</span>, <span style=\"color: #00af00; text-decoration-color: #00af00\">128</span>)   │    <span style=\"color: #00af00; text-decoration-color: #00af00\">759,040</span> │ input_layer_3[<span style=\"color: #00af00; text-decoration-color: #00af00\">0</span>]… │\n",
              "│ (<span style=\"color: #0087ff; text-decoration-color: #0087ff\">Embedding</span>)         │                   │            │                   │\n",
              "├─────────────────────┼───────────────────┼────────────┼───────────────────┤\n",
              "│ bidirectional       │ [(<span style=\"color: #00d7ff; text-decoration-color: #00d7ff\">None</span>, <span style=\"color: #00af00; text-decoration-color: #00af00\">256</span>),     │    <span style=\"color: #00af00; text-decoration-color: #00af00\">263,168</span> │ embedding_2[<span style=\"color: #00af00; text-decoration-color: #00af00\">0</span>][<span style=\"color: #00af00; text-decoration-color: #00af00\">0</span>] │\n",
              "│ (<span style=\"color: #0087ff; text-decoration-color: #0087ff\">Bidirectional</span>)     │ (<span style=\"color: #00d7ff; text-decoration-color: #00d7ff\">None</span>, <span style=\"color: #00af00; text-decoration-color: #00af00\">128</span>),      │            │                   │\n",
              "│                     │ (<span style=\"color: #00d7ff; text-decoration-color: #00d7ff\">None</span>, <span style=\"color: #00af00; text-decoration-color: #00af00\">128</span>),      │            │                   │\n",
              "│                     │ (<span style=\"color: #00d7ff; text-decoration-color: #00d7ff\">None</span>, <span style=\"color: #00af00; text-decoration-color: #00af00\">128</span>),      │            │                   │\n",
              "│                     │ (<span style=\"color: #00d7ff; text-decoration-color: #00d7ff\">None</span>, <span style=\"color: #00af00; text-decoration-color: #00af00\">128</span>)]      │            │                   │\n",
              "├─────────────────────┼───────────────────┼────────────┼───────────────────┤\n",
              "│ lstm_1 (<span style=\"color: #0087ff; text-decoration-color: #0087ff\">LSTM</span>)       │ (<span style=\"color: #00d7ff; text-decoration-color: #00d7ff\">None</span>, <span style=\"color: #00af00; text-decoration-color: #00af00\">20</span>, <span style=\"color: #00af00; text-decoration-color: #00af00\">128</span>)   │    <span style=\"color: #00af00; text-decoration-color: #00af00\">131,584</span> │ embedding_3[<span style=\"color: #00af00; text-decoration-color: #00af00\">0</span>][<span style=\"color: #00af00; text-decoration-color: #00af00\">0</span>… │\n",
              "│                     │                   │            │ bidirectional[<span style=\"color: #00af00; text-decoration-color: #00af00\">0</span>]… │\n",
              "│                     │                   │            │ bidirectional[<span style=\"color: #00af00; text-decoration-color: #00af00\">0</span>]… │\n",
              "├─────────────────────┼───────────────────┼────────────┼───────────────────┤\n",
              "│ dense_1 (<span style=\"color: #0087ff; text-decoration-color: #0087ff\">Dense</span>)     │ (<span style=\"color: #00d7ff; text-decoration-color: #00d7ff\">None</span>, <span style=\"color: #00af00; text-decoration-color: #00af00\">20</span>, <span style=\"color: #00af00; text-decoration-color: #00af00\">5930</span>)  │    <span style=\"color: #00af00; text-decoration-color: #00af00\">764,970</span> │ lstm_1[<span style=\"color: #00af00; text-decoration-color: #00af00\">0</span>][<span style=\"color: #00af00; text-decoration-color: #00af00\">0</span>]      │\n",
              "└─────────────────────┴───────────────────┴────────────┴───────────────────┘\n",
              "</pre>\n"
            ]
          },
          "metadata": {}
        },
        {
          "output_type": "display_data",
          "data": {
            "text/plain": [
              "\u001b[1m Total params: \u001b[0m\u001b[38;5;34m2,645,674\u001b[0m (10.09 MB)\n"
            ],
            "text/html": [
              "<pre style=\"white-space:pre;overflow-x:auto;line-height:normal;font-family:Menlo,'DejaVu Sans Mono',consolas,'Courier New',monospace\"><span style=\"font-weight: bold\"> Total params: </span><span style=\"color: #00af00; text-decoration-color: #00af00\">2,645,674</span> (10.09 MB)\n",
              "</pre>\n"
            ]
          },
          "metadata": {}
        },
        {
          "output_type": "display_data",
          "data": {
            "text/plain": [
              "\u001b[1m Trainable params: \u001b[0m\u001b[38;5;34m2,645,674\u001b[0m (10.09 MB)\n"
            ],
            "text/html": [
              "<pre style=\"white-space:pre;overflow-x:auto;line-height:normal;font-family:Menlo,'DejaVu Sans Mono',consolas,'Courier New',monospace\"><span style=\"font-weight: bold\"> Trainable params: </span><span style=\"color: #00af00; text-decoration-color: #00af00\">2,645,674</span> (10.09 MB)\n",
              "</pre>\n"
            ]
          },
          "metadata": {}
        },
        {
          "output_type": "display_data",
          "data": {
            "text/plain": [
              "\u001b[1m Non-trainable params: \u001b[0m\u001b[38;5;34m0\u001b[0m (0.00 B)\n"
            ],
            "text/html": [
              "<pre style=\"white-space:pre;overflow-x:auto;line-height:normal;font-family:Menlo,'DejaVu Sans Mono',consolas,'Courier New',monospace\"><span style=\"font-weight: bold\"> Non-trainable params: </span><span style=\"color: #00af00; text-decoration-color: #00af00\">0</span> (0.00 B)\n",
              "</pre>\n"
            ]
          },
          "metadata": {}
        }
      ]
    },
    {
      "cell_type": "code",
      "source": [
        "# Prepare decoder input and target (shifted version of Urdu padded sequences)\n",
        "decoder_input_train = y_train[:, :-1]  # Exclude the last token\n",
        "decoder_input_train = pad_sequences(decoder_input_train, maxlen=MAX_LEN_UR, padding='post')\n",
        "\n",
        "decoder_target_train = y_train[:, 1:]  # Exclude the first token\n",
        "decoder_target_train = pad_sequences(decoder_target_train, maxlen=MAX_LEN_UR, padding='post')\n",
        "\n",
        "# Prepare decoder input for the test set\n",
        "decoder_input_test = y_test[:, :-1]\n",
        "decoder_input_test = pad_sequences(decoder_input_test, maxlen=MAX_LEN_UR, padding='post')\n"
      ],
      "metadata": {
        "id": "TghEF46aLclB"
      },
      "execution_count": 8,
      "outputs": []
    },
    {
      "cell_type": "code",
      "source": [
        "# Train the BiRNN model\n",
        "history_birnn = rnn_model_birnn.fit(\n",
        "    [X_train, decoder_input_train],  # encoder input and decoder input\n",
        "    decoder_target_train,            # decoder output (target)\n",
        "    epochs=50,\n",
        "    batch_size=64,\n",
        "    validation_split=0.1\n",
        ")\n"
      ],
      "metadata": {
        "colab": {
          "base_uri": "https://localhost:8080/"
        },
        "id": "lvI-282fL54D",
        "outputId": "ffffc046-22f2-4b0f-e792-64ef5040f9d5"
      },
      "execution_count": 9,
      "outputs": [
        {
          "output_type": "stream",
          "name": "stdout",
          "text": [
            "Epoch 1/50\n"
          ]
        },
        {
          "output_type": "stream",
          "name": "stderr",
          "text": [
            "/usr/local/lib/python3.11/dist-packages/keras/src/optimizers/base_optimizer.py:774: UserWarning: Gradients do not exist for variables ['bidirectional/backward_lstm/lstm_cell/kernel', 'bidirectional/backward_lstm/lstm_cell/recurrent_kernel', 'bidirectional/backward_lstm/lstm_cell/bias'] when minimizing the loss. If using `model.compile()`, did you forget to provide a `loss` argument?\n",
            "  warnings.warn(\n"
          ]
        },
        {
          "output_type": "stream",
          "name": "stdout",
          "text": [
            "\u001b[1m311/311\u001b[0m \u001b[32m━━━━━━━━━━━━━━━━━━━━\u001b[0m\u001b[37m\u001b[0m \u001b[1m12s\u001b[0m 24ms/step - accuracy: 0.7829 - loss: 2.9811 - val_accuracy: 0.8036 - val_loss: 1.2794\n",
            "Epoch 2/50\n",
            "\u001b[1m311/311\u001b[0m \u001b[32m━━━━━━━━━━━━━━━━━━━━\u001b[0m\u001b[37m\u001b[0m \u001b[1m7s\u001b[0m 22ms/step - accuracy: 0.8063 - loss: 1.2368 - val_accuracy: 0.8130 - val_loss: 1.1991\n",
            "Epoch 3/50\n",
            "\u001b[1m311/311\u001b[0m \u001b[32m━━━━━━━━━━━━━━━━━━━━\u001b[0m\u001b[37m\u001b[0m \u001b[1m10s\u001b[0m 22ms/step - accuracy: 0.8167 - loss: 1.1535 - val_accuracy: 0.8189 - val_loss: 1.1439\n",
            "Epoch 4/50\n",
            "\u001b[1m311/311\u001b[0m \u001b[32m━━━━━━━━━━━━━━━━━━━━\u001b[0m\u001b[37m\u001b[0m \u001b[1m10s\u001b[0m 22ms/step - accuracy: 0.8206 - loss: 1.1029 - val_accuracy: 0.8239 - val_loss: 1.1021\n",
            "Epoch 5/50\n",
            "\u001b[1m311/311\u001b[0m \u001b[32m━━━━━━━━━━━━━━━━━━━━\u001b[0m\u001b[37m\u001b[0m \u001b[1m10s\u001b[0m 21ms/step - accuracy: 0.8292 - loss: 1.0395 - val_accuracy: 0.8321 - val_loss: 1.0427\n",
            "Epoch 6/50\n",
            "\u001b[1m311/311\u001b[0m \u001b[32m━━━━━━━━━━━━━━━━━━━━\u001b[0m\u001b[37m\u001b[0m \u001b[1m7s\u001b[0m 21ms/step - accuracy: 0.8378 - loss: 0.9709 - val_accuracy: 0.8411 - val_loss: 0.9750\n",
            "Epoch 7/50\n",
            "\u001b[1m311/311\u001b[0m \u001b[32m━━━━━━━━━━━━━━━━━━━━\u001b[0m\u001b[37m\u001b[0m \u001b[1m7s\u001b[0m 21ms/step - accuracy: 0.8494 - loss: 0.8849 - val_accuracy: 0.8482 - val_loss: 0.9156\n",
            "Epoch 8/50\n",
            "\u001b[1m311/311\u001b[0m \u001b[32m━━━━━━━━━━━━━━━━━━━━\u001b[0m\u001b[37m\u001b[0m \u001b[1m10s\u001b[0m 22ms/step - accuracy: 0.8591 - loss: 0.8115 - val_accuracy: 0.8537 - val_loss: 0.8711\n",
            "Epoch 9/50\n",
            "\u001b[1m311/311\u001b[0m \u001b[32m━━━━━━━━━━━━━━━━━━━━\u001b[0m\u001b[37m\u001b[0m \u001b[1m10s\u001b[0m 22ms/step - accuracy: 0.8663 - loss: 0.7498 - val_accuracy: 0.8594 - val_loss: 0.8371\n",
            "Epoch 10/50\n",
            "\u001b[1m311/311\u001b[0m \u001b[32m━━━━━━━━━━━━━━━━━━━━\u001b[0m\u001b[37m\u001b[0m \u001b[1m10s\u001b[0m 22ms/step - accuracy: 0.8726 - loss: 0.6982 - val_accuracy: 0.8636 - val_loss: 0.8048\n",
            "Epoch 11/50\n",
            "\u001b[1m311/311\u001b[0m \u001b[32m━━━━━━━━━━━━━━━━━━━━\u001b[0m\u001b[37m\u001b[0m \u001b[1m10s\u001b[0m 22ms/step - accuracy: 0.8790 - loss: 0.6474 - val_accuracy: 0.8661 - val_loss: 0.7795\n",
            "Epoch 12/50\n",
            "\u001b[1m311/311\u001b[0m \u001b[32m━━━━━━━━━━━━━━━━━━━━\u001b[0m\u001b[37m\u001b[0m \u001b[1m10s\u001b[0m 22ms/step - accuracy: 0.8853 - loss: 0.5990 - val_accuracy: 0.8696 - val_loss: 0.7588\n",
            "Epoch 13/50\n",
            "\u001b[1m311/311\u001b[0m \u001b[32m━━━━━━━━━━━━━━━━━━━━\u001b[0m\u001b[37m\u001b[0m \u001b[1m10s\u001b[0m 23ms/step - accuracy: 0.8911 - loss: 0.5555 - val_accuracy: 0.8732 - val_loss: 0.7384\n",
            "Epoch 14/50\n",
            "\u001b[1m311/311\u001b[0m \u001b[32m━━━━━━━━━━━━━━━━━━━━\u001b[0m\u001b[37m\u001b[0m \u001b[1m7s\u001b[0m 21ms/step - accuracy: 0.8959 - loss: 0.5186 - val_accuracy: 0.8752 - val_loss: 0.7220\n",
            "Epoch 15/50\n",
            "\u001b[1m311/311\u001b[0m \u001b[32m━━━━━━━━━━━━━━━━━━━━\u001b[0m\u001b[37m\u001b[0m \u001b[1m7s\u001b[0m 22ms/step - accuracy: 0.9030 - loss: 0.4743 - val_accuracy: 0.8777 - val_loss: 0.7074\n",
            "Epoch 16/50\n",
            "\u001b[1m311/311\u001b[0m \u001b[32m━━━━━━━━━━━━━━━━━━━━\u001b[0m\u001b[37m\u001b[0m \u001b[1m7s\u001b[0m 22ms/step - accuracy: 0.9088 - loss: 0.4391 - val_accuracy: 0.8800 - val_loss: 0.6938\n",
            "Epoch 17/50\n",
            "\u001b[1m311/311\u001b[0m \u001b[32m━━━━━━━━━━━━━━━━━━━━\u001b[0m\u001b[37m\u001b[0m \u001b[1m10s\u001b[0m 22ms/step - accuracy: 0.9142 - loss: 0.4059 - val_accuracy: 0.8820 - val_loss: 0.6841\n",
            "Epoch 18/50\n",
            "\u001b[1m311/311\u001b[0m \u001b[32m━━━━━━━━━━━━━━━━━━━━\u001b[0m\u001b[37m\u001b[0m \u001b[1m10s\u001b[0m 22ms/step - accuracy: 0.9201 - loss: 0.3736 - val_accuracy: 0.8836 - val_loss: 0.6755\n",
            "Epoch 19/50\n",
            "\u001b[1m311/311\u001b[0m \u001b[32m━━━━━━━━━━━━━━━━━━━━\u001b[0m\u001b[37m\u001b[0m \u001b[1m10s\u001b[0m 22ms/step - accuracy: 0.9253 - loss: 0.3459 - val_accuracy: 0.8853 - val_loss: 0.6681\n",
            "Epoch 20/50\n",
            "\u001b[1m311/311\u001b[0m \u001b[32m━━━━━━━━━━━━━━━━━━━━\u001b[0m\u001b[37m\u001b[0m \u001b[1m10s\u001b[0m 22ms/step - accuracy: 0.9316 - loss: 0.3168 - val_accuracy: 0.8882 - val_loss: 0.6599\n",
            "Epoch 21/50\n",
            "\u001b[1m311/311\u001b[0m \u001b[32m━━━━━━━━━━━━━━━━━━━━\u001b[0m\u001b[37m\u001b[0m \u001b[1m10s\u001b[0m 22ms/step - accuracy: 0.9362 - loss: 0.2940 - val_accuracy: 0.8887 - val_loss: 0.6557\n",
            "Epoch 22/50\n",
            "\u001b[1m311/311\u001b[0m \u001b[32m━━━━━━━━━━━━━━━━━━━━\u001b[0m\u001b[37m\u001b[0m \u001b[1m10s\u001b[0m 22ms/step - accuracy: 0.9420 - loss: 0.2686 - val_accuracy: 0.8906 - val_loss: 0.6513\n",
            "Epoch 23/50\n",
            "\u001b[1m311/311\u001b[0m \u001b[32m━━━━━━━━━━━━━━━━━━━━\u001b[0m\u001b[37m\u001b[0m \u001b[1m7s\u001b[0m 21ms/step - accuracy: 0.9462 - loss: 0.2486 - val_accuracy: 0.8916 - val_loss: 0.6488\n",
            "Epoch 24/50\n",
            "\u001b[1m311/311\u001b[0m \u001b[32m━━━━━━━━━━━━━━━━━━━━\u001b[0m\u001b[37m\u001b[0m \u001b[1m10s\u001b[0m 21ms/step - accuracy: 0.9511 - loss: 0.2295 - val_accuracy: 0.8916 - val_loss: 0.6499\n",
            "Epoch 25/50\n",
            "\u001b[1m311/311\u001b[0m \u001b[32m━━━━━━━━━━━━━━━━━━━━\u001b[0m\u001b[37m\u001b[0m \u001b[1m10s\u001b[0m 21ms/step - accuracy: 0.9559 - loss: 0.2078 - val_accuracy: 0.8935 - val_loss: 0.6482\n",
            "Epoch 26/50\n",
            "\u001b[1m311/311\u001b[0m \u001b[32m━━━━━━━━━━━━━━━━━━━━\u001b[0m\u001b[37m\u001b[0m \u001b[1m7s\u001b[0m 22ms/step - accuracy: 0.9592 - loss: 0.1939 - val_accuracy: 0.8941 - val_loss: 0.6479\n",
            "Epoch 27/50\n",
            "\u001b[1m311/311\u001b[0m \u001b[32m━━━━━━━━━━━━━━━━━━━━\u001b[0m\u001b[37m\u001b[0m \u001b[1m7s\u001b[0m 21ms/step - accuracy: 0.9632 - loss: 0.1788 - val_accuracy: 0.8945 - val_loss: 0.6494\n",
            "Epoch 28/50\n",
            "\u001b[1m311/311\u001b[0m \u001b[32m━━━━━━━━━━━━━━━━━━━━\u001b[0m\u001b[37m\u001b[0m \u001b[1m10s\u001b[0m 21ms/step - accuracy: 0.9660 - loss: 0.1664 - val_accuracy: 0.8941 - val_loss: 0.6517\n",
            "Epoch 29/50\n",
            "\u001b[1m311/311\u001b[0m \u001b[32m━━━━━━━━━━━━━━━━━━━━\u001b[0m\u001b[37m\u001b[0m \u001b[1m7s\u001b[0m 22ms/step - accuracy: 0.9693 - loss: 0.1520 - val_accuracy: 0.8950 - val_loss: 0.6539\n",
            "Epoch 30/50\n",
            "\u001b[1m311/311\u001b[0m \u001b[32m━━━━━━━━━━━━━━━━━━━━\u001b[0m\u001b[37m\u001b[0m \u001b[1m10s\u001b[0m 23ms/step - accuracy: 0.9715 - loss: 0.1404 - val_accuracy: 0.8960 - val_loss: 0.6564\n",
            "Epoch 31/50\n",
            "\u001b[1m311/311\u001b[0m \u001b[32m━━━━━━━━━━━━━━━━━━━━\u001b[0m\u001b[37m\u001b[0m \u001b[1m10s\u001b[0m 22ms/step - accuracy: 0.9743 - loss: 0.1294 - val_accuracy: 0.8956 - val_loss: 0.6580\n",
            "Epoch 32/50\n",
            "\u001b[1m311/311\u001b[0m \u001b[32m━━━━━━━━━━━━━━━━━━━━\u001b[0m\u001b[37m\u001b[0m \u001b[1m10s\u001b[0m 21ms/step - accuracy: 0.9764 - loss: 0.1191 - val_accuracy: 0.8968 - val_loss: 0.6642\n",
            "Epoch 33/50\n",
            "\u001b[1m311/311\u001b[0m \u001b[32m━━━━━━━━━━━━━━━━━━━━\u001b[0m\u001b[37m\u001b[0m \u001b[1m11s\u001b[0m 22ms/step - accuracy: 0.9781 - loss: 0.1114 - val_accuracy: 0.8962 - val_loss: 0.6676\n",
            "Epoch 34/50\n",
            "\u001b[1m311/311\u001b[0m \u001b[32m━━━━━━━━━━━━━━━━━━━━\u001b[0m\u001b[37m\u001b[0m \u001b[1m10s\u001b[0m 21ms/step - accuracy: 0.9808 - loss: 0.1018 - val_accuracy: 0.8966 - val_loss: 0.6724\n",
            "Epoch 35/50\n",
            "\u001b[1m311/311\u001b[0m \u001b[32m━━━━━━━━━━━━━━━━━━━━\u001b[0m\u001b[37m\u001b[0m \u001b[1m10s\u001b[0m 22ms/step - accuracy: 0.9820 - loss: 0.0945 - val_accuracy: 0.8961 - val_loss: 0.6767\n",
            "Epoch 36/50\n",
            "\u001b[1m311/311\u001b[0m \u001b[32m━━━━━━━━━━━━━━━━━━━━\u001b[0m\u001b[37m\u001b[0m \u001b[1m7s\u001b[0m 22ms/step - accuracy: 0.9835 - loss: 0.0884 - val_accuracy: 0.8963 - val_loss: 0.6816\n",
            "Epoch 37/50\n",
            "\u001b[1m311/311\u001b[0m \u001b[32m━━━━━━━━━━━━━━━━━━━━\u001b[0m\u001b[37m\u001b[0m \u001b[1m10s\u001b[0m 22ms/step - accuracy: 0.9850 - loss: 0.0806 - val_accuracy: 0.8967 - val_loss: 0.6880\n",
            "Epoch 38/50\n",
            "\u001b[1m311/311\u001b[0m \u001b[32m━━━━━━━━━━━━━━━━━━━━\u001b[0m\u001b[37m\u001b[0m \u001b[1m7s\u001b[0m 22ms/step - accuracy: 0.9865 - loss: 0.0750 - val_accuracy: 0.8965 - val_loss: 0.6921\n",
            "Epoch 39/50\n",
            "\u001b[1m311/311\u001b[0m \u001b[32m━━━━━━━━━━━━━━━━━━━━\u001b[0m\u001b[37m\u001b[0m \u001b[1m10s\u001b[0m 22ms/step - accuracy: 0.9877 - loss: 0.0699 - val_accuracy: 0.8958 - val_loss: 0.6985\n",
            "Epoch 40/50\n",
            "\u001b[1m311/311\u001b[0m \u001b[32m━━━━━━━━━━━━━━━━━━━━\u001b[0m\u001b[37m\u001b[0m \u001b[1m7s\u001b[0m 22ms/step - accuracy: 0.9885 - loss: 0.0653 - val_accuracy: 0.8966 - val_loss: 0.7028\n",
            "Epoch 41/50\n",
            "\u001b[1m311/311\u001b[0m \u001b[32m━━━━━━━━━━━━━━━━━━━━\u001b[0m\u001b[37m\u001b[0m \u001b[1m10s\u001b[0m 22ms/step - accuracy: 0.9899 - loss: 0.0603 - val_accuracy: 0.8967 - val_loss: 0.7085\n",
            "Epoch 42/50\n",
            "\u001b[1m311/311\u001b[0m \u001b[32m━━━━━━━━━━━━━━━━━━━━\u001b[0m\u001b[37m\u001b[0m \u001b[1m10s\u001b[0m 22ms/step - accuracy: 0.9905 - loss: 0.0561 - val_accuracy: 0.8958 - val_loss: 0.7107\n",
            "Epoch 43/50\n",
            "\u001b[1m311/311\u001b[0m \u001b[32m━━━━━━━━━━━━━━━━━━━━\u001b[0m\u001b[37m\u001b[0m \u001b[1m10s\u001b[0m 22ms/step - accuracy: 0.9914 - loss: 0.0514 - val_accuracy: 0.8966 - val_loss: 0.7199\n",
            "Epoch 44/50\n",
            "\u001b[1m311/311\u001b[0m \u001b[32m━━━━━━━━━━━━━━━━━━━━\u001b[0m\u001b[37m\u001b[0m \u001b[1m10s\u001b[0m 21ms/step - accuracy: 0.9927 - loss: 0.0472 - val_accuracy: 0.8969 - val_loss: 0.7292\n",
            "Epoch 45/50\n",
            "\u001b[1m311/311\u001b[0m \u001b[32m━━━━━━━━━━━━━━━━━━━━\u001b[0m\u001b[37m\u001b[0m \u001b[1m10s\u001b[0m 21ms/step - accuracy: 0.9932 - loss: 0.0439 - val_accuracy: 0.8952 - val_loss: 0.7368\n",
            "Epoch 46/50\n",
            "\u001b[1m311/311\u001b[0m \u001b[32m━━━━━━━━━━━━━━━━━━━━\u001b[0m\u001b[37m\u001b[0m \u001b[1m7s\u001b[0m 22ms/step - accuracy: 0.9938 - loss: 0.0407 - val_accuracy: 0.8966 - val_loss: 0.7376\n",
            "Epoch 47/50\n",
            "\u001b[1m311/311\u001b[0m \u001b[32m━━━━━━━━━━━━━━━━━━━━\u001b[0m\u001b[37m\u001b[0m \u001b[1m10s\u001b[0m 22ms/step - accuracy: 0.9942 - loss: 0.0385 - val_accuracy: 0.8961 - val_loss: 0.7474\n",
            "Epoch 48/50\n",
            "\u001b[1m311/311\u001b[0m \u001b[32m━━━━━━━━━━━━━━━━━━━━\u001b[0m\u001b[37m\u001b[0m \u001b[1m7s\u001b[0m 21ms/step - accuracy: 0.9945 - loss: 0.0359 - val_accuracy: 0.8966 - val_loss: 0.7529\n",
            "Epoch 49/50\n",
            "\u001b[1m311/311\u001b[0m \u001b[32m━━━━━━━━━━━━━━━━━━━━\u001b[0m\u001b[37m\u001b[0m \u001b[1m7s\u001b[0m 22ms/step - accuracy: 0.9952 - loss: 0.0332 - val_accuracy: 0.8968 - val_loss: 0.7590\n",
            "Epoch 50/50\n",
            "\u001b[1m311/311\u001b[0m \u001b[32m━━━━━━━━━━━━━━━━━━━━\u001b[0m\u001b[37m\u001b[0m \u001b[1m7s\u001b[0m 22ms/step - accuracy: 0.9958 - loss: 0.0310 - val_accuracy: 0.8966 - val_loss: 0.7638\n"
          ]
        }
      ]
    },
    {
      "cell_type": "markdown",
      "source": [
        "**LSTM**"
      ],
      "metadata": {
        "id": "IEEhPWdfNU8o"
      }
    },
    {
      "cell_type": "code",
      "source": [
        "from tensorflow.keras.models import Model\n",
        "from tensorflow.keras.layers import Input, Embedding, LSTM, Dense\n",
        "from tensorflow.keras.preprocessing.sequence import pad_sequences\n"
      ],
      "metadata": {
        "id": "NP4RJnlKNDCP"
      },
      "execution_count": 10,
      "outputs": []
    },
    {
      "cell_type": "code",
      "source": [
        "MAX_LEN_EN = 20  # Maximum length for English sentences\n",
        "MAX_LEN_UR = 20  # Maximum length for Urdu sentences\n",
        "\n",
        "# These values should already be defined based on your tokenization process\n",
        "en_vocab_size = len(en_tokenizer.word_index) + 1\n",
        "ur_vocab_size = len(ur_tokenizer.word_index) + 1\n"
      ],
      "metadata": {
        "id": "5vxE-FsGObho"
      },
      "execution_count": 11,
      "outputs": []
    },
    {
      "cell_type": "code",
      "source": [
        "# Prepare decoder input and target (shifted version of Urdu padded sequences)\n",
        "decoder_input_train = y_train[:, :-1]  # Exclude the last token\n",
        "decoder_input_train = pad_sequences(decoder_input_train, maxlen=MAX_LEN_UR, padding='post')\n",
        "\n",
        "decoder_target_train = y_train[:, 1:]  # Exclude the first token\n",
        "decoder_target_train = pad_sequences(decoder_target_train, maxlen=MAX_LEN_UR, padding='post')\n",
        "\n",
        "# Prepare decoder input for the test set\n",
        "decoder_input_test = y_test[:, :-1]\n",
        "decoder_input_test = pad_sequences(decoder_input_test, maxlen=MAX_LEN_UR, padding='post')\n"
      ],
      "metadata": {
        "id": "65A2_eIrOdf8"
      },
      "execution_count": 12,
      "outputs": []
    },
    {
      "cell_type": "code",
      "source": [
        "def build_lstm_seq2seq():\n",
        "    # Encoder\n",
        "    encoder_inputs = Input(shape=(MAX_LEN_EN,))\n",
        "    encoder_embedding = Embedding(en_vocab_size, 128)(encoder_inputs)\n",
        "\n",
        "    # Use LSTM for the encoder\n",
        "    encoder_lstm = LSTM(128, return_state=True)\n",
        "    encoder_output, state_h, state_c = encoder_lstm(encoder_embedding)\n",
        "    encoder_states = [state_h, state_c]  # Pass states to the decoder\n",
        "\n",
        "    # Decoder\n",
        "    decoder_inputs = Input(shape=(MAX_LEN_UR,))\n",
        "    decoder_embedding = Embedding(ur_vocab_size, 128)(decoder_inputs)\n",
        "\n",
        "    # Use LSTM for the decoder with initial states from the encoder\n",
        "    decoder_lstm = LSTM(128, return_sequences=True, return_state=True)\n",
        "    decoder_output, _, _ = decoder_lstm(decoder_embedding, initial_state=encoder_states)\n",
        "\n",
        "    # Dense layer to predict the next word\n",
        "    outputs = Dense(ur_vocab_size, activation='softmax')(decoder_output)\n",
        "\n",
        "    # Model\n",
        "    model = Model([encoder_inputs, decoder_inputs], outputs)\n",
        "    model.compile(optimizer='adam', loss='sparse_categorical_crossentropy', metrics=['accuracy'])\n",
        "    return model\n"
      ],
      "metadata": {
        "id": "Vd0EEgvhOfR7"
      },
      "execution_count": 13,
      "outputs": []
    },
    {
      "cell_type": "code",
      "source": [
        "lstm_model = build_lstm_seq2seq()\n",
        "lstm_model.summary()\n"
      ],
      "metadata": {
        "colab": {
          "base_uri": "https://localhost:8080/",
          "height": 481
        },
        "id": "HGCyWdo3OhnM",
        "outputId": "ac674489-51e8-4782-ebbf-bf7830425b96"
      },
      "execution_count": 14,
      "outputs": [
        {
          "output_type": "display_data",
          "data": {
            "text/plain": [
              "\u001b[1mModel: \"functional_2\"\u001b[0m\n"
            ],
            "text/html": [
              "<pre style=\"white-space:pre;overflow-x:auto;line-height:normal;font-family:Menlo,'DejaVu Sans Mono',consolas,'Courier New',monospace\"><span style=\"font-weight: bold\">Model: \"functional_2\"</span>\n",
              "</pre>\n"
            ]
          },
          "metadata": {}
        },
        {
          "output_type": "display_data",
          "data": {
            "text/plain": [
              "┏━━━━━━━━━━━━━━━━━━━━━┳━━━━━━━━━━━━━━━━━━━┳━━━━━━━━━━━━┳━━━━━━━━━━━━━━━━━━━┓\n",
              "┃\u001b[1m \u001b[0m\u001b[1mLayer (type)       \u001b[0m\u001b[1m \u001b[0m┃\u001b[1m \u001b[0m\u001b[1mOutput Shape     \u001b[0m\u001b[1m \u001b[0m┃\u001b[1m \u001b[0m\u001b[1m   Param #\u001b[0m\u001b[1m \u001b[0m┃\u001b[1m \u001b[0m\u001b[1mConnected to     \u001b[0m\u001b[1m \u001b[0m┃\n",
              "┡━━━━━━━━━━━━━━━━━━━━━╇━━━━━━━━━━━━━━━━━━━╇━━━━━━━━━━━━╇━━━━━━━━━━━━━━━━━━━┩\n",
              "│ input_layer_4       │ (\u001b[38;5;45mNone\u001b[0m, \u001b[38;5;34m20\u001b[0m)        │          \u001b[38;5;34m0\u001b[0m │ -                 │\n",
              "│ (\u001b[38;5;33mInputLayer\u001b[0m)        │                   │            │                   │\n",
              "├─────────────────────┼───────────────────┼────────────┼───────────────────┤\n",
              "│ input_layer_5       │ (\u001b[38;5;45mNone\u001b[0m, \u001b[38;5;34m20\u001b[0m)        │          \u001b[38;5;34m0\u001b[0m │ -                 │\n",
              "│ (\u001b[38;5;33mInputLayer\u001b[0m)        │                   │            │                   │\n",
              "├─────────────────────┼───────────────────┼────────────┼───────────────────┤\n",
              "│ embedding_4         │ (\u001b[38;5;45mNone\u001b[0m, \u001b[38;5;34m20\u001b[0m, \u001b[38;5;34m128\u001b[0m)   │    \u001b[38;5;34m726,912\u001b[0m │ input_layer_4[\u001b[38;5;34m0\u001b[0m]… │\n",
              "│ (\u001b[38;5;33mEmbedding\u001b[0m)         │                   │            │                   │\n",
              "├─────────────────────┼───────────────────┼────────────┼───────────────────┤\n",
              "│ embedding_5         │ (\u001b[38;5;45mNone\u001b[0m, \u001b[38;5;34m20\u001b[0m, \u001b[38;5;34m128\u001b[0m)   │    \u001b[38;5;34m759,040\u001b[0m │ input_layer_5[\u001b[38;5;34m0\u001b[0m]… │\n",
              "│ (\u001b[38;5;33mEmbedding\u001b[0m)         │                   │            │                   │\n",
              "├─────────────────────┼───────────────────┼────────────┼───────────────────┤\n",
              "│ lstm_2 (\u001b[38;5;33mLSTM\u001b[0m)       │ [(\u001b[38;5;45mNone\u001b[0m, \u001b[38;5;34m128\u001b[0m),     │    \u001b[38;5;34m131,584\u001b[0m │ embedding_4[\u001b[38;5;34m0\u001b[0m][\u001b[38;5;34m0\u001b[0m] │\n",
              "│                     │ (\u001b[38;5;45mNone\u001b[0m, \u001b[38;5;34m128\u001b[0m),      │            │                   │\n",
              "│                     │ (\u001b[38;5;45mNone\u001b[0m, \u001b[38;5;34m128\u001b[0m)]      │            │                   │\n",
              "├─────────────────────┼───────────────────┼────────────┼───────────────────┤\n",
              "│ lstm_3 (\u001b[38;5;33mLSTM\u001b[0m)       │ [(\u001b[38;5;45mNone\u001b[0m, \u001b[38;5;34m20\u001b[0m, \u001b[38;5;34m128\u001b[0m), │    \u001b[38;5;34m131,584\u001b[0m │ embedding_5[\u001b[38;5;34m0\u001b[0m][\u001b[38;5;34m0\u001b[0m… │\n",
              "│                     │ (\u001b[38;5;45mNone\u001b[0m, \u001b[38;5;34m128\u001b[0m),      │            │ lstm_2[\u001b[38;5;34m0\u001b[0m][\u001b[38;5;34m1\u001b[0m],     │\n",
              "│                     │ (\u001b[38;5;45mNone\u001b[0m, \u001b[38;5;34m128\u001b[0m)]      │            │ lstm_2[\u001b[38;5;34m0\u001b[0m][\u001b[38;5;34m2\u001b[0m]      │\n",
              "├─────────────────────┼───────────────────┼────────────┼───────────────────┤\n",
              "│ dense_2 (\u001b[38;5;33mDense\u001b[0m)     │ (\u001b[38;5;45mNone\u001b[0m, \u001b[38;5;34m20\u001b[0m, \u001b[38;5;34m5930\u001b[0m)  │    \u001b[38;5;34m764,970\u001b[0m │ lstm_3[\u001b[38;5;34m0\u001b[0m][\u001b[38;5;34m0\u001b[0m]      │\n",
              "└─────────────────────┴───────────────────┴────────────┴───────────────────┘\n"
            ],
            "text/html": [
              "<pre style=\"white-space:pre;overflow-x:auto;line-height:normal;font-family:Menlo,'DejaVu Sans Mono',consolas,'Courier New',monospace\">┏━━━━━━━━━━━━━━━━━━━━━┳━━━━━━━━━━━━━━━━━━━┳━━━━━━━━━━━━┳━━━━━━━━━━━━━━━━━━━┓\n",
              "┃<span style=\"font-weight: bold\"> Layer (type)        </span>┃<span style=\"font-weight: bold\"> Output Shape      </span>┃<span style=\"font-weight: bold\">    Param # </span>┃<span style=\"font-weight: bold\"> Connected to      </span>┃\n",
              "┡━━━━━━━━━━━━━━━━━━━━━╇━━━━━━━━━━━━━━━━━━━╇━━━━━━━━━━━━╇━━━━━━━━━━━━━━━━━━━┩\n",
              "│ input_layer_4       │ (<span style=\"color: #00d7ff; text-decoration-color: #00d7ff\">None</span>, <span style=\"color: #00af00; text-decoration-color: #00af00\">20</span>)        │          <span style=\"color: #00af00; text-decoration-color: #00af00\">0</span> │ -                 │\n",
              "│ (<span style=\"color: #0087ff; text-decoration-color: #0087ff\">InputLayer</span>)        │                   │            │                   │\n",
              "├─────────────────────┼───────────────────┼────────────┼───────────────────┤\n",
              "│ input_layer_5       │ (<span style=\"color: #00d7ff; text-decoration-color: #00d7ff\">None</span>, <span style=\"color: #00af00; text-decoration-color: #00af00\">20</span>)        │          <span style=\"color: #00af00; text-decoration-color: #00af00\">0</span> │ -                 │\n",
              "│ (<span style=\"color: #0087ff; text-decoration-color: #0087ff\">InputLayer</span>)        │                   │            │                   │\n",
              "├─────────────────────┼───────────────────┼────────────┼───────────────────┤\n",
              "│ embedding_4         │ (<span style=\"color: #00d7ff; text-decoration-color: #00d7ff\">None</span>, <span style=\"color: #00af00; text-decoration-color: #00af00\">20</span>, <span style=\"color: #00af00; text-decoration-color: #00af00\">128</span>)   │    <span style=\"color: #00af00; text-decoration-color: #00af00\">726,912</span> │ input_layer_4[<span style=\"color: #00af00; text-decoration-color: #00af00\">0</span>]… │\n",
              "│ (<span style=\"color: #0087ff; text-decoration-color: #0087ff\">Embedding</span>)         │                   │            │                   │\n",
              "├─────────────────────┼───────────────────┼────────────┼───────────────────┤\n",
              "│ embedding_5         │ (<span style=\"color: #00d7ff; text-decoration-color: #00d7ff\">None</span>, <span style=\"color: #00af00; text-decoration-color: #00af00\">20</span>, <span style=\"color: #00af00; text-decoration-color: #00af00\">128</span>)   │    <span style=\"color: #00af00; text-decoration-color: #00af00\">759,040</span> │ input_layer_5[<span style=\"color: #00af00; text-decoration-color: #00af00\">0</span>]… │\n",
              "│ (<span style=\"color: #0087ff; text-decoration-color: #0087ff\">Embedding</span>)         │                   │            │                   │\n",
              "├─────────────────────┼───────────────────┼────────────┼───────────────────┤\n",
              "│ lstm_2 (<span style=\"color: #0087ff; text-decoration-color: #0087ff\">LSTM</span>)       │ [(<span style=\"color: #00d7ff; text-decoration-color: #00d7ff\">None</span>, <span style=\"color: #00af00; text-decoration-color: #00af00\">128</span>),     │    <span style=\"color: #00af00; text-decoration-color: #00af00\">131,584</span> │ embedding_4[<span style=\"color: #00af00; text-decoration-color: #00af00\">0</span>][<span style=\"color: #00af00; text-decoration-color: #00af00\">0</span>] │\n",
              "│                     │ (<span style=\"color: #00d7ff; text-decoration-color: #00d7ff\">None</span>, <span style=\"color: #00af00; text-decoration-color: #00af00\">128</span>),      │            │                   │\n",
              "│                     │ (<span style=\"color: #00d7ff; text-decoration-color: #00d7ff\">None</span>, <span style=\"color: #00af00; text-decoration-color: #00af00\">128</span>)]      │            │                   │\n",
              "├─────────────────────┼───────────────────┼────────────┼───────────────────┤\n",
              "│ lstm_3 (<span style=\"color: #0087ff; text-decoration-color: #0087ff\">LSTM</span>)       │ [(<span style=\"color: #00d7ff; text-decoration-color: #00d7ff\">None</span>, <span style=\"color: #00af00; text-decoration-color: #00af00\">20</span>, <span style=\"color: #00af00; text-decoration-color: #00af00\">128</span>), │    <span style=\"color: #00af00; text-decoration-color: #00af00\">131,584</span> │ embedding_5[<span style=\"color: #00af00; text-decoration-color: #00af00\">0</span>][<span style=\"color: #00af00; text-decoration-color: #00af00\">0</span>… │\n",
              "│                     │ (<span style=\"color: #00d7ff; text-decoration-color: #00d7ff\">None</span>, <span style=\"color: #00af00; text-decoration-color: #00af00\">128</span>),      │            │ lstm_2[<span style=\"color: #00af00; text-decoration-color: #00af00\">0</span>][<span style=\"color: #00af00; text-decoration-color: #00af00\">1</span>],     │\n",
              "│                     │ (<span style=\"color: #00d7ff; text-decoration-color: #00d7ff\">None</span>, <span style=\"color: #00af00; text-decoration-color: #00af00\">128</span>)]      │            │ lstm_2[<span style=\"color: #00af00; text-decoration-color: #00af00\">0</span>][<span style=\"color: #00af00; text-decoration-color: #00af00\">2</span>]      │\n",
              "├─────────────────────┼───────────────────┼────────────┼───────────────────┤\n",
              "│ dense_2 (<span style=\"color: #0087ff; text-decoration-color: #0087ff\">Dense</span>)     │ (<span style=\"color: #00d7ff; text-decoration-color: #00d7ff\">None</span>, <span style=\"color: #00af00; text-decoration-color: #00af00\">20</span>, <span style=\"color: #00af00; text-decoration-color: #00af00\">5930</span>)  │    <span style=\"color: #00af00; text-decoration-color: #00af00\">764,970</span> │ lstm_3[<span style=\"color: #00af00; text-decoration-color: #00af00\">0</span>][<span style=\"color: #00af00; text-decoration-color: #00af00\">0</span>]      │\n",
              "└─────────────────────┴───────────────────┴────────────┴───────────────────┘\n",
              "</pre>\n"
            ]
          },
          "metadata": {}
        },
        {
          "output_type": "display_data",
          "data": {
            "text/plain": [
              "\u001b[1m Total params: \u001b[0m\u001b[38;5;34m2,514,090\u001b[0m (9.59 MB)\n"
            ],
            "text/html": [
              "<pre style=\"white-space:pre;overflow-x:auto;line-height:normal;font-family:Menlo,'DejaVu Sans Mono',consolas,'Courier New',monospace\"><span style=\"font-weight: bold\"> Total params: </span><span style=\"color: #00af00; text-decoration-color: #00af00\">2,514,090</span> (9.59 MB)\n",
              "</pre>\n"
            ]
          },
          "metadata": {}
        },
        {
          "output_type": "display_data",
          "data": {
            "text/plain": [
              "\u001b[1m Trainable params: \u001b[0m\u001b[38;5;34m2,514,090\u001b[0m (9.59 MB)\n"
            ],
            "text/html": [
              "<pre style=\"white-space:pre;overflow-x:auto;line-height:normal;font-family:Menlo,'DejaVu Sans Mono',consolas,'Courier New',monospace\"><span style=\"font-weight: bold\"> Trainable params: </span><span style=\"color: #00af00; text-decoration-color: #00af00\">2,514,090</span> (9.59 MB)\n",
              "</pre>\n"
            ]
          },
          "metadata": {}
        },
        {
          "output_type": "display_data",
          "data": {
            "text/plain": [
              "\u001b[1m Non-trainable params: \u001b[0m\u001b[38;5;34m0\u001b[0m (0.00 B)\n"
            ],
            "text/html": [
              "<pre style=\"white-space:pre;overflow-x:auto;line-height:normal;font-family:Menlo,'DejaVu Sans Mono',consolas,'Courier New',monospace\"><span style=\"font-weight: bold\"> Non-trainable params: </span><span style=\"color: #00af00; text-decoration-color: #00af00\">0</span> (0.00 B)\n",
              "</pre>\n"
            ]
          },
          "metadata": {}
        }
      ]
    },
    {
      "cell_type": "code",
      "source": [
        "history_lstm = lstm_model.fit(\n",
        "    [X_train, decoder_input_train],  # encoder input and decoder input\n",
        "    decoder_target_train,            # decoder output (target)\n",
        "    epochs=50,\n",
        "    batch_size=64,\n",
        "    validation_split=0.1\n",
        ")\n"
      ],
      "metadata": {
        "colab": {
          "base_uri": "https://localhost:8080/"
        },
        "id": "w2dVgS86OjfI",
        "outputId": "2a7d2455-be84-4ce2-ff1f-b8d07cefd62d"
      },
      "execution_count": 15,
      "outputs": [
        {
          "output_type": "stream",
          "name": "stdout",
          "text": [
            "Epoch 1/50\n",
            "\u001b[1m311/311\u001b[0m \u001b[32m━━━━━━━━━━━━━━━━━━━━\u001b[0m\u001b[37m\u001b[0m \u001b[1m9s\u001b[0m 23ms/step - accuracy: 0.7827 - loss: 3.0148 - val_accuracy: 0.8055 - val_loss: 1.2653\n",
            "Epoch 2/50\n",
            "\u001b[1m311/311\u001b[0m \u001b[32m━━━━━━━━━━━━━━━━━━━━\u001b[0m\u001b[37m\u001b[0m \u001b[1m7s\u001b[0m 22ms/step - accuracy: 0.8088 - loss: 1.2211 - val_accuracy: 0.8140 - val_loss: 1.1843\n",
            "Epoch 3/50\n",
            "\u001b[1m311/311\u001b[0m \u001b[32m━━━━━━━━━━━━━━━━━━━━\u001b[0m\u001b[37m\u001b[0m \u001b[1m10s\u001b[0m 22ms/step - accuracy: 0.8175 - loss: 1.1449 - val_accuracy: 0.8207 - val_loss: 1.1310\n",
            "Epoch 4/50\n",
            "\u001b[1m311/311\u001b[0m \u001b[32m━━━━━━━━━━━━━━━━━━━━\u001b[0m\u001b[37m\u001b[0m \u001b[1m10s\u001b[0m 22ms/step - accuracy: 0.8239 - loss: 1.0779 - val_accuracy: 0.8286 - val_loss: 1.0730\n",
            "Epoch 5/50\n",
            "\u001b[1m311/311\u001b[0m \u001b[32m━━━━━━━━━━━━━━━━━━━━\u001b[0m\u001b[37m\u001b[0m \u001b[1m10s\u001b[0m 21ms/step - accuracy: 0.8326 - loss: 1.0090 - val_accuracy: 0.8358 - val_loss: 1.0129\n",
            "Epoch 6/50\n",
            "\u001b[1m311/311\u001b[0m \u001b[32m━━━━━━━━━━━━━━━━━━━━\u001b[0m\u001b[37m\u001b[0m \u001b[1m10s\u001b[0m 21ms/step - accuracy: 0.8415 - loss: 0.9345 - val_accuracy: 0.8424 - val_loss: 0.9633\n",
            "Epoch 7/50\n",
            "\u001b[1m311/311\u001b[0m \u001b[32m━━━━━━━━━━━━━━━━━━━━\u001b[0m\u001b[37m\u001b[0m \u001b[1m10s\u001b[0m 22ms/step - accuracy: 0.8502 - loss: 0.8717 - val_accuracy: 0.8481 - val_loss: 0.9156\n",
            "Epoch 8/50\n",
            "\u001b[1m311/311\u001b[0m \u001b[32m━━━━━━━━━━━━━━━━━━━━\u001b[0m\u001b[37m\u001b[0m \u001b[1m7s\u001b[0m 23ms/step - accuracy: 0.8579 - loss: 0.8090 - val_accuracy: 0.8531 - val_loss: 0.8750\n",
            "Epoch 9/50\n",
            "\u001b[1m311/311\u001b[0m \u001b[32m━━━━━━━━━━━━━━━━━━━━\u001b[0m\u001b[37m\u001b[0m \u001b[1m7s\u001b[0m 22ms/step - accuracy: 0.8644 - loss: 0.7513 - val_accuracy: 0.8581 - val_loss: 0.8445\n",
            "Epoch 10/50\n",
            "\u001b[1m311/311\u001b[0m \u001b[32m━━━━━━━━━━━━━━━━━━━━\u001b[0m\u001b[37m\u001b[0m \u001b[1m7s\u001b[0m 21ms/step - accuracy: 0.8716 - loss: 0.7018 - val_accuracy: 0.8615 - val_loss: 0.8184\n",
            "Epoch 11/50\n",
            "\u001b[1m311/311\u001b[0m \u001b[32m━━━━━━━━━━━━━━━━━━━━\u001b[0m\u001b[37m\u001b[0m \u001b[1m7s\u001b[0m 22ms/step - accuracy: 0.8763 - loss: 0.6615 - val_accuracy: 0.8649 - val_loss: 0.7952\n",
            "Epoch 12/50\n",
            "\u001b[1m311/311\u001b[0m \u001b[32m━━━━━━━━━━━━━━━━━━━━\u001b[0m\u001b[37m\u001b[0m \u001b[1m7s\u001b[0m 22ms/step - accuracy: 0.8827 - loss: 0.6166 - val_accuracy: 0.8676 - val_loss: 0.7761\n",
            "Epoch 13/50\n",
            "\u001b[1m311/311\u001b[0m \u001b[32m━━━━━━━━━━━━━━━━━━━━\u001b[0m\u001b[37m\u001b[0m \u001b[1m10s\u001b[0m 22ms/step - accuracy: 0.8875 - loss: 0.5775 - val_accuracy: 0.8695 - val_loss: 0.7595\n",
            "Epoch 14/50\n",
            "\u001b[1m311/311\u001b[0m \u001b[32m━━━━━━━━━━━━━━━━━━━━\u001b[0m\u001b[37m\u001b[0m \u001b[1m10s\u001b[0m 22ms/step - accuracy: 0.8934 - loss: 0.5377 - val_accuracy: 0.8724 - val_loss: 0.7408\n",
            "Epoch 15/50\n",
            "\u001b[1m311/311\u001b[0m \u001b[32m━━━━━━━━━━━━━━━━━━━━\u001b[0m\u001b[37m\u001b[0m \u001b[1m7s\u001b[0m 22ms/step - accuracy: 0.8974 - loss: 0.5047 - val_accuracy: 0.8741 - val_loss: 0.7293\n",
            "Epoch 16/50\n",
            "\u001b[1m311/311\u001b[0m \u001b[32m━━━━━━━━━━━━━━━━━━━━\u001b[0m\u001b[37m\u001b[0m \u001b[1m10s\u001b[0m 21ms/step - accuracy: 0.9038 - loss: 0.4658 - val_accuracy: 0.8775 - val_loss: 0.7162\n",
            "Epoch 17/50\n",
            "\u001b[1m311/311\u001b[0m \u001b[32m━━━━━━━━━━━━━━━━━━━━\u001b[0m\u001b[37m\u001b[0m \u001b[1m7s\u001b[0m 22ms/step - accuracy: 0.9082 - loss: 0.4362 - val_accuracy: 0.8789 - val_loss: 0.7087\n",
            "Epoch 18/50\n",
            "\u001b[1m311/311\u001b[0m \u001b[32m━━━━━━━━━━━━━━━━━━━━\u001b[0m\u001b[37m\u001b[0m \u001b[1m7s\u001b[0m 22ms/step - accuracy: 0.9132 - loss: 0.4042 - val_accuracy: 0.8807 - val_loss: 0.6971\n",
            "Epoch 19/50\n",
            "\u001b[1m311/311\u001b[0m \u001b[32m━━━━━━━━━━━━━━━━━━━━\u001b[0m\u001b[37m\u001b[0m \u001b[1m10s\u001b[0m 21ms/step - accuracy: 0.9194 - loss: 0.3737 - val_accuracy: 0.8832 - val_loss: 0.6880\n",
            "Epoch 20/50\n",
            "\u001b[1m311/311\u001b[0m \u001b[32m━━━━━━━━━━━━━━━━━━━━\u001b[0m\u001b[37m\u001b[0m \u001b[1m7s\u001b[0m 21ms/step - accuracy: 0.9241 - loss: 0.3476 - val_accuracy: 0.8838 - val_loss: 0.6823\n",
            "Epoch 21/50\n",
            "\u001b[1m311/311\u001b[0m \u001b[32m━━━━━━━━━━━━━━━━━━━━\u001b[0m\u001b[37m\u001b[0m \u001b[1m11s\u001b[0m 22ms/step - accuracy: 0.9306 - loss: 0.3171 - val_accuracy: 0.8852 - val_loss: 0.6744\n",
            "Epoch 22/50\n",
            "\u001b[1m311/311\u001b[0m \u001b[32m━━━━━━━━━━━━━━━━━━━━\u001b[0m\u001b[37m\u001b[0m \u001b[1m7s\u001b[0m 21ms/step - accuracy: 0.9360 - loss: 0.2959 - val_accuracy: 0.8860 - val_loss: 0.6722\n",
            "Epoch 23/50\n",
            "\u001b[1m311/311\u001b[0m \u001b[32m━━━━━━━━━━━━━━━━━━━━\u001b[0m\u001b[37m\u001b[0m \u001b[1m10s\u001b[0m 22ms/step - accuracy: 0.9409 - loss: 0.2699 - val_accuracy: 0.8874 - val_loss: 0.6669\n",
            "Epoch 24/50\n",
            "\u001b[1m311/311\u001b[0m \u001b[32m━━━━━━━━━━━━━━━━━━━━\u001b[0m\u001b[37m\u001b[0m \u001b[1m11s\u001b[0m 23ms/step - accuracy: 0.9456 - loss: 0.2506 - val_accuracy: 0.8886 - val_loss: 0.6681\n",
            "Epoch 25/50\n",
            "\u001b[1m311/311\u001b[0m \u001b[32m━━━━━━━━━━━━━━━━━━━━\u001b[0m\u001b[37m\u001b[0m \u001b[1m7s\u001b[0m 23ms/step - accuracy: 0.9500 - loss: 0.2311 - val_accuracy: 0.8898 - val_loss: 0.6649\n",
            "Epoch 26/50\n",
            "\u001b[1m311/311\u001b[0m \u001b[32m━━━━━━━━━━━━━━━━━━━━\u001b[0m\u001b[37m\u001b[0m \u001b[1m10s\u001b[0m 23ms/step - accuracy: 0.9542 - loss: 0.2147 - val_accuracy: 0.8901 - val_loss: 0.6653\n",
            "Epoch 27/50\n",
            "\u001b[1m311/311\u001b[0m \u001b[32m━━━━━━━━━━━━━━━━━━━━\u001b[0m\u001b[37m\u001b[0m \u001b[1m10s\u001b[0m 22ms/step - accuracy: 0.9588 - loss: 0.1959 - val_accuracy: 0.8917 - val_loss: 0.6653\n",
            "Epoch 28/50\n",
            "\u001b[1m311/311\u001b[0m \u001b[32m━━━━━━━━━━━━━━━━━━━━\u001b[0m\u001b[37m\u001b[0m \u001b[1m10s\u001b[0m 22ms/step - accuracy: 0.9628 - loss: 0.1781 - val_accuracy: 0.8920 - val_loss: 0.6644\n",
            "Epoch 29/50\n",
            "\u001b[1m311/311\u001b[0m \u001b[32m━━━━━━━━━━━━━━━━━━━━\u001b[0m\u001b[37m\u001b[0m \u001b[1m7s\u001b[0m 23ms/step - accuracy: 0.9658 - loss: 0.1656 - val_accuracy: 0.8923 - val_loss: 0.6693\n",
            "Epoch 30/50\n",
            "\u001b[1m311/311\u001b[0m \u001b[32m━━━━━━━━━━━━━━━━━━━━\u001b[0m\u001b[37m\u001b[0m \u001b[1m10s\u001b[0m 23ms/step - accuracy: 0.9690 - loss: 0.1518 - val_accuracy: 0.8927 - val_loss: 0.6720\n",
            "Epoch 31/50\n",
            "\u001b[1m311/311\u001b[0m \u001b[32m━━━━━━━━━━━━━━━━━━━━\u001b[0m\u001b[37m\u001b[0m \u001b[1m10s\u001b[0m 23ms/step - accuracy: 0.9721 - loss: 0.1398 - val_accuracy: 0.8935 - val_loss: 0.6757\n",
            "Epoch 32/50\n",
            "\u001b[1m311/311\u001b[0m \u001b[32m━━━━━━━━━━━━━━━━━━━━\u001b[0m\u001b[37m\u001b[0m \u001b[1m7s\u001b[0m 22ms/step - accuracy: 0.9743 - loss: 0.1292 - val_accuracy: 0.8933 - val_loss: 0.6805\n",
            "Epoch 33/50\n",
            "\u001b[1m311/311\u001b[0m \u001b[32m━━━━━━━━━━━━━━━━━━━━\u001b[0m\u001b[37m\u001b[0m \u001b[1m10s\u001b[0m 23ms/step - accuracy: 0.9760 - loss: 0.1202 - val_accuracy: 0.8946 - val_loss: 0.6813\n",
            "Epoch 34/50\n",
            "\u001b[1m311/311\u001b[0m \u001b[32m━━━━━━━━━━━━━━━━━━━━\u001b[0m\u001b[37m\u001b[0m \u001b[1m10s\u001b[0m 23ms/step - accuracy: 0.9792 - loss: 0.1087 - val_accuracy: 0.8936 - val_loss: 0.6899\n",
            "Epoch 35/50\n",
            "\u001b[1m311/311\u001b[0m \u001b[32m━━━━━━━━━━━━━━━━━━━━\u001b[0m\u001b[37m\u001b[0m \u001b[1m10s\u001b[0m 23ms/step - accuracy: 0.9809 - loss: 0.1010 - val_accuracy: 0.8936 - val_loss: 0.6919\n",
            "Epoch 36/50\n",
            "\u001b[1m311/311\u001b[0m \u001b[32m━━━━━━━━━━━━━━━━━━━━\u001b[0m\u001b[37m\u001b[0m \u001b[1m10s\u001b[0m 22ms/step - accuracy: 0.9828 - loss: 0.0928 - val_accuracy: 0.8948 - val_loss: 0.6961\n",
            "Epoch 37/50\n",
            "\u001b[1m311/311\u001b[0m \u001b[32m━━━━━━━━━━━━━━━━━━━━\u001b[0m\u001b[37m\u001b[0m \u001b[1m7s\u001b[0m 22ms/step - accuracy: 0.9844 - loss: 0.0852 - val_accuracy: 0.8950 - val_loss: 0.7009\n",
            "Epoch 38/50\n",
            "\u001b[1m311/311\u001b[0m \u001b[32m━━━━━━━━━━━━━━━━━━━━\u001b[0m\u001b[37m\u001b[0m \u001b[1m11s\u001b[0m 23ms/step - accuracy: 0.9853 - loss: 0.0800 - val_accuracy: 0.8950 - val_loss: 0.7076\n",
            "Epoch 39/50\n",
            "\u001b[1m311/311\u001b[0m \u001b[32m━━━━━━━━━━━━━━━━━━━━\u001b[0m\u001b[37m\u001b[0m \u001b[1m10s\u001b[0m 23ms/step - accuracy: 0.9872 - loss: 0.0727 - val_accuracy: 0.8957 - val_loss: 0.7127\n",
            "Epoch 40/50\n",
            "\u001b[1m311/311\u001b[0m \u001b[32m━━━━━━━━━━━━━━━━━━━━\u001b[0m\u001b[37m\u001b[0m \u001b[1m10s\u001b[0m 21ms/step - accuracy: 0.9878 - loss: 0.0696 - val_accuracy: 0.8955 - val_loss: 0.7156\n",
            "Epoch 41/50\n",
            "\u001b[1m311/311\u001b[0m \u001b[32m━━━━━━━━━━━━━━━━━━━━\u001b[0m\u001b[37m\u001b[0m \u001b[1m10s\u001b[0m 21ms/step - accuracy: 0.9892 - loss: 0.0625 - val_accuracy: 0.8949 - val_loss: 0.7238\n",
            "Epoch 42/50\n",
            "\u001b[1m311/311\u001b[0m \u001b[32m━━━━━━━━━━━━━━━━━━━━\u001b[0m\u001b[37m\u001b[0m \u001b[1m10s\u001b[0m 22ms/step - accuracy: 0.9900 - loss: 0.0591 - val_accuracy: 0.8956 - val_loss: 0.7326\n",
            "Epoch 43/50\n",
            "\u001b[1m311/311\u001b[0m \u001b[32m━━━━━━━━━━━━━━━━━━━━\u001b[0m\u001b[37m\u001b[0m \u001b[1m10s\u001b[0m 22ms/step - accuracy: 0.9911 - loss: 0.0546 - val_accuracy: 0.8952 - val_loss: 0.7328\n",
            "Epoch 44/50\n",
            "\u001b[1m311/311\u001b[0m \u001b[32m━━━━━━━━━━━━━━━━━━━━\u001b[0m\u001b[37m\u001b[0m \u001b[1m10s\u001b[0m 23ms/step - accuracy: 0.9921 - loss: 0.0494 - val_accuracy: 0.8947 - val_loss: 0.7419\n",
            "Epoch 45/50\n",
            "\u001b[1m311/311\u001b[0m \u001b[32m━━━━━━━━━━━━━━━━━━━━\u001b[0m\u001b[37m\u001b[0m \u001b[1m10s\u001b[0m 22ms/step - accuracy: 0.9928 - loss: 0.0458 - val_accuracy: 0.8960 - val_loss: 0.7494\n",
            "Epoch 46/50\n",
            "\u001b[1m311/311\u001b[0m \u001b[32m━━━━━━━━━━━━━━━━━━━━\u001b[0m\u001b[37m\u001b[0m \u001b[1m7s\u001b[0m 22ms/step - accuracy: 0.9934 - loss: 0.0424 - val_accuracy: 0.8956 - val_loss: 0.7524\n",
            "Epoch 47/50\n",
            "\u001b[1m311/311\u001b[0m \u001b[32m━━━━━━━━━━━━━━━━━━━━\u001b[0m\u001b[37m\u001b[0m \u001b[1m7s\u001b[0m 21ms/step - accuracy: 0.9940 - loss: 0.0394 - val_accuracy: 0.8961 - val_loss: 0.7596\n",
            "Epoch 48/50\n",
            "\u001b[1m311/311\u001b[0m \u001b[32m━━━━━━━━━━━━━━━━━━━━\u001b[0m\u001b[37m\u001b[0m \u001b[1m11s\u001b[0m 23ms/step - accuracy: 0.9947 - loss: 0.0368 - val_accuracy: 0.8960 - val_loss: 0.7639\n",
            "Epoch 49/50\n",
            "\u001b[1m311/311\u001b[0m \u001b[32m━━━━━━━━━━━━━━━━━━━━\u001b[0m\u001b[37m\u001b[0m \u001b[1m10s\u001b[0m 22ms/step - accuracy: 0.9952 - loss: 0.0341 - val_accuracy: 0.8955 - val_loss: 0.7713\n",
            "Epoch 50/50\n",
            "\u001b[1m311/311\u001b[0m \u001b[32m━━━━━━━━━━━━━━━━━━━━\u001b[0m\u001b[37m\u001b[0m \u001b[1m7s\u001b[0m 21ms/step - accuracy: 0.9958 - loss: 0.0305 - val_accuracy: 0.8960 - val_loss: 0.7793\n"
          ]
        }
      ]
    },
    {
      "cell_type": "markdown",
      "source": [
        "**TRANSFORMER**"
      ],
      "metadata": {
        "id": "9u6odfbmPqjx"
      }
    },
    {
      "cell_type": "code",
      "source": [
        "import numpy as np\n",
        "import pandas as pd\n",
        "import tensorflow as tf\n",
        "from tensorflow.keras.layers import Input, Embedding, Dense, LayerNormalization, Dropout\n",
        "from tensorflow.keras.models import Model\n",
        "from tensorflow.keras.optimizers import Adam\n",
        "from tensorflow.keras.preprocessing.text import Tokenizer\n",
        "from tensorflow.keras.preprocessing.sequence import pad_sequences\n"
      ],
      "metadata": {
        "id": "Ckx2mMv-Rrlh"
      },
      "execution_count": 16,
      "outputs": []
    },
    {
      "cell_type": "code",
      "source": [
        "# Load the parallel corpus\n",
        "with open(\"/content/english-corpus.txt\", \"r\", encoding=\"utf-8\") as f:\n",
        "    english_sentences = f.read().splitlines()\n",
        "\n",
        "with open(\"/content/urdu-corpus.txt\", \"r\", encoding=\"utf-8\") as f:\n",
        "    urdu_sentences = f.read().splitlines()\n",
        "\n",
        "# Combine into DataFrame\n",
        "df = pd.DataFrame({'English': english_sentences, 'Urdu': urdu_sentences})\n",
        "\n",
        "# Tokenize English and Urdu sentences\n",
        "en_tokenizer = Tokenizer()\n",
        "en_tokenizer.fit_on_texts(df['English'])\n",
        "en_sequences = en_tokenizer.texts_to_sequences(df['English'])\n",
        "\n",
        "ur_tokenizer = Tokenizer()\n",
        "ur_tokenizer.fit_on_texts(df['Urdu'])\n",
        "ur_sequences = ur_tokenizer.texts_to_sequences(df['Urdu'])\n",
        "\n",
        "# Padding the sequences\n",
        "MAX_LEN_EN = 20\n",
        "MAX_LEN_UR = 20\n",
        "\n",
        "en_padded = pad_sequences(en_sequences, maxlen=MAX_LEN_EN, padding='post')\n",
        "ur_padded = pad_sequences(ur_sequences, maxlen=MAX_LEN_UR, padding='post')\n",
        "\n",
        "# Train/test split\n",
        "from sklearn.model_selection import train_test_split\n",
        "\n",
        "X_train, X_test, y_train, y_test = train_test_split(en_padded, ur_padded, test_size=0.1, random_state=42)\n",
        "\n",
        "# Reshape target data\n",
        "y_train = np.expand_dims(y_train, -1)\n",
        "y_test = np.expand_dims(y_test, -1)\n"
      ],
      "metadata": {
        "id": "NBD6CdV6R8pw"
      },
      "execution_count": 17,
      "outputs": []
    },
    {
      "cell_type": "code",
      "source": [
        "import tensorflow.keras.backend as K\n",
        "\n",
        "def get_positional_encoding(seq_len, dim):\n",
        "    pos = np.arange(seq_len)[:, np.newaxis]\n",
        "    i = np.arange(dim)[np.newaxis, :]\n",
        "    angle_rates = 1 / np.power(10000, (2 * (i // 2)) / np.float32(dim))\n",
        "    angle_rads = pos * angle_rates\n",
        "    positional_encoding = angle_rads.astype(np.float32)\n",
        "    return positional_encoding\n"
      ],
      "metadata": {
        "id": "7q7EIt8HR-m_"
      },
      "execution_count": 18,
      "outputs": []
    },
    {
      "cell_type": "code",
      "source": [
        "from tensorflow.keras.layers import MultiHeadAttention, LayerNormalization, Dropout, Dense\n",
        "\n",
        "def transformer_encoder(inputs, head_size, num_heads, ff_dim, dropout_rate=0.1):\n",
        "    # Attention Layer\n",
        "    attention_output = MultiHeadAttention(\n",
        "        num_heads=num_heads, key_dim=head_size)(inputs, inputs)\n",
        "    attention_output = Dropout(dropout_rate)(attention_output)\n",
        "    attention_output = LayerNormalization()(inputs + attention_output)\n",
        "\n",
        "    # Feed-forward Layer\n",
        "    ff_output = Dense(ff_dim, activation='relu')(attention_output)\n",
        "    ff_output = Dense(inputs.shape[-1])(ff_output)\n",
        "    ff_output = Dropout(dropout_rate)(ff_output)\n",
        "    output = LayerNormalization()(attention_output + ff_output)\n",
        "\n",
        "    return output\n"
      ],
      "metadata": {
        "id": "vBYEeugSSBH7"
      },
      "execution_count": 19,
      "outputs": []
    },
    {
      "cell_type": "code",
      "source": [
        "def transformer_decoder(inputs, enc_output, head_size, num_heads, ff_dim, dropout_rate=0.1):\n",
        "    # Self-attention Layer (Decoder)\n",
        "    self_attention_output = MultiHeadAttention(\n",
        "        num_heads=num_heads, key_dim=head_size)(inputs, inputs)\n",
        "    self_attention_output = Dropout(dropout_rate)(self_attention_output)\n",
        "    self_attention_output = LayerNormalization()(inputs + self_attention_output)\n",
        "\n",
        "    # Encoder-Decoder attention\n",
        "    encoder_decoder_attention = MultiHeadAttention(\n",
        "        num_heads=num_heads, key_dim=head_size)(self_attention_output, enc_output)\n",
        "    encoder_decoder_attention = Dropout(dropout_rate)(encoder_decoder_attention)\n",
        "    encoder_decoder_attention = LayerNormalization()(self_attention_output + encoder_decoder_attention)\n",
        "\n",
        "    # Feed-forward Layer\n",
        "    ff_output = Dense(ff_dim, activation='relu')(encoder_decoder_attention)\n",
        "    ff_output = Dense(inputs.shape[-1])(ff_output)\n",
        "    ff_output = Dropout(dropout_rate)(ff_output)\n",
        "    output = LayerNormalization()(encoder_decoder_attention + ff_output)\n",
        "\n",
        "    return output\n"
      ],
      "metadata": {
        "id": "Dc4VwzoASDdP"
      },
      "execution_count": 20,
      "outputs": []
    },
    {
      "cell_type": "code",
      "source": [
        "def build_transformer_seq2seq():\n",
        "    # Encoder\n",
        "    encoder_inputs = Input(shape=(MAX_LEN_EN,))\n",
        "    encoder_embedding = Embedding(en_vocab_size, 128)(encoder_inputs)\n",
        "    positional_encoding = get_positional_encoding(MAX_LEN_EN, 128)\n",
        "    encoder_embedding += positional_encoding\n",
        "    encoder_output = transformer_encoder(encoder_embedding, head_size=128, num_heads=4, ff_dim=128)\n",
        "\n",
        "    # Decoder\n",
        "    decoder_inputs = Input(shape=(MAX_LEN_UR,))\n",
        "    decoder_embedding = Embedding(ur_vocab_size, 128)(decoder_inputs)\n",
        "    decoder_embedding += positional_encoding\n",
        "    decoder_output = transformer_decoder(decoder_embedding, encoder_output, head_size=128, num_heads=4, ff_dim=128)\n",
        "    decoder_output = Dense(ur_vocab_size, activation='softmax')(decoder_output)\n",
        "\n",
        "    model = Model([encoder_inputs, decoder_inputs], decoder_output)\n",
        "    model.compile(optimizer=Adam(), loss='sparse_categorical_crossentropy', metrics=['accuracy'])\n",
        "\n",
        "    return model\n",
        "\n",
        "# Build model\n",
        "transformer_model = build_transformer_seq2seq()\n",
        "transformer_model.summary()\n"
      ],
      "metadata": {
        "colab": {
          "base_uri": "https://localhost:8080/",
          "height": 1000
        },
        "id": "omQAph_5SFeA",
        "outputId": "d8b0ab2e-9ba0-40e7-d4e9-13bd820f2cb9"
      },
      "execution_count": 21,
      "outputs": [
        {
          "output_type": "display_data",
          "data": {
            "text/plain": [
              "\u001b[1mModel: \"functional_3\"\u001b[0m\n"
            ],
            "text/html": [
              "<pre style=\"white-space:pre;overflow-x:auto;line-height:normal;font-family:Menlo,'DejaVu Sans Mono',consolas,'Courier New',monospace\"><span style=\"font-weight: bold\">Model: \"functional_3\"</span>\n",
              "</pre>\n"
            ]
          },
          "metadata": {}
        },
        {
          "output_type": "display_data",
          "data": {
            "text/plain": [
              "┏━━━━━━━━━━━━━━━━━━━━━┳━━━━━━━━━━━━━━━━━━━┳━━━━━━━━━━━━┳━━━━━━━━━━━━━━━━━━━┓\n",
              "┃\u001b[1m \u001b[0m\u001b[1mLayer (type)       \u001b[0m\u001b[1m \u001b[0m┃\u001b[1m \u001b[0m\u001b[1mOutput Shape     \u001b[0m\u001b[1m \u001b[0m┃\u001b[1m \u001b[0m\u001b[1m   Param #\u001b[0m\u001b[1m \u001b[0m┃\u001b[1m \u001b[0m\u001b[1mConnected to     \u001b[0m\u001b[1m \u001b[0m┃\n",
              "┡━━━━━━━━━━━━━━━━━━━━━╇━━━━━━━━━━━━━━━━━━━╇━━━━━━━━━━━━╇━━━━━━━━━━━━━━━━━━━┩\n",
              "│ input_layer_6       │ (\u001b[38;5;45mNone\u001b[0m, \u001b[38;5;34m20\u001b[0m)        │          \u001b[38;5;34m0\u001b[0m │ -                 │\n",
              "│ (\u001b[38;5;33mInputLayer\u001b[0m)        │                   │            │                   │\n",
              "├─────────────────────┼───────────────────┼────────────┼───────────────────┤\n",
              "│ embedding_6         │ (\u001b[38;5;45mNone\u001b[0m, \u001b[38;5;34m20\u001b[0m, \u001b[38;5;34m128\u001b[0m)   │    \u001b[38;5;34m726,912\u001b[0m │ input_layer_6[\u001b[38;5;34m0\u001b[0m]… │\n",
              "│ (\u001b[38;5;33mEmbedding\u001b[0m)         │                   │            │                   │\n",
              "├─────────────────────┼───────────────────┼────────────┼───────────────────┤\n",
              "│ add (\u001b[38;5;33mAdd\u001b[0m)           │ (\u001b[38;5;45mNone\u001b[0m, \u001b[38;5;34m20\u001b[0m, \u001b[38;5;34m128\u001b[0m)   │          \u001b[38;5;34m0\u001b[0m │ embedding_6[\u001b[38;5;34m0\u001b[0m][\u001b[38;5;34m0\u001b[0m] │\n",
              "├─────────────────────┼───────────────────┼────────────┼───────────────────┤\n",
              "│ multi_head_attenti… │ (\u001b[38;5;45mNone\u001b[0m, \u001b[38;5;34m20\u001b[0m, \u001b[38;5;34m128\u001b[0m)   │    \u001b[38;5;34m263,808\u001b[0m │ add[\u001b[38;5;34m0\u001b[0m][\u001b[38;5;34m0\u001b[0m],        │\n",
              "│ (\u001b[38;5;33mMultiHeadAttentio…\u001b[0m │                   │            │ add[\u001b[38;5;34m0\u001b[0m][\u001b[38;5;34m0\u001b[0m]         │\n",
              "├─────────────────────┼───────────────────┼────────────┼───────────────────┤\n",
              "│ dropout_1 (\u001b[38;5;33mDropout\u001b[0m) │ (\u001b[38;5;45mNone\u001b[0m, \u001b[38;5;34m20\u001b[0m, \u001b[38;5;34m128\u001b[0m)   │          \u001b[38;5;34m0\u001b[0m │ multi_head_atten… │\n",
              "├─────────────────────┼───────────────────┼────────────┼───────────────────┤\n",
              "│ input_layer_7       │ (\u001b[38;5;45mNone\u001b[0m, \u001b[38;5;34m20\u001b[0m)        │          \u001b[38;5;34m0\u001b[0m │ -                 │\n",
              "│ (\u001b[38;5;33mInputLayer\u001b[0m)        │                   │            │                   │\n",
              "├─────────────────────┼───────────────────┼────────────┼───────────────────┤\n",
              "│ add_1 (\u001b[38;5;33mAdd\u001b[0m)         │ (\u001b[38;5;45mNone\u001b[0m, \u001b[38;5;34m20\u001b[0m, \u001b[38;5;34m128\u001b[0m)   │          \u001b[38;5;34m0\u001b[0m │ add[\u001b[38;5;34m0\u001b[0m][\u001b[38;5;34m0\u001b[0m],        │\n",
              "│                     │                   │            │ dropout_1[\u001b[38;5;34m0\u001b[0m][\u001b[38;5;34m0\u001b[0m]   │\n",
              "├─────────────────────┼───────────────────┼────────────┼───────────────────┤\n",
              "│ embedding_7         │ (\u001b[38;5;45mNone\u001b[0m, \u001b[38;5;34m20\u001b[0m, \u001b[38;5;34m128\u001b[0m)   │    \u001b[38;5;34m759,040\u001b[0m │ input_layer_7[\u001b[38;5;34m0\u001b[0m]… │\n",
              "│ (\u001b[38;5;33mEmbedding\u001b[0m)         │                   │            │                   │\n",
              "├─────────────────────┼───────────────────┼────────────┼───────────────────┤\n",
              "│ layer_normalization │ (\u001b[38;5;45mNone\u001b[0m, \u001b[38;5;34m20\u001b[0m, \u001b[38;5;34m128\u001b[0m)   │        \u001b[38;5;34m256\u001b[0m │ add_1[\u001b[38;5;34m0\u001b[0m][\u001b[38;5;34m0\u001b[0m]       │\n",
              "│ (\u001b[38;5;33mLayerNormalizatio…\u001b[0m │                   │            │                   │\n",
              "├─────────────────────┼───────────────────┼────────────┼───────────────────┤\n",
              "│ add_3 (\u001b[38;5;33mAdd\u001b[0m)         │ (\u001b[38;5;45mNone\u001b[0m, \u001b[38;5;34m20\u001b[0m, \u001b[38;5;34m128\u001b[0m)   │          \u001b[38;5;34m0\u001b[0m │ embedding_7[\u001b[38;5;34m0\u001b[0m][\u001b[38;5;34m0\u001b[0m] │\n",
              "├─────────────────────┼───────────────────┼────────────┼───────────────────┤\n",
              "│ dense_3 (\u001b[38;5;33mDense\u001b[0m)     │ (\u001b[38;5;45mNone\u001b[0m, \u001b[38;5;34m20\u001b[0m, \u001b[38;5;34m128\u001b[0m)   │     \u001b[38;5;34m16,512\u001b[0m │ layer_normalizat… │\n",
              "├─────────────────────┼───────────────────┼────────────┼───────────────────┤\n",
              "│ multi_head_attenti… │ (\u001b[38;5;45mNone\u001b[0m, \u001b[38;5;34m20\u001b[0m, \u001b[38;5;34m128\u001b[0m)   │    \u001b[38;5;34m263,808\u001b[0m │ add_3[\u001b[38;5;34m0\u001b[0m][\u001b[38;5;34m0\u001b[0m],      │\n",
              "│ (\u001b[38;5;33mMultiHeadAttentio…\u001b[0m │                   │            │ add_3[\u001b[38;5;34m0\u001b[0m][\u001b[38;5;34m0\u001b[0m]       │\n",
              "├─────────────────────┼───────────────────┼────────────┼───────────────────┤\n",
              "│ dense_4 (\u001b[38;5;33mDense\u001b[0m)     │ (\u001b[38;5;45mNone\u001b[0m, \u001b[38;5;34m20\u001b[0m, \u001b[38;5;34m128\u001b[0m)   │     \u001b[38;5;34m16,512\u001b[0m │ dense_3[\u001b[38;5;34m0\u001b[0m][\u001b[38;5;34m0\u001b[0m]     │\n",
              "├─────────────────────┼───────────────────┼────────────┼───────────────────┤\n",
              "│ dropout_4 (\u001b[38;5;33mDropout\u001b[0m) │ (\u001b[38;5;45mNone\u001b[0m, \u001b[38;5;34m20\u001b[0m, \u001b[38;5;34m128\u001b[0m)   │          \u001b[38;5;34m0\u001b[0m │ multi_head_atten… │\n",
              "├─────────────────────┼───────────────────┼────────────┼───────────────────┤\n",
              "│ dropout_2 (\u001b[38;5;33mDropout\u001b[0m) │ (\u001b[38;5;45mNone\u001b[0m, \u001b[38;5;34m20\u001b[0m, \u001b[38;5;34m128\u001b[0m)   │          \u001b[38;5;34m0\u001b[0m │ dense_4[\u001b[38;5;34m0\u001b[0m][\u001b[38;5;34m0\u001b[0m]     │\n",
              "├─────────────────────┼───────────────────┼────────────┼───────────────────┤\n",
              "│ add_4 (\u001b[38;5;33mAdd\u001b[0m)         │ (\u001b[38;5;45mNone\u001b[0m, \u001b[38;5;34m20\u001b[0m, \u001b[38;5;34m128\u001b[0m)   │          \u001b[38;5;34m0\u001b[0m │ add_3[\u001b[38;5;34m0\u001b[0m][\u001b[38;5;34m0\u001b[0m],      │\n",
              "│                     │                   │            │ dropout_4[\u001b[38;5;34m0\u001b[0m][\u001b[38;5;34m0\u001b[0m]   │\n",
              "├─────────────────────┼───────────────────┼────────────┼───────────────────┤\n",
              "│ add_2 (\u001b[38;5;33mAdd\u001b[0m)         │ (\u001b[38;5;45mNone\u001b[0m, \u001b[38;5;34m20\u001b[0m, \u001b[38;5;34m128\u001b[0m)   │          \u001b[38;5;34m0\u001b[0m │ layer_normalizat… │\n",
              "│                     │                   │            │ dropout_2[\u001b[38;5;34m0\u001b[0m][\u001b[38;5;34m0\u001b[0m]   │\n",
              "├─────────────────────┼───────────────────┼────────────┼───────────────────┤\n",
              "│ layer_normalizatio… │ (\u001b[38;5;45mNone\u001b[0m, \u001b[38;5;34m20\u001b[0m, \u001b[38;5;34m128\u001b[0m)   │        \u001b[38;5;34m256\u001b[0m │ add_4[\u001b[38;5;34m0\u001b[0m][\u001b[38;5;34m0\u001b[0m]       │\n",
              "│ (\u001b[38;5;33mLayerNormalizatio…\u001b[0m │                   │            │                   │\n",
              "├─────────────────────┼───────────────────┼────────────┼───────────────────┤\n",
              "│ layer_normalizatio… │ (\u001b[38;5;45mNone\u001b[0m, \u001b[38;5;34m20\u001b[0m, \u001b[38;5;34m128\u001b[0m)   │        \u001b[38;5;34m256\u001b[0m │ add_2[\u001b[38;5;34m0\u001b[0m][\u001b[38;5;34m0\u001b[0m]       │\n",
              "│ (\u001b[38;5;33mLayerNormalizatio…\u001b[0m │                   │            │                   │\n",
              "├─────────────────────┼───────────────────┼────────────┼───────────────────┤\n",
              "│ multi_head_attenti… │ (\u001b[38;5;45mNone\u001b[0m, \u001b[38;5;34m20\u001b[0m, \u001b[38;5;34m128\u001b[0m)   │    \u001b[38;5;34m263,808\u001b[0m │ layer_normalizat… │\n",
              "│ (\u001b[38;5;33mMultiHeadAttentio…\u001b[0m │                   │            │ layer_normalizat… │\n",
              "├─────────────────────┼───────────────────┼────────────┼───────────────────┤\n",
              "│ dropout_6 (\u001b[38;5;33mDropout\u001b[0m) │ (\u001b[38;5;45mNone\u001b[0m, \u001b[38;5;34m20\u001b[0m, \u001b[38;5;34m128\u001b[0m)   │          \u001b[38;5;34m0\u001b[0m │ multi_head_atten… │\n",
              "├─────────────────────┼───────────────────┼────────────┼───────────────────┤\n",
              "│ add_5 (\u001b[38;5;33mAdd\u001b[0m)         │ (\u001b[38;5;45mNone\u001b[0m, \u001b[38;5;34m20\u001b[0m, \u001b[38;5;34m128\u001b[0m)   │          \u001b[38;5;34m0\u001b[0m │ layer_normalizat… │\n",
              "│                     │                   │            │ dropout_6[\u001b[38;5;34m0\u001b[0m][\u001b[38;5;34m0\u001b[0m]   │\n",
              "├─────────────────────┼───────────────────┼────────────┼───────────────────┤\n",
              "│ layer_normalizatio… │ (\u001b[38;5;45mNone\u001b[0m, \u001b[38;5;34m20\u001b[0m, \u001b[38;5;34m128\u001b[0m)   │        \u001b[38;5;34m256\u001b[0m │ add_5[\u001b[38;5;34m0\u001b[0m][\u001b[38;5;34m0\u001b[0m]       │\n",
              "│ (\u001b[38;5;33mLayerNormalizatio…\u001b[0m │                   │            │                   │\n",
              "├─────────────────────┼───────────────────┼────────────┼───────────────────┤\n",
              "│ dense_5 (\u001b[38;5;33mDense\u001b[0m)     │ (\u001b[38;5;45mNone\u001b[0m, \u001b[38;5;34m20\u001b[0m, \u001b[38;5;34m128\u001b[0m)   │     \u001b[38;5;34m16,512\u001b[0m │ layer_normalizat… │\n",
              "├─────────────────────┼───────────────────┼────────────┼───────────────────┤\n",
              "│ dense_6 (\u001b[38;5;33mDense\u001b[0m)     │ (\u001b[38;5;45mNone\u001b[0m, \u001b[38;5;34m20\u001b[0m, \u001b[38;5;34m128\u001b[0m)   │     \u001b[38;5;34m16,512\u001b[0m │ dense_5[\u001b[38;5;34m0\u001b[0m][\u001b[38;5;34m0\u001b[0m]     │\n",
              "├─────────────────────┼───────────────────┼────────────┼───────────────────┤\n",
              "│ dropout_7 (\u001b[38;5;33mDropout\u001b[0m) │ (\u001b[38;5;45mNone\u001b[0m, \u001b[38;5;34m20\u001b[0m, \u001b[38;5;34m128\u001b[0m)   │          \u001b[38;5;34m0\u001b[0m │ dense_6[\u001b[38;5;34m0\u001b[0m][\u001b[38;5;34m0\u001b[0m]     │\n",
              "├─────────────────────┼───────────────────┼────────────┼───────────────────┤\n",
              "│ add_6 (\u001b[38;5;33mAdd\u001b[0m)         │ (\u001b[38;5;45mNone\u001b[0m, \u001b[38;5;34m20\u001b[0m, \u001b[38;5;34m128\u001b[0m)   │          \u001b[38;5;34m0\u001b[0m │ layer_normalizat… │\n",
              "│                     │                   │            │ dropout_7[\u001b[38;5;34m0\u001b[0m][\u001b[38;5;34m0\u001b[0m]   │\n",
              "├─────────────────────┼───────────────────┼────────────┼───────────────────┤\n",
              "│ layer_normalizatio… │ (\u001b[38;5;45mNone\u001b[0m, \u001b[38;5;34m20\u001b[0m, \u001b[38;5;34m128\u001b[0m)   │        \u001b[38;5;34m256\u001b[0m │ add_6[\u001b[38;5;34m0\u001b[0m][\u001b[38;5;34m0\u001b[0m]       │\n",
              "│ (\u001b[38;5;33mLayerNormalizatio…\u001b[0m │                   │            │                   │\n",
              "├─────────────────────┼───────────────────┼────────────┼───────────────────┤\n",
              "│ dense_7 (\u001b[38;5;33mDense\u001b[0m)     │ (\u001b[38;5;45mNone\u001b[0m, \u001b[38;5;34m20\u001b[0m, \u001b[38;5;34m5930\u001b[0m)  │    \u001b[38;5;34m764,970\u001b[0m │ layer_normalizat… │\n",
              "└─────────────────────┴───────────────────┴────────────┴───────────────────┘\n"
            ],
            "text/html": [
              "<pre style=\"white-space:pre;overflow-x:auto;line-height:normal;font-family:Menlo,'DejaVu Sans Mono',consolas,'Courier New',monospace\">┏━━━━━━━━━━━━━━━━━━━━━┳━━━━━━━━━━━━━━━━━━━┳━━━━━━━━━━━━┳━━━━━━━━━━━━━━━━━━━┓\n",
              "┃<span style=\"font-weight: bold\"> Layer (type)        </span>┃<span style=\"font-weight: bold\"> Output Shape      </span>┃<span style=\"font-weight: bold\">    Param # </span>┃<span style=\"font-weight: bold\"> Connected to      </span>┃\n",
              "┡━━━━━━━━━━━━━━━━━━━━━╇━━━━━━━━━━━━━━━━━━━╇━━━━━━━━━━━━╇━━━━━━━━━━━━━━━━━━━┩\n",
              "│ input_layer_6       │ (<span style=\"color: #00d7ff; text-decoration-color: #00d7ff\">None</span>, <span style=\"color: #00af00; text-decoration-color: #00af00\">20</span>)        │          <span style=\"color: #00af00; text-decoration-color: #00af00\">0</span> │ -                 │\n",
              "│ (<span style=\"color: #0087ff; text-decoration-color: #0087ff\">InputLayer</span>)        │                   │            │                   │\n",
              "├─────────────────────┼───────────────────┼────────────┼───────────────────┤\n",
              "│ embedding_6         │ (<span style=\"color: #00d7ff; text-decoration-color: #00d7ff\">None</span>, <span style=\"color: #00af00; text-decoration-color: #00af00\">20</span>, <span style=\"color: #00af00; text-decoration-color: #00af00\">128</span>)   │    <span style=\"color: #00af00; text-decoration-color: #00af00\">726,912</span> │ input_layer_6[<span style=\"color: #00af00; text-decoration-color: #00af00\">0</span>]… │\n",
              "│ (<span style=\"color: #0087ff; text-decoration-color: #0087ff\">Embedding</span>)         │                   │            │                   │\n",
              "├─────────────────────┼───────────────────┼────────────┼───────────────────┤\n",
              "│ add (<span style=\"color: #0087ff; text-decoration-color: #0087ff\">Add</span>)           │ (<span style=\"color: #00d7ff; text-decoration-color: #00d7ff\">None</span>, <span style=\"color: #00af00; text-decoration-color: #00af00\">20</span>, <span style=\"color: #00af00; text-decoration-color: #00af00\">128</span>)   │          <span style=\"color: #00af00; text-decoration-color: #00af00\">0</span> │ embedding_6[<span style=\"color: #00af00; text-decoration-color: #00af00\">0</span>][<span style=\"color: #00af00; text-decoration-color: #00af00\">0</span>] │\n",
              "├─────────────────────┼───────────────────┼────────────┼───────────────────┤\n",
              "│ multi_head_attenti… │ (<span style=\"color: #00d7ff; text-decoration-color: #00d7ff\">None</span>, <span style=\"color: #00af00; text-decoration-color: #00af00\">20</span>, <span style=\"color: #00af00; text-decoration-color: #00af00\">128</span>)   │    <span style=\"color: #00af00; text-decoration-color: #00af00\">263,808</span> │ add[<span style=\"color: #00af00; text-decoration-color: #00af00\">0</span>][<span style=\"color: #00af00; text-decoration-color: #00af00\">0</span>],        │\n",
              "│ (<span style=\"color: #0087ff; text-decoration-color: #0087ff\">MultiHeadAttentio…</span> │                   │            │ add[<span style=\"color: #00af00; text-decoration-color: #00af00\">0</span>][<span style=\"color: #00af00; text-decoration-color: #00af00\">0</span>]         │\n",
              "├─────────────────────┼───────────────────┼────────────┼───────────────────┤\n",
              "│ dropout_1 (<span style=\"color: #0087ff; text-decoration-color: #0087ff\">Dropout</span>) │ (<span style=\"color: #00d7ff; text-decoration-color: #00d7ff\">None</span>, <span style=\"color: #00af00; text-decoration-color: #00af00\">20</span>, <span style=\"color: #00af00; text-decoration-color: #00af00\">128</span>)   │          <span style=\"color: #00af00; text-decoration-color: #00af00\">0</span> │ multi_head_atten… │\n",
              "├─────────────────────┼───────────────────┼────────────┼───────────────────┤\n",
              "│ input_layer_7       │ (<span style=\"color: #00d7ff; text-decoration-color: #00d7ff\">None</span>, <span style=\"color: #00af00; text-decoration-color: #00af00\">20</span>)        │          <span style=\"color: #00af00; text-decoration-color: #00af00\">0</span> │ -                 │\n",
              "│ (<span style=\"color: #0087ff; text-decoration-color: #0087ff\">InputLayer</span>)        │                   │            │                   │\n",
              "├─────────────────────┼───────────────────┼────────────┼───────────────────┤\n",
              "│ add_1 (<span style=\"color: #0087ff; text-decoration-color: #0087ff\">Add</span>)         │ (<span style=\"color: #00d7ff; text-decoration-color: #00d7ff\">None</span>, <span style=\"color: #00af00; text-decoration-color: #00af00\">20</span>, <span style=\"color: #00af00; text-decoration-color: #00af00\">128</span>)   │          <span style=\"color: #00af00; text-decoration-color: #00af00\">0</span> │ add[<span style=\"color: #00af00; text-decoration-color: #00af00\">0</span>][<span style=\"color: #00af00; text-decoration-color: #00af00\">0</span>],        │\n",
              "│                     │                   │            │ dropout_1[<span style=\"color: #00af00; text-decoration-color: #00af00\">0</span>][<span style=\"color: #00af00; text-decoration-color: #00af00\">0</span>]   │\n",
              "├─────────────────────┼───────────────────┼────────────┼───────────────────┤\n",
              "│ embedding_7         │ (<span style=\"color: #00d7ff; text-decoration-color: #00d7ff\">None</span>, <span style=\"color: #00af00; text-decoration-color: #00af00\">20</span>, <span style=\"color: #00af00; text-decoration-color: #00af00\">128</span>)   │    <span style=\"color: #00af00; text-decoration-color: #00af00\">759,040</span> │ input_layer_7[<span style=\"color: #00af00; text-decoration-color: #00af00\">0</span>]… │\n",
              "│ (<span style=\"color: #0087ff; text-decoration-color: #0087ff\">Embedding</span>)         │                   │            │                   │\n",
              "├─────────────────────┼───────────────────┼────────────┼───────────────────┤\n",
              "│ layer_normalization │ (<span style=\"color: #00d7ff; text-decoration-color: #00d7ff\">None</span>, <span style=\"color: #00af00; text-decoration-color: #00af00\">20</span>, <span style=\"color: #00af00; text-decoration-color: #00af00\">128</span>)   │        <span style=\"color: #00af00; text-decoration-color: #00af00\">256</span> │ add_1[<span style=\"color: #00af00; text-decoration-color: #00af00\">0</span>][<span style=\"color: #00af00; text-decoration-color: #00af00\">0</span>]       │\n",
              "│ (<span style=\"color: #0087ff; text-decoration-color: #0087ff\">LayerNormalizatio…</span> │                   │            │                   │\n",
              "├─────────────────────┼───────────────────┼────────────┼───────────────────┤\n",
              "│ add_3 (<span style=\"color: #0087ff; text-decoration-color: #0087ff\">Add</span>)         │ (<span style=\"color: #00d7ff; text-decoration-color: #00d7ff\">None</span>, <span style=\"color: #00af00; text-decoration-color: #00af00\">20</span>, <span style=\"color: #00af00; text-decoration-color: #00af00\">128</span>)   │          <span style=\"color: #00af00; text-decoration-color: #00af00\">0</span> │ embedding_7[<span style=\"color: #00af00; text-decoration-color: #00af00\">0</span>][<span style=\"color: #00af00; text-decoration-color: #00af00\">0</span>] │\n",
              "├─────────────────────┼───────────────────┼────────────┼───────────────────┤\n",
              "│ dense_3 (<span style=\"color: #0087ff; text-decoration-color: #0087ff\">Dense</span>)     │ (<span style=\"color: #00d7ff; text-decoration-color: #00d7ff\">None</span>, <span style=\"color: #00af00; text-decoration-color: #00af00\">20</span>, <span style=\"color: #00af00; text-decoration-color: #00af00\">128</span>)   │     <span style=\"color: #00af00; text-decoration-color: #00af00\">16,512</span> │ layer_normalizat… │\n",
              "├─────────────────────┼───────────────────┼────────────┼───────────────────┤\n",
              "│ multi_head_attenti… │ (<span style=\"color: #00d7ff; text-decoration-color: #00d7ff\">None</span>, <span style=\"color: #00af00; text-decoration-color: #00af00\">20</span>, <span style=\"color: #00af00; text-decoration-color: #00af00\">128</span>)   │    <span style=\"color: #00af00; text-decoration-color: #00af00\">263,808</span> │ add_3[<span style=\"color: #00af00; text-decoration-color: #00af00\">0</span>][<span style=\"color: #00af00; text-decoration-color: #00af00\">0</span>],      │\n",
              "│ (<span style=\"color: #0087ff; text-decoration-color: #0087ff\">MultiHeadAttentio…</span> │                   │            │ add_3[<span style=\"color: #00af00; text-decoration-color: #00af00\">0</span>][<span style=\"color: #00af00; text-decoration-color: #00af00\">0</span>]       │\n",
              "├─────────────────────┼───────────────────┼────────────┼───────────────────┤\n",
              "│ dense_4 (<span style=\"color: #0087ff; text-decoration-color: #0087ff\">Dense</span>)     │ (<span style=\"color: #00d7ff; text-decoration-color: #00d7ff\">None</span>, <span style=\"color: #00af00; text-decoration-color: #00af00\">20</span>, <span style=\"color: #00af00; text-decoration-color: #00af00\">128</span>)   │     <span style=\"color: #00af00; text-decoration-color: #00af00\">16,512</span> │ dense_3[<span style=\"color: #00af00; text-decoration-color: #00af00\">0</span>][<span style=\"color: #00af00; text-decoration-color: #00af00\">0</span>]     │\n",
              "├─────────────────────┼───────────────────┼────────────┼───────────────────┤\n",
              "│ dropout_4 (<span style=\"color: #0087ff; text-decoration-color: #0087ff\">Dropout</span>) │ (<span style=\"color: #00d7ff; text-decoration-color: #00d7ff\">None</span>, <span style=\"color: #00af00; text-decoration-color: #00af00\">20</span>, <span style=\"color: #00af00; text-decoration-color: #00af00\">128</span>)   │          <span style=\"color: #00af00; text-decoration-color: #00af00\">0</span> │ multi_head_atten… │\n",
              "├─────────────────────┼───────────────────┼────────────┼───────────────────┤\n",
              "│ dropout_2 (<span style=\"color: #0087ff; text-decoration-color: #0087ff\">Dropout</span>) │ (<span style=\"color: #00d7ff; text-decoration-color: #00d7ff\">None</span>, <span style=\"color: #00af00; text-decoration-color: #00af00\">20</span>, <span style=\"color: #00af00; text-decoration-color: #00af00\">128</span>)   │          <span style=\"color: #00af00; text-decoration-color: #00af00\">0</span> │ dense_4[<span style=\"color: #00af00; text-decoration-color: #00af00\">0</span>][<span style=\"color: #00af00; text-decoration-color: #00af00\">0</span>]     │\n",
              "├─────────────────────┼───────────────────┼────────────┼───────────────────┤\n",
              "│ add_4 (<span style=\"color: #0087ff; text-decoration-color: #0087ff\">Add</span>)         │ (<span style=\"color: #00d7ff; text-decoration-color: #00d7ff\">None</span>, <span style=\"color: #00af00; text-decoration-color: #00af00\">20</span>, <span style=\"color: #00af00; text-decoration-color: #00af00\">128</span>)   │          <span style=\"color: #00af00; text-decoration-color: #00af00\">0</span> │ add_3[<span style=\"color: #00af00; text-decoration-color: #00af00\">0</span>][<span style=\"color: #00af00; text-decoration-color: #00af00\">0</span>],      │\n",
              "│                     │                   │            │ dropout_4[<span style=\"color: #00af00; text-decoration-color: #00af00\">0</span>][<span style=\"color: #00af00; text-decoration-color: #00af00\">0</span>]   │\n",
              "├─────────────────────┼───────────────────┼────────────┼───────────────────┤\n",
              "│ add_2 (<span style=\"color: #0087ff; text-decoration-color: #0087ff\">Add</span>)         │ (<span style=\"color: #00d7ff; text-decoration-color: #00d7ff\">None</span>, <span style=\"color: #00af00; text-decoration-color: #00af00\">20</span>, <span style=\"color: #00af00; text-decoration-color: #00af00\">128</span>)   │          <span style=\"color: #00af00; text-decoration-color: #00af00\">0</span> │ layer_normalizat… │\n",
              "│                     │                   │            │ dropout_2[<span style=\"color: #00af00; text-decoration-color: #00af00\">0</span>][<span style=\"color: #00af00; text-decoration-color: #00af00\">0</span>]   │\n",
              "├─────────────────────┼───────────────────┼────────────┼───────────────────┤\n",
              "│ layer_normalizatio… │ (<span style=\"color: #00d7ff; text-decoration-color: #00d7ff\">None</span>, <span style=\"color: #00af00; text-decoration-color: #00af00\">20</span>, <span style=\"color: #00af00; text-decoration-color: #00af00\">128</span>)   │        <span style=\"color: #00af00; text-decoration-color: #00af00\">256</span> │ add_4[<span style=\"color: #00af00; text-decoration-color: #00af00\">0</span>][<span style=\"color: #00af00; text-decoration-color: #00af00\">0</span>]       │\n",
              "│ (<span style=\"color: #0087ff; text-decoration-color: #0087ff\">LayerNormalizatio…</span> │                   │            │                   │\n",
              "├─────────────────────┼───────────────────┼────────────┼───────────────────┤\n",
              "│ layer_normalizatio… │ (<span style=\"color: #00d7ff; text-decoration-color: #00d7ff\">None</span>, <span style=\"color: #00af00; text-decoration-color: #00af00\">20</span>, <span style=\"color: #00af00; text-decoration-color: #00af00\">128</span>)   │        <span style=\"color: #00af00; text-decoration-color: #00af00\">256</span> │ add_2[<span style=\"color: #00af00; text-decoration-color: #00af00\">0</span>][<span style=\"color: #00af00; text-decoration-color: #00af00\">0</span>]       │\n",
              "│ (<span style=\"color: #0087ff; text-decoration-color: #0087ff\">LayerNormalizatio…</span> │                   │            │                   │\n",
              "├─────────────────────┼───────────────────┼────────────┼───────────────────┤\n",
              "│ multi_head_attenti… │ (<span style=\"color: #00d7ff; text-decoration-color: #00d7ff\">None</span>, <span style=\"color: #00af00; text-decoration-color: #00af00\">20</span>, <span style=\"color: #00af00; text-decoration-color: #00af00\">128</span>)   │    <span style=\"color: #00af00; text-decoration-color: #00af00\">263,808</span> │ layer_normalizat… │\n",
              "│ (<span style=\"color: #0087ff; text-decoration-color: #0087ff\">MultiHeadAttentio…</span> │                   │            │ layer_normalizat… │\n",
              "├─────────────────────┼───────────────────┼────────────┼───────────────────┤\n",
              "│ dropout_6 (<span style=\"color: #0087ff; text-decoration-color: #0087ff\">Dropout</span>) │ (<span style=\"color: #00d7ff; text-decoration-color: #00d7ff\">None</span>, <span style=\"color: #00af00; text-decoration-color: #00af00\">20</span>, <span style=\"color: #00af00; text-decoration-color: #00af00\">128</span>)   │          <span style=\"color: #00af00; text-decoration-color: #00af00\">0</span> │ multi_head_atten… │\n",
              "├─────────────────────┼───────────────────┼────────────┼───────────────────┤\n",
              "│ add_5 (<span style=\"color: #0087ff; text-decoration-color: #0087ff\">Add</span>)         │ (<span style=\"color: #00d7ff; text-decoration-color: #00d7ff\">None</span>, <span style=\"color: #00af00; text-decoration-color: #00af00\">20</span>, <span style=\"color: #00af00; text-decoration-color: #00af00\">128</span>)   │          <span style=\"color: #00af00; text-decoration-color: #00af00\">0</span> │ layer_normalizat… │\n",
              "│                     │                   │            │ dropout_6[<span style=\"color: #00af00; text-decoration-color: #00af00\">0</span>][<span style=\"color: #00af00; text-decoration-color: #00af00\">0</span>]   │\n",
              "├─────────────────────┼───────────────────┼────────────┼───────────────────┤\n",
              "│ layer_normalizatio… │ (<span style=\"color: #00d7ff; text-decoration-color: #00d7ff\">None</span>, <span style=\"color: #00af00; text-decoration-color: #00af00\">20</span>, <span style=\"color: #00af00; text-decoration-color: #00af00\">128</span>)   │        <span style=\"color: #00af00; text-decoration-color: #00af00\">256</span> │ add_5[<span style=\"color: #00af00; text-decoration-color: #00af00\">0</span>][<span style=\"color: #00af00; text-decoration-color: #00af00\">0</span>]       │\n",
              "│ (<span style=\"color: #0087ff; text-decoration-color: #0087ff\">LayerNormalizatio…</span> │                   │            │                   │\n",
              "├─────────────────────┼───────────────────┼────────────┼───────────────────┤\n",
              "│ dense_5 (<span style=\"color: #0087ff; text-decoration-color: #0087ff\">Dense</span>)     │ (<span style=\"color: #00d7ff; text-decoration-color: #00d7ff\">None</span>, <span style=\"color: #00af00; text-decoration-color: #00af00\">20</span>, <span style=\"color: #00af00; text-decoration-color: #00af00\">128</span>)   │     <span style=\"color: #00af00; text-decoration-color: #00af00\">16,512</span> │ layer_normalizat… │\n",
              "├─────────────────────┼───────────────────┼────────────┼───────────────────┤\n",
              "│ dense_6 (<span style=\"color: #0087ff; text-decoration-color: #0087ff\">Dense</span>)     │ (<span style=\"color: #00d7ff; text-decoration-color: #00d7ff\">None</span>, <span style=\"color: #00af00; text-decoration-color: #00af00\">20</span>, <span style=\"color: #00af00; text-decoration-color: #00af00\">128</span>)   │     <span style=\"color: #00af00; text-decoration-color: #00af00\">16,512</span> │ dense_5[<span style=\"color: #00af00; text-decoration-color: #00af00\">0</span>][<span style=\"color: #00af00; text-decoration-color: #00af00\">0</span>]     │\n",
              "├─────────────────────┼───────────────────┼────────────┼───────────────────┤\n",
              "│ dropout_7 (<span style=\"color: #0087ff; text-decoration-color: #0087ff\">Dropout</span>) │ (<span style=\"color: #00d7ff; text-decoration-color: #00d7ff\">None</span>, <span style=\"color: #00af00; text-decoration-color: #00af00\">20</span>, <span style=\"color: #00af00; text-decoration-color: #00af00\">128</span>)   │          <span style=\"color: #00af00; text-decoration-color: #00af00\">0</span> │ dense_6[<span style=\"color: #00af00; text-decoration-color: #00af00\">0</span>][<span style=\"color: #00af00; text-decoration-color: #00af00\">0</span>]     │\n",
              "├─────────────────────┼───────────────────┼────────────┼───────────────────┤\n",
              "│ add_6 (<span style=\"color: #0087ff; text-decoration-color: #0087ff\">Add</span>)         │ (<span style=\"color: #00d7ff; text-decoration-color: #00d7ff\">None</span>, <span style=\"color: #00af00; text-decoration-color: #00af00\">20</span>, <span style=\"color: #00af00; text-decoration-color: #00af00\">128</span>)   │          <span style=\"color: #00af00; text-decoration-color: #00af00\">0</span> │ layer_normalizat… │\n",
              "│                     │                   │            │ dropout_7[<span style=\"color: #00af00; text-decoration-color: #00af00\">0</span>][<span style=\"color: #00af00; text-decoration-color: #00af00\">0</span>]   │\n",
              "├─────────────────────┼───────────────────┼────────────┼───────────────────┤\n",
              "│ layer_normalizatio… │ (<span style=\"color: #00d7ff; text-decoration-color: #00d7ff\">None</span>, <span style=\"color: #00af00; text-decoration-color: #00af00\">20</span>, <span style=\"color: #00af00; text-decoration-color: #00af00\">128</span>)   │        <span style=\"color: #00af00; text-decoration-color: #00af00\">256</span> │ add_6[<span style=\"color: #00af00; text-decoration-color: #00af00\">0</span>][<span style=\"color: #00af00; text-decoration-color: #00af00\">0</span>]       │\n",
              "│ (<span style=\"color: #0087ff; text-decoration-color: #0087ff\">LayerNormalizatio…</span> │                   │            │                   │\n",
              "├─────────────────────┼───────────────────┼────────────┼───────────────────┤\n",
              "│ dense_7 (<span style=\"color: #0087ff; text-decoration-color: #0087ff\">Dense</span>)     │ (<span style=\"color: #00d7ff; text-decoration-color: #00d7ff\">None</span>, <span style=\"color: #00af00; text-decoration-color: #00af00\">20</span>, <span style=\"color: #00af00; text-decoration-color: #00af00\">5930</span>)  │    <span style=\"color: #00af00; text-decoration-color: #00af00\">764,970</span> │ layer_normalizat… │\n",
              "└─────────────────────┴───────────────────┴────────────┴───────────────────┘\n",
              "</pre>\n"
            ]
          },
          "metadata": {}
        },
        {
          "output_type": "display_data",
          "data": {
            "text/plain": [
              "\u001b[1m Total params: \u001b[0m\u001b[38;5;34m3,109,674\u001b[0m (11.86 MB)\n"
            ],
            "text/html": [
              "<pre style=\"white-space:pre;overflow-x:auto;line-height:normal;font-family:Menlo,'DejaVu Sans Mono',consolas,'Courier New',monospace\"><span style=\"font-weight: bold\"> Total params: </span><span style=\"color: #00af00; text-decoration-color: #00af00\">3,109,674</span> (11.86 MB)\n",
              "</pre>\n"
            ]
          },
          "metadata": {}
        },
        {
          "output_type": "display_data",
          "data": {
            "text/plain": [
              "\u001b[1m Trainable params: \u001b[0m\u001b[38;5;34m3,109,674\u001b[0m (11.86 MB)\n"
            ],
            "text/html": [
              "<pre style=\"white-space:pre;overflow-x:auto;line-height:normal;font-family:Menlo,'DejaVu Sans Mono',consolas,'Courier New',monospace\"><span style=\"font-weight: bold\"> Trainable params: </span><span style=\"color: #00af00; text-decoration-color: #00af00\">3,109,674</span> (11.86 MB)\n",
              "</pre>\n"
            ]
          },
          "metadata": {}
        },
        {
          "output_type": "display_data",
          "data": {
            "text/plain": [
              "\u001b[1m Non-trainable params: \u001b[0m\u001b[38;5;34m0\u001b[0m (0.00 B)\n"
            ],
            "text/html": [
              "<pre style=\"white-space:pre;overflow-x:auto;line-height:normal;font-family:Menlo,'DejaVu Sans Mono',consolas,'Courier New',monospace\"><span style=\"font-weight: bold\"> Non-trainable params: </span><span style=\"color: #00af00; text-decoration-color: #00af00\">0</span> (0.00 B)\n",
              "</pre>\n"
            ]
          },
          "metadata": {}
        }
      ]
    },
    {
      "cell_type": "code",
      "source": [
        "# Prepare decoder input and target (shifted version of Urdu padded sequences)\n",
        "decoder_input_train = y_train[:, :-1]\n",
        "decoder_input_train = pad_sequences(decoder_input_train, maxlen=MAX_LEN_UR, padding='post')\n",
        "\n",
        "decoder_target_train = y_train[:, 1:]\n",
        "decoder_target_train = pad_sequences(decoder_target_train, maxlen=MAX_LEN_UR, padding='post')\n",
        "\n",
        "# Prepare decoder input for the test set\n",
        "decoder_input_test = y_test[:, :-1]\n",
        "decoder_input_test = pad_sequences(decoder_input_test, maxlen=MAX_LEN_UR, padding='post')\n"
      ],
      "metadata": {
        "id": "1Q842J7-SHmK"
      },
      "execution_count": 22,
      "outputs": []
    },
    {
      "cell_type": "code",
      "source": [
        "history_transformer = transformer_model.fit(\n",
        "    [X_train, decoder_input_train],  # Encoder input and decoder input\n",
        "    decoder_target_train,            # Decoder output (target)\n",
        "    epochs=50,\n",
        "    batch_size=64,\n",
        "    validation_split=0.1\n",
        ")\n"
      ],
      "metadata": {
        "colab": {
          "base_uri": "https://localhost:8080/"
        },
        "id": "KAdOy20KSKas",
        "outputId": "d6b3a48e-45f7-41bf-eb64-60a5ae0a1afa"
      },
      "execution_count": 23,
      "outputs": [
        {
          "output_type": "stream",
          "name": "stdout",
          "text": [
            "Epoch 1/50\n",
            "\u001b[1m311/311\u001b[0m \u001b[32m━━━━━━━━━━━━━━━━━━━━\u001b[0m\u001b[37m\u001b[0m \u001b[1m30s\u001b[0m 49ms/step - accuracy: 0.7808 - loss: 2.7679 - val_accuracy: 0.8217 - val_loss: 1.1203\n",
            "Epoch 2/50\n",
            "\u001b[1m311/311\u001b[0m \u001b[32m━━━━━━━━━━━━━━━━━━━━\u001b[0m\u001b[37m\u001b[0m \u001b[1m22s\u001b[0m 16ms/step - accuracy: 0.8265 - loss: 1.0600 - val_accuracy: 0.8519 - val_loss: 0.9136\n",
            "Epoch 3/50\n",
            "\u001b[1m311/311\u001b[0m \u001b[32m━━━━━━━━━━━━━━━━━━━━\u001b[0m\u001b[37m\u001b[0m \u001b[1m5s\u001b[0m 16ms/step - accuracy: 0.8620 - loss: 0.8349 - val_accuracy: 0.8915 - val_loss: 0.6936\n",
            "Epoch 4/50\n",
            "\u001b[1m311/311\u001b[0m \u001b[32m━━━━━━━━━━━━━━━━━━━━\u001b[0m\u001b[37m\u001b[0m \u001b[1m5s\u001b[0m 16ms/step - accuracy: 0.8990 - loss: 0.6024 - val_accuracy: 0.9213 - val_loss: 0.5060\n",
            "Epoch 5/50\n",
            "\u001b[1m311/311\u001b[0m \u001b[32m━━━━━━━━━━━━━━━━━━━━\u001b[0m\u001b[37m\u001b[0m \u001b[1m5s\u001b[0m 16ms/step - accuracy: 0.9314 - loss: 0.3989 - val_accuracy: 0.9425 - val_loss: 0.3864\n",
            "Epoch 6/50\n",
            "\u001b[1m311/311\u001b[0m \u001b[32m━━━━━━━━━━━━━━━━━━━━\u001b[0m\u001b[37m\u001b[0m \u001b[1m10s\u001b[0m 17ms/step - accuracy: 0.9529 - loss: 0.2704 - val_accuracy: 0.9531 - val_loss: 0.3218\n",
            "Epoch 7/50\n",
            "\u001b[1m311/311\u001b[0m \u001b[32m━━━━━━━━━━━━━━━━━━━━\u001b[0m\u001b[37m\u001b[0m \u001b[1m10s\u001b[0m 16ms/step - accuracy: 0.9670 - loss: 0.1829 - val_accuracy: 0.9592 - val_loss: 0.2941\n",
            "Epoch 8/50\n",
            "\u001b[1m311/311\u001b[0m \u001b[32m━━━━━━━━━━━━━━━━━━━━\u001b[0m\u001b[37m\u001b[0m \u001b[1m5s\u001b[0m 17ms/step - accuracy: 0.9772 - loss: 0.1240 - val_accuracy: 0.9637 - val_loss: 0.2674\n",
            "Epoch 9/50\n",
            "\u001b[1m311/311\u001b[0m \u001b[32m━━━━━━━━━━━━━━━━━━━━\u001b[0m\u001b[37m\u001b[0m \u001b[1m10s\u001b[0m 17ms/step - accuracy: 0.9846 - loss: 0.0842 - val_accuracy: 0.9672 - val_loss: 0.2481\n",
            "Epoch 10/50\n",
            "\u001b[1m311/311\u001b[0m \u001b[32m━━━━━━━━━━━━━━━━━━━━\u001b[0m\u001b[37m\u001b[0m \u001b[1m5s\u001b[0m 16ms/step - accuracy: 0.9883 - loss: 0.0650 - val_accuracy: 0.9693 - val_loss: 0.2410\n",
            "Epoch 11/50\n",
            "\u001b[1m311/311\u001b[0m \u001b[32m━━━━━━━━━━━━━━━━━━━━\u001b[0m\u001b[37m\u001b[0m \u001b[1m5s\u001b[0m 17ms/step - accuracy: 0.9917 - loss: 0.0458 - val_accuracy: 0.9693 - val_loss: 0.2489\n",
            "Epoch 12/50\n",
            "\u001b[1m311/311\u001b[0m \u001b[32m━━━━━━━━━━━━━━━━━━━━\u001b[0m\u001b[37m\u001b[0m \u001b[1m10s\u001b[0m 16ms/step - accuracy: 0.9929 - loss: 0.0360 - val_accuracy: 0.9708 - val_loss: 0.2468\n",
            "Epoch 13/50\n",
            "\u001b[1m311/311\u001b[0m \u001b[32m━━━━━━━━━━━━━━━━━━━━\u001b[0m\u001b[37m\u001b[0m \u001b[1m5s\u001b[0m 16ms/step - accuracy: 0.9946 - loss: 0.0266 - val_accuracy: 0.9704 - val_loss: 0.2509\n",
            "Epoch 14/50\n",
            "\u001b[1m311/311\u001b[0m \u001b[32m━━━━━━━━━━━━━━━━━━━━\u001b[0m\u001b[37m\u001b[0m \u001b[1m5s\u001b[0m 16ms/step - accuracy: 0.9946 - loss: 0.0251 - val_accuracy: 0.9717 - val_loss: 0.2493\n",
            "Epoch 15/50\n",
            "\u001b[1m311/311\u001b[0m \u001b[32m━━━━━━━━━━━━━━━━━━━━\u001b[0m\u001b[37m\u001b[0m \u001b[1m5s\u001b[0m 16ms/step - accuracy: 0.9939 - loss: 0.0276 - val_accuracy: 0.9705 - val_loss: 0.2591\n",
            "Epoch 16/50\n",
            "\u001b[1m311/311\u001b[0m \u001b[32m━━━━━━━━━━━━━━━━━━━━\u001b[0m\u001b[37m\u001b[0m \u001b[1m5s\u001b[0m 16ms/step - accuracy: 0.9955 - loss: 0.0196 - val_accuracy: 0.9717 - val_loss: 0.2578\n",
            "Epoch 17/50\n",
            "\u001b[1m311/311\u001b[0m \u001b[32m━━━━━━━━━━━━━━━━━━━━\u001b[0m\u001b[37m\u001b[0m \u001b[1m5s\u001b[0m 16ms/step - accuracy: 0.9956 - loss: 0.0187 - val_accuracy: 0.9721 - val_loss: 0.2678\n",
            "Epoch 18/50\n",
            "\u001b[1m311/311\u001b[0m \u001b[32m━━━━━━━━━━━━━━━━━━━━\u001b[0m\u001b[37m\u001b[0m \u001b[1m10s\u001b[0m 16ms/step - accuracy: 0.9956 - loss: 0.0188 - val_accuracy: 0.9722 - val_loss: 0.2619\n",
            "Epoch 19/50\n",
            "\u001b[1m311/311\u001b[0m \u001b[32m━━━━━━━━━━━━━━━━━━━━\u001b[0m\u001b[37m\u001b[0m \u001b[1m5s\u001b[0m 17ms/step - accuracy: 0.9967 - loss: 0.0141 - val_accuracy: 0.9721 - val_loss: 0.2655\n",
            "Epoch 20/50\n",
            "\u001b[1m311/311\u001b[0m \u001b[32m━━━━━━━━━━━━━━━━━━━━\u001b[0m\u001b[37m\u001b[0m \u001b[1m10s\u001b[0m 17ms/step - accuracy: 0.9963 - loss: 0.0149 - val_accuracy: 0.9729 - val_loss: 0.2655\n",
            "Epoch 21/50\n",
            "\u001b[1m311/311\u001b[0m \u001b[32m━━━━━━━━━━━━━━━━━━━━\u001b[0m\u001b[37m\u001b[0m \u001b[1m5s\u001b[0m 16ms/step - accuracy: 0.9959 - loss: 0.0167 - val_accuracy: 0.9721 - val_loss: 0.2799\n",
            "Epoch 22/50\n",
            "\u001b[1m311/311\u001b[0m \u001b[32m━━━━━━━━━━━━━━━━━━━━\u001b[0m\u001b[37m\u001b[0m \u001b[1m5s\u001b[0m 17ms/step - accuracy: 0.9964 - loss: 0.0152 - val_accuracy: 0.9718 - val_loss: 0.2816\n",
            "Epoch 23/50\n",
            "\u001b[1m311/311\u001b[0m \u001b[32m━━━━━━━━━━━━━━━━━━━━\u001b[0m\u001b[37m\u001b[0m \u001b[1m5s\u001b[0m 16ms/step - accuracy: 0.9972 - loss: 0.0109 - val_accuracy: 0.9733 - val_loss: 0.2782\n",
            "Epoch 24/50\n",
            "\u001b[1m311/311\u001b[0m \u001b[32m━━━━━━━━━━━━━━━━━━━━\u001b[0m\u001b[37m\u001b[0m \u001b[1m5s\u001b[0m 17ms/step - accuracy: 0.9972 - loss: 0.0106 - val_accuracy: 0.9703 - val_loss: 0.2900\n",
            "Epoch 25/50\n",
            "\u001b[1m311/311\u001b[0m \u001b[32m━━━━━━━━━━━━━━━━━━━━\u001b[0m\u001b[37m\u001b[0m \u001b[1m5s\u001b[0m 16ms/step - accuracy: 0.9965 - loss: 0.0133 - val_accuracy: 0.9736 - val_loss: 0.2861\n",
            "Epoch 26/50\n",
            "\u001b[1m311/311\u001b[0m \u001b[32m━━━━━━━━━━━━━━━━━━━━\u001b[0m\u001b[37m\u001b[0m \u001b[1m5s\u001b[0m 16ms/step - accuracy: 0.9976 - loss: 0.0094 - val_accuracy: 0.9721 - val_loss: 0.2791\n",
            "Epoch 27/50\n",
            "\u001b[1m311/311\u001b[0m \u001b[32m━━━━━━━━━━━━━━━━━━━━\u001b[0m\u001b[37m\u001b[0m \u001b[1m5s\u001b[0m 16ms/step - accuracy: 0.9976 - loss: 0.0097 - val_accuracy: 0.9742 - val_loss: 0.2820\n",
            "Epoch 28/50\n",
            "\u001b[1m311/311\u001b[0m \u001b[32m━━━━━━━━━━━━━━━━━━━━\u001b[0m\u001b[37m\u001b[0m \u001b[1m5s\u001b[0m 16ms/step - accuracy: 0.9975 - loss: 0.0099 - val_accuracy: 0.9738 - val_loss: 0.2850\n",
            "Epoch 29/50\n",
            "\u001b[1m311/311\u001b[0m \u001b[32m━━━━━━━━━━━━━━━━━━━━\u001b[0m\u001b[37m\u001b[0m \u001b[1m5s\u001b[0m 16ms/step - accuracy: 0.9973 - loss: 0.0101 - val_accuracy: 0.9721 - val_loss: 0.2938\n",
            "Epoch 30/50\n",
            "\u001b[1m311/311\u001b[0m \u001b[32m━━━━━━━━━━━━━━━━━━━━\u001b[0m\u001b[37m\u001b[0m \u001b[1m10s\u001b[0m 16ms/step - accuracy: 0.9967 - loss: 0.0119 - val_accuracy: 0.9737 - val_loss: 0.2925\n",
            "Epoch 31/50\n",
            "\u001b[1m311/311\u001b[0m \u001b[32m━━━━━━━━━━━━━━━━━━━━\u001b[0m\u001b[37m\u001b[0m \u001b[1m5s\u001b[0m 17ms/step - accuracy: 0.9972 - loss: 0.0102 - val_accuracy: 0.9734 - val_loss: 0.2975\n",
            "Epoch 32/50\n",
            "\u001b[1m311/311\u001b[0m \u001b[32m━━━━━━━━━━━━━━━━━━━━\u001b[0m\u001b[37m\u001b[0m \u001b[1m10s\u001b[0m 17ms/step - accuracy: 0.9976 - loss: 0.0084 - val_accuracy: 0.9745 - val_loss: 0.2904\n",
            "Epoch 33/50\n",
            "\u001b[1m311/311\u001b[0m \u001b[32m━━━━━━━━━━━━━━━━━━━━\u001b[0m\u001b[37m\u001b[0m \u001b[1m5s\u001b[0m 16ms/step - accuracy: 0.9978 - loss: 0.0080 - val_accuracy: 0.9743 - val_loss: 0.2921\n",
            "Epoch 34/50\n",
            "\u001b[1m311/311\u001b[0m \u001b[32m━━━━━━━━━━━━━━━━━━━━\u001b[0m\u001b[37m\u001b[0m \u001b[1m5s\u001b[0m 17ms/step - accuracy: 0.9975 - loss: 0.0094 - val_accuracy: 0.9728 - val_loss: 0.3071\n",
            "Epoch 35/50\n",
            "\u001b[1m311/311\u001b[0m \u001b[32m━━━━━━━━━━━━━━━━━━━━\u001b[0m\u001b[37m\u001b[0m \u001b[1m10s\u001b[0m 17ms/step - accuracy: 0.9976 - loss: 0.0091 - val_accuracy: 0.9745 - val_loss: 0.2947\n",
            "Epoch 36/50\n",
            "\u001b[1m311/311\u001b[0m \u001b[32m━━━━━━━━━━━━━━━━━━━━\u001b[0m\u001b[37m\u001b[0m \u001b[1m5s\u001b[0m 17ms/step - accuracy: 0.9984 - loss: 0.0062 - val_accuracy: 0.9745 - val_loss: 0.2912\n",
            "Epoch 37/50\n",
            "\u001b[1m311/311\u001b[0m \u001b[32m━━━━━━━━━━━━━━━━━━━━\u001b[0m\u001b[37m\u001b[0m \u001b[1m5s\u001b[0m 16ms/step - accuracy: 0.9976 - loss: 0.0089 - val_accuracy: 0.9739 - val_loss: 0.3123\n",
            "Epoch 38/50\n",
            "\u001b[1m311/311\u001b[0m \u001b[32m━━━━━━━━━━━━━━━━━━━━\u001b[0m\u001b[37m\u001b[0m \u001b[1m5s\u001b[0m 17ms/step - accuracy: 0.9975 - loss: 0.0090 - val_accuracy: 0.9740 - val_loss: 0.3009\n",
            "Epoch 39/50\n",
            "\u001b[1m311/311\u001b[0m \u001b[32m━━━━━━━━━━━━━━━━━━━━\u001b[0m\u001b[37m\u001b[0m \u001b[1m5s\u001b[0m 16ms/step - accuracy: 0.9985 - loss: 0.0056 - val_accuracy: 0.9752 - val_loss: 0.2984\n",
            "Epoch 40/50\n",
            "\u001b[1m311/311\u001b[0m \u001b[32m━━━━━━━━━━━━━━━━━━━━\u001b[0m\u001b[37m\u001b[0m \u001b[1m5s\u001b[0m 17ms/step - accuracy: 0.9982 - loss: 0.0068 - val_accuracy: 0.9750 - val_loss: 0.3007\n",
            "Epoch 41/50\n",
            "\u001b[1m311/311\u001b[0m \u001b[32m━━━━━━━━━━━━━━━━━━━━\u001b[0m\u001b[37m\u001b[0m \u001b[1m10s\u001b[0m 17ms/step - accuracy: 0.9982 - loss: 0.0064 - val_accuracy: 0.9751 - val_loss: 0.2987\n",
            "Epoch 42/50\n",
            "\u001b[1m311/311\u001b[0m \u001b[32m━━━━━━━━━━━━━━━━━━━━\u001b[0m\u001b[37m\u001b[0m \u001b[1m5s\u001b[0m 16ms/step - accuracy: 0.9986 - loss: 0.0053 - val_accuracy: 0.9731 - val_loss: 0.3265\n",
            "Epoch 43/50\n",
            "\u001b[1m311/311\u001b[0m \u001b[32m━━━━━━━━━━━━━━━━━━━━\u001b[0m\u001b[37m\u001b[0m \u001b[1m5s\u001b[0m 16ms/step - accuracy: 0.9980 - loss: 0.0073 - val_accuracy: 0.9742 - val_loss: 0.3165\n",
            "Epoch 44/50\n",
            "\u001b[1m311/311\u001b[0m \u001b[32m━━━━━━━━━━━━━━━━━━━━\u001b[0m\u001b[37m\u001b[0m \u001b[1m5s\u001b[0m 16ms/step - accuracy: 0.9982 - loss: 0.0059 - val_accuracy: 0.9752 - val_loss: 0.3046\n",
            "Epoch 45/50\n",
            "\u001b[1m311/311\u001b[0m \u001b[32m━━━━━━━━━━━━━━━━━━━━\u001b[0m\u001b[37m\u001b[0m \u001b[1m5s\u001b[0m 16ms/step - accuracy: 0.9978 - loss: 0.0078 - val_accuracy: 0.9748 - val_loss: 0.3198\n",
            "Epoch 46/50\n",
            "\u001b[1m311/311\u001b[0m \u001b[32m━━━━━━━━━━━━━━━━━━━━\u001b[0m\u001b[37m\u001b[0m \u001b[1m5s\u001b[0m 17ms/step - accuracy: 0.9982 - loss: 0.0063 - val_accuracy: 0.9745 - val_loss: 0.3207\n",
            "Epoch 47/50\n",
            "\u001b[1m311/311\u001b[0m \u001b[32m━━━━━━━━━━━━━━━━━━━━\u001b[0m\u001b[37m\u001b[0m \u001b[1m5s\u001b[0m 16ms/step - accuracy: 0.9976 - loss: 0.0086 - val_accuracy: 0.9742 - val_loss: 0.3223\n",
            "Epoch 48/50\n",
            "\u001b[1m311/311\u001b[0m \u001b[32m━━━━━━━━━━━━━━━━━━━━\u001b[0m\u001b[37m\u001b[0m \u001b[1m5s\u001b[0m 17ms/step - accuracy: 0.9980 - loss: 0.0075 - val_accuracy: 0.9752 - val_loss: 0.3101\n",
            "Epoch 49/50\n",
            "\u001b[1m311/311\u001b[0m \u001b[32m━━━━━━━━━━━━━━━━━━━━\u001b[0m\u001b[37m\u001b[0m \u001b[1m10s\u001b[0m 16ms/step - accuracy: 0.9987 - loss: 0.0050 - val_accuracy: 0.9750 - val_loss: 0.3151\n",
            "Epoch 50/50\n",
            "\u001b[1m311/311\u001b[0m \u001b[32m━━━━━━━━━━━━━━━━━━━━\u001b[0m\u001b[37m\u001b[0m \u001b[1m5s\u001b[0m 16ms/step - accuracy: 0.9987 - loss: 0.0047 - val_accuracy: 0.9749 - val_loss: 0.3273\n"
          ]
        }
      ]
    },
    {
      "cell_type": "markdown",
      "source": [
        "**EVALUATION**"
      ],
      "metadata": {
        "id": "kUvl4CIkUYK1"
      }
    },
    {
      "cell_type": "code",
      "source": [
        "import numpy as np\n",
        "from nltk.translate.bleu_score import sentence_bleu\n",
        "import matplotlib.pyplot as plt\n",
        "\n",
        "# Function to convert sequences of indices back to text\n",
        "def sequence_to_text(sequence, tokenizer):\n",
        "    reverse_word_map = dict(map(reversed, tokenizer.word_index.items()))\n",
        "    return ' '.join([reverse_word_map.get(idx, '') for idx in sequence if idx != 0])\n",
        "\n",
        "# Function to evaluate a model\n",
        "def evaluate_model(model, X_test, y_test, decoder_input_test, en_tokenizer, ur_tokenizer, model_name):\n",
        "    predicted_seq = model.predict([X_test, decoder_input_test])\n",
        "    predicted_seq = np.argmax(predicted_seq, axis=-1)\n",
        "\n",
        "    bleu_scores = []\n",
        "    print(f\"\\n--- {model_name} Evaluation ---\\n\")\n",
        "\n",
        "    for i in range(5):\n",
        "        # Get the English input, reference, and predicted translation\n",
        "        eng = sequence_to_text(X_test[i], en_tokenizer)\n",
        "        ref = sequence_to_text(y_test[i].flatten(), ur_tokenizer)\n",
        "        hyp = sequence_to_text(predicted_seq[i], ur_tokenizer)\n",
        "\n",
        "        # Print the translations\n",
        "        print(f\" English   : {eng}\")\n",
        "        print(f\" Reference : {ref}\")\n",
        "        print(f\" Predicted : {hyp}\")\n",
        "\n",
        "        # Calculate BLEU score for this sentence\n",
        "        bleu_score = sentence_bleu([ref.split()], hyp.split())\n",
        "        bleu_scores.append(bleu_score)\n",
        "        print(f\" BLEU Score: {bleu_score}\\n\")\n",
        "\n",
        "    # Calculate the average BLEU score for the model\n",
        "    avg_bleu_score = np.mean(bleu_scores)\n",
        "    print(f\"--- {model_name} Average BLEU Score: {avg_bleu_score} ---\\n\")\n",
        "    return avg_bleu_score\n",
        "\n",
        "# Model evaluation\n",
        "bleu_rnn = evaluate_model(rnn_model, X_test, y_test, decoder_input_test, en_tokenizer, ur_tokenizer, \"RNN\")\n",
        "bleu_birnn = evaluate_model(rnn_model_birnn, X_test, y_test, decoder_input_test, en_tokenizer, ur_tokenizer, \"BiRNN\")\n",
        "bleu_lstm = evaluate_model(lstm_model, X_test, y_test, decoder_input_test, en_tokenizer, ur_tokenizer, \"LSTM\")\n",
        "bleu_transformer = evaluate_model(transformer_model, X_test, y_test, decoder_input_test, en_tokenizer, ur_tokenizer, \"Transformer\")\n",
        "\n",
        "# Plotting BLEU scores\n",
        "bleu_scores = {\n",
        "    'RNN': bleu_rnn,\n",
        "    'BiRNN': bleu_birnn,\n",
        "    'LSTM': bleu_lstm,\n",
        "    'Transformer': bleu_transformer,\n",
        "}\n",
        "\n",
        "# Plotting the BLEU scores for comparison\n",
        "plt.bar(bleu_scores.keys(), bleu_scores.values())\n",
        "plt.ylabel('Average BLEU Score')\n",
        "plt.title('Model Comparison - BLEU Scores')\n",
        "plt.show()\n"
      ],
      "metadata": {
        "colab": {
          "base_uri": "https://localhost:8080/",
          "height": 1000
        },
        "id": "sadAFEnxSkHB",
        "outputId": "cc3d5725-bb58-4a19-f5c9-b3e38fcc5f7f"
      },
      "execution_count": 29,
      "outputs": [
        {
          "output_type": "stream",
          "name": "stdout",
          "text": [
            "\u001b[1m77/77\u001b[0m \u001b[32m━━━━━━━━━━━━━━━━━━━━\u001b[0m\u001b[37m\u001b[0m \u001b[1m1s\u001b[0m 9ms/step\n",
            "\n",
            "--- RNN Evaluation ---\n",
            "\n",
            " English   : he can no longer wait\n",
            " Reference : وہ مزید انتظار نہیں کر سکتا\n",
            " Predicted : ایک نہیں کر کر رہا\n",
            " BLEU Score: 6.867731683891005e-155\n",
            "\n",
            " English   : what is zain drinking\n",
            " Reference : زین پینے کیا ہے\n",
            " Predicted : نے کے پسند\n",
            " BLEU Score: 0\n",
            "\n",
            " English   : dont burst my bubble\n",
            " Reference : میرا بلبلا مت پھٹاؤ\n",
            " Predicted : نام ہے پڑھو\n",
            " BLEU Score: 0\n",
            "\n",
            " English   : are you still married\n",
            " Reference : کیا آپ اب بھی شادی شدہ ہیں\n",
            " Predicted : آپ نے بھی وہاں کر ہیں\n",
            " BLEU Score: 1.2967862918337585e-231\n",
            "\n",
            " English   : i will come back later\n",
            " Reference : میں بعد میں واپس آؤں گا\n",
            " Predicted : نے میں آپ آؤں گا۔\n",
            " BLEU Score: 1.1862177682648818e-231\n",
            "\n",
            "--- RNN Average BLEU Score: 1.373546336778201e-155 ---\n",
            "\n",
            "\u001b[1m77/77\u001b[0m \u001b[32m━━━━━━━━━━━━━━━━━━━━\u001b[0m\u001b[37m\u001b[0m \u001b[1m1s\u001b[0m 15ms/step\n",
            "\n",
            "--- BiRNN Evaluation ---\n",
            "\n",
            " English   : he can no longer wait\n",
            " Reference : وہ مزید انتظار نہیں کر سکتا\n",
            " Predicted : اب انتظار نہیں کر سکتا\n",
            " BLEU Score: 0.5475182535069453\n",
            "\n",
            " English   : what is zain drinking\n",
            " Reference : زین پینے کیا ہے\n",
            " Predicted : کیا کیا ہے\n",
            " BLEU Score: 8.121328445417258e-155\n",
            "\n",
            " English   : dont burst my bubble\n",
            " Reference : میرا بلبلا مت پھٹاؤ\n",
            " Predicted : کبھی کبھی کھینچو\n",
            " BLEU Score: 0\n",
            "\n",
            " English   : are you still married\n",
            " Reference : کیا آپ اب بھی شادی شدہ ہیں\n",
            " Predicted : آپ اب بھی بھوکے کر ہیں؟\n",
            " BLEU Score: 4.888731610154635e-78\n",
            "\n",
            " English   : i will come back later\n",
            " Reference : میں بعد میں واپس آؤں گا\n",
            " Predicted : بعد میں واپس آؤں گا۔\n",
            " BLEU Score: 0.5475182535069453\n",
            "\n",
            "--- BiRNN Average BLEU Score: 0.2190073014027781 ---\n",
            "\n",
            "\u001b[1m77/77\u001b[0m \u001b[32m━━━━━━━━━━━━━━━━━━━━\u001b[0m\u001b[37m\u001b[0m \u001b[1m1s\u001b[0m 10ms/step\n",
            "\n",
            "--- LSTM Evaluation ---\n",
            "\n",
            " English   : he can no longer wait\n",
            " Reference : وہ مزید انتظار نہیں کر سکتا\n",
            " Predicted : کسی انتظار نہیں کر سکتا\n",
            " BLEU Score: 0.5475182535069453\n",
            "\n",
            " English   : what is zain drinking\n",
            " Reference : زین پینے کیا ہے\n",
            " Predicted : کیا کیا کر\n",
            " BLEU Score: 9.918892480173173e-232\n",
            "\n",
            " English   : dont burst my bubble\n",
            " Reference : میرا بلبلا مت پھٹاؤ\n",
            " Predicted : سر مت اٹھاؤ\n",
            " BLEU Score: 9.918892480173173e-232\n",
            "\n",
            " English   : are you still married\n",
            " Reference : کیا آپ اب بھی شادی شدہ ہیں\n",
            " Predicted : آپ اب بھی سو کر ہیں\n",
            " BLEU Score: 5.253283993027542e-78\n",
            "\n",
            " English   : i will come back later\n",
            " Reference : میں بعد میں واپس آؤں گا\n",
            " Predicted : بعد میں واپس آؤں گا۔\n",
            " BLEU Score: 0.5475182535069453\n",
            "\n",
            "--- LSTM Average BLEU Score: 0.2190073014027781 ---\n",
            "\n",
            "\u001b[1m77/77\u001b[0m \u001b[32m━━━━━━━━━━━━━━━━━━━━\u001b[0m\u001b[37m\u001b[0m \u001b[1m1s\u001b[0m 8ms/step\n",
            "\n",
            "--- Transformer Evaluation ---\n",
            "\n",
            " English   : he can no longer wait\n",
            " Reference : وہ مزید انتظار نہیں کر سکتا\n",
            " Predicted : مزید انتظار نہیں کر سکتا\n",
            " BLEU Score: 0.8187307530779819\n",
            "\n",
            " English   : what is zain drinking\n",
            " Reference : زین پینے کیا ہے\n",
            " Predicted : اندازہ پوچھو ہے\n",
            " BLEU Score: 9.918892480173173e-232\n",
            "\n",
            " English   : dont burst my bubble\n",
            " Reference : میرا بلبلا مت پھٹاؤ\n",
            " Predicted : میرا مت ملتا\n",
            " BLEU Score: 1.1795617510369435e-231\n",
            "\n",
            " English   : are you still married\n",
            " Reference : کیا آپ اب بھی شادی شدہ ہیں\n",
            " Predicted : آپ اب بھی شادی شدہ ہیں\n",
            " BLEU Score: 0.846481724890614\n",
            "\n",
            " English   : i will come back later\n",
            " Reference : میں بعد میں واپس آؤں گا\n",
            " Predicted : بعد میں واپس آؤں گا\n",
            " BLEU Score: 0.8187307530779819\n",
            "\n",
            "--- Transformer Average BLEU Score: 0.49678864620931557 ---\n",
            "\n"
          ]
        },
        {
          "output_type": "display_data",
          "data": {
            "text/plain": [
              "<Figure size 640x480 with 1 Axes>"
            ],
            "image/png": "[encoded data removed]"
          },
          "metadata": {}
        }
      ]
    },
    {
      "cell_type": "code",
      "source": [
        "import numpy as np\n",
        "import matplotlib.pyplot as plt\n",
        "from nltk.translate.bleu_score import sentence_bleu, SmoothingFunction\n",
        "\n",
        "# Function to convert sequences of indices back to text\n",
        "def sequence_to_text(sequence, tokenizer):\n",
        "    reverse_word_map = dict(map(reversed, tokenizer.word_index.items()))\n",
        "    return ' '.join([reverse_word_map.get(idx, '') for idx in sequence if idx != 0])\n",
        "\n",
        "# Evaluation function with BLEU + smoothing\n",
        "def evaluate_model(model, X_test, y_test, decoder_input_test, en_tokenizer, ur_tokenizer, model_name):\n",
        "    predicted_seq = model.predict([X_test, decoder_input_test])\n",
        "    predicted_seq = np.argmax(predicted_seq, axis=-1)\n",
        "\n",
        "    bleu_scores = []\n",
        "    smoothing = SmoothingFunction().method1\n",
        "\n",
        "    print(f\"\\n---  {model_name} Evaluation ---\\n\")\n",
        "\n",
        "    for i in range(5):  # Show 5 examples\n",
        "        eng = sequence_to_text(X_test[i], en_tokenizer)\n",
        "        ref = sequence_to_text(y_test[i].flatten(), ur_tokenizer)\n",
        "        hyp = sequence_to_text(predicted_seq[i], ur_tokenizer)\n",
        "\n",
        "        print(f\" English   : {eng}\")\n",
        "        print(f\" Reference : {ref}\")\n",
        "        print(f\" Predicted : {hyp}\")\n",
        "\n",
        "        # BLEU score with smoothing\n",
        "        bleu_score = sentence_bleu([ref.split()], hyp.split(), smoothing_function=smoothing)\n",
        "        bleu_scores.append(bleu_score)\n",
        "        print(f\" BLEU Score: {bleu_score:.4f}\\n\")\n",
        "\n",
        "    avg_bleu_score = np.mean(bleu_scores)\n",
        "    print(f\" --- {model_name} Average BLEU Score: {avg_bleu_score:.4f} ---\\n\")\n",
        "    return avg_bleu_score\n"
      ],
      "metadata": {
        "id": "qZusLpUf2sOF"
      },
      "execution_count": 31,
      "outputs": []
    },
    {
      "cell_type": "code",
      "source": [
        "bleu_rnn = evaluate_model(rnn_model, X_test, y_test, decoder_input_test, en_tokenizer, ur_tokenizer, \"RNN\")\n",
        "bleu_birnn = evaluate_model(rnn_model_birnn, X_test, y_test, decoder_input_test, en_tokenizer, ur_tokenizer, \"BiRNN\")\n",
        "bleu_lstm = evaluate_model(lstm_model, X_test, y_test, decoder_input_test, en_tokenizer, ur_tokenizer, \"LSTM\")\n",
        "bleu_transformer = evaluate_model(transformer_model, X_test, y_test, decoder_input_test, en_tokenizer, ur_tokenizer, \"Transformer\")\n"
      ],
      "metadata": {
        "colab": {
          "base_uri": "https://localhost:8080/"
        },
        "id": "coWAUaA9Oif9",
        "outputId": "9fa899f7-d444-4392-c4d2-66a7ad249964"
      },
      "execution_count": 32,
      "outputs": [
        {
          "output_type": "stream",
          "name": "stdout",
          "text": [
            "\u001b[1m77/77\u001b[0m \u001b[32m━━━━━━━━━━━━━━━━━━━━\u001b[0m\u001b[37m\u001b[0m \u001b[1m1s\u001b[0m 8ms/step\n",
            "\n",
            "---  RNN Evaluation ---\n",
            "\n",
            " English   : he can no longer wait\n",
            " Reference : وہ مزید انتظار نہیں کر سکتا\n",
            " Predicted : ایک نہیں کر کر رہا\n",
            " BLEU Score: 0.0930\n",
            "\n",
            " English   : what is zain drinking\n",
            " Reference : زین پینے کیا ہے\n",
            " Predicted : نے کے پسند\n",
            " BLEU Score: 0.0000\n",
            "\n",
            " English   : dont burst my bubble\n",
            " Reference : میرا بلبلا مت پھٹاؤ\n",
            " Predicted : نام ہے پڑھو\n",
            " BLEU Score: 0.0000\n",
            "\n",
            " English   : are you still married\n",
            " Reference : کیا آپ اب بھی شادی شدہ ہیں\n",
            " Predicted : آپ نے بھی وہاں کر ہیں\n",
            " BLEU Score: 0.0455\n",
            "\n",
            " English   : i will come back later\n",
            " Reference : میں بعد میں واپس آؤں گا\n",
            " Predicted : نے میں آپ آؤں گا۔\n",
            " BLEU Score: 0.0523\n",
            "\n",
            " --- RNN Average BLEU Score: 0.0382 ---\n",
            "\n",
            "\u001b[1m77/77\u001b[0m \u001b[32m━━━━━━━━━━━━━━━━━━━━\u001b[0m\u001b[37m\u001b[0m \u001b[1m1s\u001b[0m 8ms/step\n",
            "\n",
            "---  BiRNN Evaluation ---\n",
            "\n",
            " English   : he can no longer wait\n",
            " Reference : وہ مزید انتظار نہیں کر سکتا\n",
            " Predicted : اب انتظار نہیں کر سکتا\n",
            " BLEU Score: 0.5475\n",
            "\n",
            " English   : what is zain drinking\n",
            " Reference : زین پینے کیا ہے\n",
            " Predicted : کیا کیا ہے\n",
            " BLEU Score: 0.1722\n",
            "\n",
            " English   : dont burst my bubble\n",
            " Reference : میرا بلبلا مت پھٹاؤ\n",
            " Predicted : کبھی کبھی کھینچو\n",
            " BLEU Score: 0.0000\n",
            "\n",
            " English   : are you still married\n",
            " Reference : کیا آپ اب بھی شادی شدہ ہیں\n",
            " Predicted : آپ اب بھی بھوکے کر ہیں؟\n",
            " BLEU Score: 0.1710\n",
            "\n",
            " English   : i will come back later\n",
            " Reference : میں بعد میں واپس آؤں گا\n",
            " Predicted : بعد میں واپس آؤں گا۔\n",
            " BLEU Score: 0.5475\n",
            "\n",
            " --- BiRNN Average BLEU Score: 0.2876 ---\n",
            "\n",
            "\u001b[1m77/77\u001b[0m \u001b[32m━━━━━━━━━━━━━━━━━━━━\u001b[0m\u001b[37m\u001b[0m \u001b[1m1s\u001b[0m 9ms/step\n",
            "\n",
            "---  LSTM Evaluation ---\n",
            "\n",
            " English   : he can no longer wait\n",
            " Reference : وہ مزید انتظار نہیں کر سکتا\n",
            " Predicted : کسی انتظار نہیں کر سکتا\n",
            " BLEU Score: 0.5475\n",
            "\n",
            " English   : what is zain drinking\n",
            " Reference : زین پینے کیا ہے\n",
            " Predicted : کیا کیا کر\n",
            " BLEU Score: 0.0814\n",
            "\n",
            " English   : dont burst my bubble\n",
            " Reference : میرا بلبلا مت پھٹاؤ\n",
            " Predicted : سر مت اٹھاؤ\n",
            " BLEU Score: 0.0814\n",
            "\n",
            " English   : are you still married\n",
            " Reference : کیا آپ اب بھی شادی شدہ ہیں\n",
            " Predicted : آپ اب بھی سو کر ہیں\n",
            " BLEU Score: 0.1838\n",
            "\n",
            " English   : i will come back later\n",
            " Reference : میں بعد میں واپس آؤں گا\n",
            " Predicted : بعد میں واپس آؤں گا۔\n",
            " BLEU Score: 0.5475\n",
            "\n",
            " --- LSTM Average BLEU Score: 0.2883 ---\n",
            "\n",
            "\u001b[1m77/77\u001b[0m \u001b[32m━━━━━━━━━━━━━━━━━━━━\u001b[0m\u001b[37m\u001b[0m \u001b[1m1s\u001b[0m 7ms/step\n",
            "\n",
            "---  Transformer Evaluation ---\n",
            "\n",
            " English   : he can no longer wait\n",
            " Reference : وہ مزید انتظار نہیں کر سکتا\n",
            " Predicted : مزید انتظار نہیں کر سکتا\n",
            " BLEU Score: 0.8187\n",
            "\n",
            " English   : what is zain drinking\n",
            " Reference : زین پینے کیا ہے\n",
            " Predicted : اندازہ پوچھو ہے\n",
            " BLEU Score: 0.0814\n",
            "\n",
            " English   : dont burst my bubble\n",
            " Reference : میرا بلبلا مت پھٹاؤ\n",
            " Predicted : میرا مت ملتا\n",
            " BLEU Score: 0.0968\n",
            "\n",
            " English   : are you still married\n",
            " Reference : کیا آپ اب بھی شادی شدہ ہیں\n",
            " Predicted : آپ اب بھی شادی شدہ ہیں\n",
            " BLEU Score: 0.8465\n",
            "\n",
            " English   : i will come back later\n",
            " Reference : میں بعد میں واپس آؤں گا\n",
            " Predicted : بعد میں واپس آؤں گا\n",
            " BLEU Score: 0.8187\n",
            "\n",
            " --- Transformer Average BLEU Score: 0.5324 ---\n",
            "\n"
          ]
        }
      ]
    },
    {
      "cell_type": "code",
      "source": [
        "# Store BLEU scores\n",
        "bleu_scores = {\n",
        "    'RNN': bleu_rnn,\n",
        "    'BiRNN': bleu_birnn,\n",
        "    'LSTM': bleu_lstm,\n",
        "    'Transformer': bleu_transformer,\n",
        "}\n",
        "\n",
        "# Plot BLEU scores\n",
        "plt.figure(figsize=(8, 5))\n",
        "plt.bar(bleu_scores.keys(), bleu_scores.values(), color='skyblue')\n",
        "plt.ylim(0, 1)\n",
        "plt.ylabel('Average BLEU Score')\n",
        "plt.title('Model Comparison - BLEU Scores (0 to 1)')\n",
        "plt.grid(axis='y', linestyle='--', alpha=0.6)\n",
        "plt.show()\n"
      ],
      "metadata": {
        "colab": {
          "base_uri": "https://localhost:8080/",
          "height": 468
        },
        "id": "yP0elIF0OkuI",
        "outputId": "b62047d3-27cb-45ce-dba9-c473dc913405"
      },
      "execution_count": 33,
      "outputs": [
        {
          "output_type": "display_data",
          "data": {
            "text/plain": [
              "<Figure size 800x500 with 1 Axes>"
            ],
            "image/png": "[encoded data removed]"
          },
          "metadata": {}
        }
      ]
    },
    {
      "cell_type": "code",
      "source": [],
      "metadata": {
        "id": "vGfHYLrAOoZJ"
      },
      "execution_count": 28,
      "outputs": []
    },
    {
      "cell_type": "markdown",
      "source": [
        "# QUESTION 4"
      ],
      "metadata": {
        "id": "mBJjq2yzRd1n"
      }
    },
    {
      "cell_type": "code",
      "source": [
        "#USE THE ABOVE SIMPLE RNN CODE"
      ],
      "metadata": {
        "id": "7fOWQFM9RhpV"
      },
      "execution_count": null,
      "outputs": []
    },
    {
      "cell_type": "code",
      "source": [
        "import numpy as np\n",
        "\n",
        "# Load GloVe embeddings (using 100d version)\n",
        "embedding_index = {}\n",
        "with open(\"/content/glove.6B.100d.txt\", encoding='utf-8') as f:\n",
        "    for line in f:\n",
        "        values = line.split()\n",
        "        word = values[0]\n",
        "        coefs = np.asarray(values[1:], dtype='float32')\n",
        "        embedding_index[word] = coefs\n",
        "\n",
        "print(\"Loaded %s word vectors from GloVe.\" % len(embedding_index))"
      ],
      "metadata": {
        "colab": {
          "base_uri": "https://localhost:8080/"
        },
        "id": "Eq9vLhCd-a2t",
        "outputId": "8b2ff3aa-64bd-458a-86e3-92da5b4a68fa"
      },
      "execution_count": null,
      "outputs": [
        {
          "output_type": "stream",
          "name": "stdout",
          "text": [
            "Loaded 400000 word vectors from GloVe.\n"
          ]
        }
      ]
    },
    {
      "cell_type": "code",
      "source": [
        "EMBEDDING_DIM = 100\n",
        "embedding_matrix = np.zeros((en_vocab_size, EMBEDDING_DIM))\n",
        "\n",
        "for word, i in en_tokenizer.word_index.items():\n",
        "    embedding_vector = embedding_index.get(word)\n",
        "    if embedding_vector is not None:\n",
        "        embedding_matrix[i] = embedding_vector"
      ],
      "metadata": {
        "id": "Atr9qx23-2Qh"
      },
      "execution_count": null,
      "outputs": []
    },
    {
      "cell_type": "code",
      "source": [
        "from tensorflow.keras.layers import SimpleRNN, Embedding, Dense, Input\n",
        "from tensorflow.keras.models import Model\n",
        "\n",
        "def build_rnn_with_glove():\n",
        "    # Encoder with GloVe embeddings\n",
        "    encoder_inputs = Input(shape=(MAX_LEN_EN,))\n",
        "    encoder_embedding = Embedding(en_vocab_size, EMBEDDING_DIM,\n",
        "                                  weights=[embedding_matrix],\n",
        "                                  trainable=False)(encoder_inputs)\n",
        "    encoder_output, state = SimpleRNN(128, return_state=True)(encoder_embedding)\n",
        "\n",
        "    # Decoder with trainable embeddings\n",
        "    decoder_inputs = Input(shape=(MAX_LEN_UR,))\n",
        "    decoder_embedding = Embedding(ur_vocab_size, 128)(decoder_inputs)\n",
        "    decoder_output = SimpleRNN(128, return_sequences=True)(decoder_embedding, initial_state=state)\n",
        "    outputs = Dense(ur_vocab_size, activation='softmax')(decoder_output)\n",
        "\n",
        "    model = Model([encoder_inputs, decoder_inputs], outputs)\n",
        "    model.compile(optimizer='adam', loss='sparse_categorical_crossentropy', metrics=['accuracy'])\n",
        "    return model\n",
        "\n",
        "rnn_model_glove = build_rnn_with_glove()\n",
        "rnn_model_glove.summary()"
      ],
      "metadata": {
        "colab": {
          "base_uri": "https://localhost:8080/",
          "height": 449
        },
        "id": "HFJ7pwgV-6wa",
        "outputId": "a669701c-1f57-4cda-f699-8d0ed46aa922"
      },
      "execution_count": null,
      "outputs": [
        {
          "output_type": "display_data",
          "data": {
            "text/plain": [
              "\u001b[1mModel: \"functional_7\"\u001b[0m\n"
            ],
            "text/html": [
              "<pre style=\"white-space:pre;overflow-x:auto;line-height:normal;font-family:Menlo,'DejaVu Sans Mono',consolas,'Courier New',monospace\"><span style=\"font-weight: bold\">Model: \"functional_7\"</span>\n",
              "</pre>\n"
            ]
          },
          "metadata": {}
        },
        {
          "output_type": "display_data",
          "data": {
            "text/plain": [
              "┏━━━━━━━━━━━━━━━━━━━━━┳━━━━━━━━━━━━━━━━━━━┳━━━━━━━━━━━━┳━━━━━━━━━━━━━━━━━━━┓\n",
              "┃\u001b[1m \u001b[0m\u001b[1mLayer (type)       \u001b[0m\u001b[1m \u001b[0m┃\u001b[1m \u001b[0m\u001b[1mOutput Shape     \u001b[0m\u001b[1m \u001b[0m┃\u001b[1m \u001b[0m\u001b[1m   Param #\u001b[0m\u001b[1m \u001b[0m┃\u001b[1m \u001b[0m\u001b[1mConnected to     \u001b[0m\u001b[1m \u001b[0m┃\n",
              "┡━━━━━━━━━━━━━━━━━━━━━╇━━━━━━━━━━━━━━━━━━━╇━━━━━━━━━━━━╇━━━━━━━━━━━━━━━━━━━┩\n",
              "│ input_layer_14      │ (\u001b[38;5;45mNone\u001b[0m, \u001b[38;5;34m20\u001b[0m)        │          \u001b[38;5;34m0\u001b[0m │ -                 │\n",
              "│ (\u001b[38;5;33mInputLayer\u001b[0m)        │                   │            │                   │\n",
              "├─────────────────────┼───────────────────┼────────────┼───────────────────┤\n",
              "│ input_layer_15      │ (\u001b[38;5;45mNone\u001b[0m, \u001b[38;5;34m20\u001b[0m)        │          \u001b[38;5;34m0\u001b[0m │ -                 │\n",
              "│ (\u001b[38;5;33mInputLayer\u001b[0m)        │                   │            │                   │\n",
              "├─────────────────────┼───────────────────┼────────────┼───────────────────┤\n",
              "│ embedding_14        │ (\u001b[38;5;45mNone\u001b[0m, \u001b[38;5;34m20\u001b[0m, \u001b[38;5;34m100\u001b[0m)   │    \u001b[38;5;34m567,900\u001b[0m │ input_layer_14[\u001b[38;5;34m0\u001b[0m… │\n",
              "│ (\u001b[38;5;33mEmbedding\u001b[0m)         │                   │            │                   │\n",
              "├─────────────────────┼───────────────────┼────────────┼───────────────────┤\n",
              "│ embedding_15        │ (\u001b[38;5;45mNone\u001b[0m, \u001b[38;5;34m20\u001b[0m, \u001b[38;5;34m128\u001b[0m)   │    \u001b[38;5;34m759,040\u001b[0m │ input_layer_15[\u001b[38;5;34m0\u001b[0m… │\n",
              "│ (\u001b[38;5;33mEmbedding\u001b[0m)         │                   │            │                   │\n",
              "├─────────────────────┼───────────────────┼────────────┼───────────────────┤\n",
              "│ simple_rnn_14       │ [(\u001b[38;5;45mNone\u001b[0m, \u001b[38;5;34m128\u001b[0m),     │     \u001b[38;5;34m29,312\u001b[0m │ embedding_14[\u001b[38;5;34m0\u001b[0m][\u001b[38;5;34m…\u001b[0m │\n",
              "│ (\u001b[38;5;33mSimpleRNN\u001b[0m)         │ (\u001b[38;5;45mNone\u001b[0m, \u001b[38;5;34m128\u001b[0m)]      │            │                   │\n",
              "├─────────────────────┼───────────────────┼────────────┼───────────────────┤\n",
              "│ simple_rnn_15       │ (\u001b[38;5;45mNone\u001b[0m, \u001b[38;5;34m20\u001b[0m, \u001b[38;5;34m128\u001b[0m)   │     \u001b[38;5;34m32,896\u001b[0m │ embedding_15[\u001b[38;5;34m0\u001b[0m][\u001b[38;5;34m…\u001b[0m │\n",
              "│ (\u001b[38;5;33mSimpleRNN\u001b[0m)         │                   │            │ simple_rnn_14[\u001b[38;5;34m0\u001b[0m]… │\n",
              "├─────────────────────┼───────────────────┼────────────┼───────────────────┤\n",
              "│ dense_7 (\u001b[38;5;33mDense\u001b[0m)     │ (\u001b[38;5;45mNone\u001b[0m, \u001b[38;5;34m20\u001b[0m, \u001b[38;5;34m5930\u001b[0m)  │    \u001b[38;5;34m764,970\u001b[0m │ simple_rnn_15[\u001b[38;5;34m0\u001b[0m]… │\n",
              "└─────────────────────┴───────────────────┴────────────┴───────────────────┘\n"
            ],
            "text/html": [
              "<pre style=\"white-space:pre;overflow-x:auto;line-height:normal;font-family:Menlo,'DejaVu Sans Mono',consolas,'Courier New',monospace\">┏━━━━━━━━━━━━━━━━━━━━━┳━━━━━━━━━━━━━━━━━━━┳━━━━━━━━━━━━┳━━━━━━━━━━━━━━━━━━━┓\n",
              "┃<span style=\"font-weight: bold\"> Layer (type)        </span>┃<span style=\"font-weight: bold\"> Output Shape      </span>┃<span style=\"font-weight: bold\">    Param # </span>┃<span style=\"font-weight: bold\"> Connected to      </span>┃\n",
              "┡━━━━━━━━━━━━━━━━━━━━━╇━━━━━━━━━━━━━━━━━━━╇━━━━━━━━━━━━╇━━━━━━━━━━━━━━━━━━━┩\n",
              "│ input_layer_14      │ (<span style=\"color: #00d7ff; text-decoration-color: #00d7ff\">None</span>, <span style=\"color: #00af00; text-decoration-color: #00af00\">20</span>)        │          <span style=\"color: #00af00; text-decoration-color: #00af00\">0</span> │ -                 │\n",
              "│ (<span style=\"color: #0087ff; text-decoration-color: #0087ff\">InputLayer</span>)        │                   │            │                   │\n",
              "├─────────────────────┼───────────────────┼────────────┼───────────────────┤\n",
              "│ input_layer_15      │ (<span style=\"color: #00d7ff; text-decoration-color: #00d7ff\">None</span>, <span style=\"color: #00af00; text-decoration-color: #00af00\">20</span>)        │          <span style=\"color: #00af00; text-decoration-color: #00af00\">0</span> │ -                 │\n",
              "│ (<span style=\"color: #0087ff; text-decoration-color: #0087ff\">InputLayer</span>)        │                   │            │                   │\n",
              "├─────────────────────┼───────────────────┼────────────┼───────────────────┤\n",
              "│ embedding_14        │ (<span style=\"color: #00d7ff; text-decoration-color: #00d7ff\">None</span>, <span style=\"color: #00af00; text-decoration-color: #00af00\">20</span>, <span style=\"color: #00af00; text-decoration-color: #00af00\">100</span>)   │    <span style=\"color: #00af00; text-decoration-color: #00af00\">567,900</span> │ input_layer_14[<span style=\"color: #00af00; text-decoration-color: #00af00\">0</span>… │\n",
              "│ (<span style=\"color: #0087ff; text-decoration-color: #0087ff\">Embedding</span>)         │                   │            │                   │\n",
              "├─────────────────────┼───────────────────┼────────────┼───────────────────┤\n",
              "│ embedding_15        │ (<span style=\"color: #00d7ff; text-decoration-color: #00d7ff\">None</span>, <span style=\"color: #00af00; text-decoration-color: #00af00\">20</span>, <span style=\"color: #00af00; text-decoration-color: #00af00\">128</span>)   │    <span style=\"color: #00af00; text-decoration-color: #00af00\">759,040</span> │ input_layer_15[<span style=\"color: #00af00; text-decoration-color: #00af00\">0</span>… │\n",
              "│ (<span style=\"color: #0087ff; text-decoration-color: #0087ff\">Embedding</span>)         │                   │            │                   │\n",
              "├─────────────────────┼───────────────────┼────────────┼───────────────────┤\n",
              "│ simple_rnn_14       │ [(<span style=\"color: #00d7ff; text-decoration-color: #00d7ff\">None</span>, <span style=\"color: #00af00; text-decoration-color: #00af00\">128</span>),     │     <span style=\"color: #00af00; text-decoration-color: #00af00\">29,312</span> │ embedding_14[<span style=\"color: #00af00; text-decoration-color: #00af00\">0</span>][<span style=\"color: #00af00; text-decoration-color: #00af00\">…</span> │\n",
              "│ (<span style=\"color: #0087ff; text-decoration-color: #0087ff\">SimpleRNN</span>)         │ (<span style=\"color: #00d7ff; text-decoration-color: #00d7ff\">None</span>, <span style=\"color: #00af00; text-decoration-color: #00af00\">128</span>)]      │            │                   │\n",
              "├─────────────────────┼───────────────────┼────────────┼───────────────────┤\n",
              "│ simple_rnn_15       │ (<span style=\"color: #00d7ff; text-decoration-color: #00d7ff\">None</span>, <span style=\"color: #00af00; text-decoration-color: #00af00\">20</span>, <span style=\"color: #00af00; text-decoration-color: #00af00\">128</span>)   │     <span style=\"color: #00af00; text-decoration-color: #00af00\">32,896</span> │ embedding_15[<span style=\"color: #00af00; text-decoration-color: #00af00\">0</span>][<span style=\"color: #00af00; text-decoration-color: #00af00\">…</span> │\n",
              "│ (<span style=\"color: #0087ff; text-decoration-color: #0087ff\">SimpleRNN</span>)         │                   │            │ simple_rnn_14[<span style=\"color: #00af00; text-decoration-color: #00af00\">0</span>]… │\n",
              "├─────────────────────┼───────────────────┼────────────┼───────────────────┤\n",
              "│ dense_7 (<span style=\"color: #0087ff; text-decoration-color: #0087ff\">Dense</span>)     │ (<span style=\"color: #00d7ff; text-decoration-color: #00d7ff\">None</span>, <span style=\"color: #00af00; text-decoration-color: #00af00\">20</span>, <span style=\"color: #00af00; text-decoration-color: #00af00\">5930</span>)  │    <span style=\"color: #00af00; text-decoration-color: #00af00\">764,970</span> │ simple_rnn_15[<span style=\"color: #00af00; text-decoration-color: #00af00\">0</span>]… │\n",
              "└─────────────────────┴───────────────────┴────────────┴───────────────────┘\n",
              "</pre>\n"
            ]
          },
          "metadata": {}
        },
        {
          "output_type": "display_data",
          "data": {
            "text/plain": [
              "\u001b[1m Total params: \u001b[0m\u001b[38;5;34m2,154,118\u001b[0m (8.22 MB)\n"
            ],
            "text/html": [
              "<pre style=\"white-space:pre;overflow-x:auto;line-height:normal;font-family:Menlo,'DejaVu Sans Mono',consolas,'Courier New',monospace\"><span style=\"font-weight: bold\"> Total params: </span><span style=\"color: #00af00; text-decoration-color: #00af00\">2,154,118</span> (8.22 MB)\n",
              "</pre>\n"
            ]
          },
          "metadata": {}
        },
        {
          "output_type": "display_data",
          "data": {
            "text/plain": [
              "\u001b[1m Trainable params: \u001b[0m\u001b[38;5;34m1,586,218\u001b[0m (6.05 MB)\n"
            ],
            "text/html": [
              "<pre style=\"white-space:pre;overflow-x:auto;line-height:normal;font-family:Menlo,'DejaVu Sans Mono',consolas,'Courier New',monospace\"><span style=\"font-weight: bold\"> Trainable params: </span><span style=\"color: #00af00; text-decoration-color: #00af00\">1,586,218</span> (6.05 MB)\n",
              "</pre>\n"
            ]
          },
          "metadata": {}
        },
        {
          "output_type": "display_data",
          "data": {
            "text/plain": [
              "\u001b[1m Non-trainable params: \u001b[0m\u001b[38;5;34m567,900\u001b[0m (2.17 MB)\n"
            ],
            "text/html": [
              "<pre style=\"white-space:pre;overflow-x:auto;line-height:normal;font-family:Menlo,'DejaVu Sans Mono',consolas,'Courier New',monospace\"><span style=\"font-weight: bold\"> Non-trainable params: </span><span style=\"color: #00af00; text-decoration-color: #00af00\">567,900</span> (2.17 MB)\n",
              "</pre>\n"
            ]
          },
          "metadata": {}
        }
      ]
    },
    {
      "cell_type": "code",
      "source": [
        "decoder_input_data_glove = y_train[:, :-1]\n",
        "decoder_input_data_glove = pad_sequences(decoder_input_data_glove, maxlen=MAX_LEN_UR, padding='post')\n",
        "\n",
        "decoder_target_data_glove = y_train[:, 1:]\n",
        "decoder_target_data_glove = pad_sequences(decoder_target_data_glove, maxlen=MAX_LEN_UR, padding='post')"
      ],
      "metadata": {
        "id": "2S0cmM-j_DIB"
      },
      "execution_count": null,
      "outputs": []
    },
    {
      "cell_type": "code",
      "source": [
        "history_glove = rnn_model_glove.fit(\n",
        "    [X_train, decoder_input_data_glove],\n",
        "    decoder_target_data_glove,\n",
        "    epochs=50,\n",
        "    batch_size=64,\n",
        "    validation_split=0.1\n",
        ")"
      ],
      "metadata": {
        "colab": {
          "base_uri": "https://localhost:8080/"
        },
        "id": "k31TusaO_KBy",
        "outputId": "84aa769b-9e71-455c-c13d-242c76133be5"
      },
      "execution_count": null,
      "outputs": [
        {
          "output_type": "stream",
          "name": "stdout",
          "text": [
            "Epoch 1/50\n",
            "\u001b[1m311/311\u001b[0m \u001b[32m━━━━━━━━━━━━━━━━━━━━\u001b[0m\u001b[37m\u001b[0m \u001b[1m11s\u001b[0m 20ms/step - accuracy: 0.7773 - loss: 2.9578 - val_accuracy: 0.8089 - val_loss: 1.2141\n",
            "Epoch 2/50\n",
            "\u001b[1m311/311\u001b[0m \u001b[32m━━━━━━━━━━━━━━━━━━━━\u001b[0m\u001b[37m\u001b[0m \u001b[1m3s\u001b[0m 10ms/step - accuracy: 0.8135 - loss: 1.1771 - val_accuracy: 0.8211 - val_loss: 1.1187\n",
            "Epoch 3/50\n",
            "\u001b[1m311/311\u001b[0m \u001b[32m━━━━━━━━━━━━━━━━━━━━\u001b[0m\u001b[37m\u001b[0m \u001b[1m5s\u001b[0m 10ms/step - accuracy: 0.8252 - loss: 1.0620 - val_accuracy: 0.8291 - val_loss: 1.0470\n",
            "Epoch 4/50\n",
            "\u001b[1m311/311\u001b[0m \u001b[32m━━━━━━━━━━━━━━━━━━━━\u001b[0m\u001b[37m\u001b[0m \u001b[1m3s\u001b[0m 10ms/step - accuracy: 0.8352 - loss: 0.9699 - val_accuracy: 0.8371 - val_loss: 0.9904\n",
            "Epoch 5/50\n",
            "\u001b[1m311/311\u001b[0m \u001b[32m━━━━━━━━━━━━━━━━━━━━\u001b[0m\u001b[37m\u001b[0m \u001b[1m3s\u001b[0m 11ms/step - accuracy: 0.8436 - loss: 0.8980 - val_accuracy: 0.8413 - val_loss: 0.9518\n",
            "Epoch 6/50\n",
            "\u001b[1m311/311\u001b[0m \u001b[32m━━━━━━━━━━━━━━━━━━━━\u001b[0m\u001b[37m\u001b[0m \u001b[1m4s\u001b[0m 11ms/step - accuracy: 0.8491 - loss: 0.8421 - val_accuracy: 0.8447 - val_loss: 0.9279\n",
            "Epoch 7/50\n",
            "\u001b[1m311/311\u001b[0m \u001b[32m━━━━━━━━━━━━━━━━━━━━\u001b[0m\u001b[37m\u001b[0m \u001b[1m3s\u001b[0m 10ms/step - accuracy: 0.8550 - loss: 0.7917 - val_accuracy: 0.8462 - val_loss: 0.9114\n",
            "Epoch 8/50\n",
            "\u001b[1m311/311\u001b[0m \u001b[32m━━━━━━━━━━━━━━━━━━━━\u001b[0m\u001b[37m\u001b[0m \u001b[1m3s\u001b[0m 10ms/step - accuracy: 0.8574 - loss: 0.7589 - val_accuracy: 0.8473 - val_loss: 0.9019\n",
            "Epoch 9/50\n",
            "\u001b[1m311/311\u001b[0m \u001b[32m━━━━━━━━━━━━━━━━━━━━\u001b[0m\u001b[37m\u001b[0m \u001b[1m3s\u001b[0m 11ms/step - accuracy: 0.8613 - loss: 0.7248 - val_accuracy: 0.8485 - val_loss: 0.8929\n",
            "Epoch 10/50\n",
            "\u001b[1m311/311\u001b[0m \u001b[32m━━━━━━━━━━━━━━━━━━━━\u001b[0m\u001b[37m\u001b[0m \u001b[1m5s\u001b[0m 10ms/step - accuracy: 0.8650 - loss: 0.6938 - val_accuracy: 0.8485 - val_loss: 0.9026\n",
            "Epoch 11/50\n",
            "\u001b[1m311/311\u001b[0m \u001b[32m━━━━━━━━━━━━━━━━━━━━\u001b[0m\u001b[37m\u001b[0m \u001b[1m3s\u001b[0m 10ms/step - accuracy: 0.8664 - loss: 0.6737 - val_accuracy: 0.8499 - val_loss: 0.8864\n",
            "Epoch 12/50\n",
            "\u001b[1m311/311\u001b[0m \u001b[32m━━━━━━━━━━━━━━━━━━━━\u001b[0m\u001b[37m\u001b[0m \u001b[1m6s\u001b[0m 11ms/step - accuracy: 0.8719 - loss: 0.6412 - val_accuracy: 0.8511 - val_loss: 0.8849\n",
            "Epoch 13/50\n",
            "\u001b[1m311/311\u001b[0m \u001b[32m━━━━━━━━━━━━━━━━━━━━\u001b[0m\u001b[37m\u001b[0m \u001b[1m5s\u001b[0m 10ms/step - accuracy: 0.8742 - loss: 0.6211 - val_accuracy: 0.8511 - val_loss: 0.8846\n",
            "Epoch 14/50\n",
            "\u001b[1m311/311\u001b[0m \u001b[32m━━━━━━━━━━━━━━━━━━━━\u001b[0m\u001b[37m\u001b[0m \u001b[1m5s\u001b[0m 11ms/step - accuracy: 0.8773 - loss: 0.6013 - val_accuracy: 0.8513 - val_loss: 0.8856\n",
            "Epoch 15/50\n",
            "\u001b[1m311/311\u001b[0m \u001b[32m━━━━━━━━━━━━━━━━━━━━\u001b[0m\u001b[37m\u001b[0m \u001b[1m3s\u001b[0m 11ms/step - accuracy: 0.8811 - loss: 0.5808 - val_accuracy: 0.8513 - val_loss: 0.8943\n",
            "Epoch 16/50\n",
            "\u001b[1m311/311\u001b[0m \u001b[32m━━━━━━━━━━━━━━━━━━━━\u001b[0m\u001b[37m\u001b[0m \u001b[1m3s\u001b[0m 10ms/step - accuracy: 0.8826 - loss: 0.5684 - val_accuracy: 0.8526 - val_loss: 0.8914\n",
            "Epoch 17/50\n",
            "\u001b[1m311/311\u001b[0m \u001b[32m━━━━━━━━━━━━━━━━━━━━\u001b[0m\u001b[37m\u001b[0m \u001b[1m5s\u001b[0m 10ms/step - accuracy: 0.8858 - loss: 0.5490 - val_accuracy: 0.8522 - val_loss: 0.8980\n",
            "Epoch 18/50\n",
            "\u001b[1m311/311\u001b[0m \u001b[32m━━━━━━━━━━━━━━━━━━━━\u001b[0m\u001b[37m\u001b[0m \u001b[1m3s\u001b[0m 11ms/step - accuracy: 0.8876 - loss: 0.5370 - val_accuracy: 0.8523 - val_loss: 0.8983\n",
            "Epoch 19/50\n",
            "\u001b[1m311/311\u001b[0m \u001b[32m━━━━━━━━━━━━━━━━━━━━\u001b[0m\u001b[37m\u001b[0m \u001b[1m5s\u001b[0m 11ms/step - accuracy: 0.8904 - loss: 0.5209 - val_accuracy: 0.8521 - val_loss: 0.9036\n",
            "Epoch 20/50\n",
            "\u001b[1m311/311\u001b[0m \u001b[32m━━━━━━━━━━━━━━━━━━━━\u001b[0m\u001b[37m\u001b[0m \u001b[1m3s\u001b[0m 10ms/step - accuracy: 0.8919 - loss: 0.5102 - val_accuracy: 0.8532 - val_loss: 0.9066\n",
            "Epoch 21/50\n",
            "\u001b[1m311/311\u001b[0m \u001b[32m━━━━━━━━━━━━━━━━━━━━\u001b[0m\u001b[37m\u001b[0m \u001b[1m3s\u001b[0m 11ms/step - accuracy: 0.8944 - loss: 0.4965 - val_accuracy: 0.8533 - val_loss: 0.9126\n",
            "Epoch 22/50\n",
            "\u001b[1m311/311\u001b[0m \u001b[32m━━━━━━━━━━━━━━━━━━━━\u001b[0m\u001b[37m\u001b[0m \u001b[1m5s\u001b[0m 10ms/step - accuracy: 0.8968 - loss: 0.4838 - val_accuracy: 0.8531 - val_loss: 0.9142\n",
            "Epoch 23/50\n",
            "\u001b[1m311/311\u001b[0m \u001b[32m━━━━━━━━━━━━━━━━━━━━\u001b[0m\u001b[37m\u001b[0m \u001b[1m3s\u001b[0m 11ms/step - accuracy: 0.8981 - loss: 0.4758 - val_accuracy: 0.8531 - val_loss: 0.9189\n",
            "Epoch 24/50\n",
            "\u001b[1m311/311\u001b[0m \u001b[32m━━━━━━━━━━━━━━━━━━━━\u001b[0m\u001b[37m\u001b[0m \u001b[1m5s\u001b[0m 11ms/step - accuracy: 0.8994 - loss: 0.4680 - val_accuracy: 0.8541 - val_loss: 0.9251\n",
            "Epoch 25/50\n",
            "\u001b[1m311/311\u001b[0m \u001b[32m━━━━━━━━━━━━━━━━━━━━\u001b[0m\u001b[37m\u001b[0m \u001b[1m5s\u001b[0m 10ms/step - accuracy: 0.9013 - loss: 0.4572 - val_accuracy: 0.8534 - val_loss: 0.9307\n",
            "Epoch 26/50\n",
            "\u001b[1m311/311\u001b[0m \u001b[32m━━━━━━━━━━━━━━━━━━━━\u001b[0m\u001b[37m\u001b[0m \u001b[1m3s\u001b[0m 10ms/step - accuracy: 0.9031 - loss: 0.4486 - val_accuracy: 0.8526 - val_loss: 0.9351\n",
            "Epoch 27/50\n",
            "\u001b[1m311/311\u001b[0m \u001b[32m━━━━━━━━━━━━━━━━━━━━\u001b[0m\u001b[37m\u001b[0m \u001b[1m5s\u001b[0m 11ms/step - accuracy: 0.9044 - loss: 0.4410 - val_accuracy: 0.8530 - val_loss: 0.9384\n",
            "Epoch 28/50\n",
            "\u001b[1m311/311\u001b[0m \u001b[32m━━━━━━━━━━━━━━━━━━━━\u001b[0m\u001b[37m\u001b[0m \u001b[1m3s\u001b[0m 10ms/step - accuracy: 0.9061 - loss: 0.4307 - val_accuracy: 0.8532 - val_loss: 0.9435\n",
            "Epoch 29/50\n",
            "\u001b[1m311/311\u001b[0m \u001b[32m━━━━━━━━━━━━━━━━━━━━\u001b[0m\u001b[37m\u001b[0m \u001b[1m3s\u001b[0m 10ms/step - accuracy: 0.9069 - loss: 0.4260 - val_accuracy: 0.8529 - val_loss: 0.9497\n",
            "Epoch 30/50\n",
            "\u001b[1m311/311\u001b[0m \u001b[32m━━━━━━━━━━━━━━━━━━━━\u001b[0m\u001b[37m\u001b[0m \u001b[1m5s\u001b[0m 11ms/step - accuracy: 0.9082 - loss: 0.4195 - val_accuracy: 0.8530 - val_loss: 0.9543\n",
            "Epoch 31/50\n",
            "\u001b[1m311/311\u001b[0m \u001b[32m━━━━━━━━━━━━━━━━━━━━\u001b[0m\u001b[37m\u001b[0m \u001b[1m3s\u001b[0m 10ms/step - accuracy: 0.9100 - loss: 0.4100 - val_accuracy: 0.8517 - val_loss: 0.9648\n",
            "Epoch 32/50\n",
            "\u001b[1m311/311\u001b[0m \u001b[32m━━━━━━━━━━━━━━━━━━━━\u001b[0m\u001b[37m\u001b[0m \u001b[1m3s\u001b[0m 10ms/step - accuracy: 0.9109 - loss: 0.4047 - val_accuracy: 0.8529 - val_loss: 0.9640\n",
            "Epoch 33/50\n",
            "\u001b[1m311/311\u001b[0m \u001b[32m━━━━━━━━━━━━━━━━━━━━\u001b[0m\u001b[37m\u001b[0m \u001b[1m3s\u001b[0m 11ms/step - accuracy: 0.9129 - loss: 0.3968 - val_accuracy: 0.8526 - val_loss: 0.9743\n",
            "Epoch 34/50\n",
            "\u001b[1m311/311\u001b[0m \u001b[32m━━━━━━━━━━━━━━━━━━━━\u001b[0m\u001b[37m\u001b[0m \u001b[1m3s\u001b[0m 10ms/step - accuracy: 0.9130 - loss: 0.3958 - val_accuracy: 0.8520 - val_loss: 0.9806\n",
            "Epoch 35/50\n",
            "\u001b[1m311/311\u001b[0m \u001b[32m━━━━━━━━━━━━━━━━━━━━\u001b[0m\u001b[37m\u001b[0m \u001b[1m5s\u001b[0m 11ms/step - accuracy: 0.9136 - loss: 0.3910 - val_accuracy: 0.8524 - val_loss: 0.9848\n",
            "Epoch 36/50\n",
            "\u001b[1m311/311\u001b[0m \u001b[32m━━━━━━━━━━━━━━━━━━━━\u001b[0m\u001b[37m\u001b[0m \u001b[1m5s\u001b[0m 11ms/step - accuracy: 0.9154 - loss: 0.3824 - val_accuracy: 0.8525 - val_loss: 0.9920\n",
            "Epoch 37/50\n",
            "\u001b[1m311/311\u001b[0m \u001b[32m━━━━━━━━━━━━━━━━━━━━\u001b[0m\u001b[37m\u001b[0m \u001b[1m3s\u001b[0m 10ms/step - accuracy: 0.9158 - loss: 0.3803 - val_accuracy: 0.8521 - val_loss: 0.9946\n",
            "Epoch 38/50\n",
            "\u001b[1m311/311\u001b[0m \u001b[32m━━━━━━━━━━━━━━━━━━━━\u001b[0m\u001b[37m\u001b[0m \u001b[1m3s\u001b[0m 10ms/step - accuracy: 0.9166 - loss: 0.3752 - val_accuracy: 0.8524 - val_loss: 1.0003\n",
            "Epoch 39/50\n",
            "\u001b[1m311/311\u001b[0m \u001b[32m━━━━━━━━━━━━━━━━━━━━\u001b[0m\u001b[37m\u001b[0m \u001b[1m5s\u001b[0m 11ms/step - accuracy: 0.9181 - loss: 0.3689 - val_accuracy: 0.8523 - val_loss: 1.0069\n",
            "Epoch 40/50\n",
            "\u001b[1m311/311\u001b[0m \u001b[32m━━━━━━━━━━━━━━━━━━━━\u001b[0m\u001b[37m\u001b[0m \u001b[1m5s\u001b[0m 10ms/step - accuracy: 0.9187 - loss: 0.3647 - val_accuracy: 0.8518 - val_loss: 1.0131\n",
            "Epoch 41/50\n",
            "\u001b[1m311/311\u001b[0m \u001b[32m━━━━━━━━━━━━━━━━━━━━\u001b[0m\u001b[37m\u001b[0m \u001b[1m5s\u001b[0m 11ms/step - accuracy: 0.9193 - loss: 0.3612 - val_accuracy: 0.8524 - val_loss: 1.0156\n",
            "Epoch 42/50\n",
            "\u001b[1m311/311\u001b[0m \u001b[32m━━━━━━━━━━━━━━━━━━━━\u001b[0m\u001b[37m\u001b[0m \u001b[1m3s\u001b[0m 10ms/step - accuracy: 0.9199 - loss: 0.3574 - val_accuracy: 0.8519 - val_loss: 1.0241\n",
            "Epoch 43/50\n",
            "\u001b[1m311/311\u001b[0m \u001b[32m━━━━━━━━━━━━━━━━━━━━\u001b[0m\u001b[37m\u001b[0m \u001b[1m3s\u001b[0m 10ms/step - accuracy: 0.9208 - loss: 0.3528 - val_accuracy: 0.8520 - val_loss: 1.0297\n",
            "Epoch 44/50\n",
            "\u001b[1m311/311\u001b[0m \u001b[32m━━━━━━━━━━━━━━━━━━━━\u001b[0m\u001b[37m\u001b[0m \u001b[1m3s\u001b[0m 10ms/step - accuracy: 0.9208 - loss: 0.3498 - val_accuracy: 0.8527 - val_loss: 1.0362\n",
            "Epoch 45/50\n",
            "\u001b[1m311/311\u001b[0m \u001b[32m━━━━━━━━━━━━━━━━━━━━\u001b[0m\u001b[37m\u001b[0m \u001b[1m5s\u001b[0m 11ms/step - accuracy: 0.9218 - loss: 0.3450 - val_accuracy: 0.8519 - val_loss: 1.0436\n",
            "Epoch 46/50\n",
            "\u001b[1m311/311\u001b[0m \u001b[32m━━━━━━━━━━━━━━━━━━━━\u001b[0m\u001b[37m\u001b[0m \u001b[1m3s\u001b[0m 10ms/step - accuracy: 0.9225 - loss: 0.3422 - val_accuracy: 0.8512 - val_loss: 1.0463\n",
            "Epoch 47/50\n",
            "\u001b[1m311/311\u001b[0m \u001b[32m━━━━━━━━━━━━━━━━━━━━\u001b[0m\u001b[37m\u001b[0m \u001b[1m3s\u001b[0m 10ms/step - accuracy: 0.9222 - loss: 0.3434 - val_accuracy: 0.8519 - val_loss: 1.0513\n",
            "Epoch 48/50\n",
            "\u001b[1m311/311\u001b[0m \u001b[32m━━━━━━━━━━━━━━━━━━━━\u001b[0m\u001b[37m\u001b[0m \u001b[1m5s\u001b[0m 11ms/step - accuracy: 0.9238 - loss: 0.3361 - val_accuracy: 0.8513 - val_loss: 1.0574\n",
            "Epoch 49/50\n",
            "\u001b[1m311/311\u001b[0m \u001b[32m━━━━━━━━━━━━━━━━━━━━\u001b[0m\u001b[37m\u001b[0m \u001b[1m3s\u001b[0m 10ms/step - accuracy: 0.9237 - loss: 0.3356 - val_accuracy: 0.8514 - val_loss: 1.0625\n",
            "Epoch 50/50\n",
            "\u001b[1m311/311\u001b[0m \u001b[32m━━━━━━━━━━━━━━━━━━━━\u001b[0m\u001b[37m\u001b[0m \u001b[1m3s\u001b[0m 10ms/step - accuracy: 0.9252 - loss: 0.3281 - val_accuracy: 0.8516 - val_loss: 1.0679\n"
          ]
        }
      ]
    },
    {
      "cell_type": "code",
      "source": [
        "# Prepare decoder input for test data\n",
        "decoder_input_test = y_test[:, :-1]\n",
        "decoder_input_test = pad_sequences(decoder_input_test, maxlen=MAX_LEN_UR, padding='post')"
      ],
      "metadata": {
        "id": "5XHU3bxr_ytd"
      },
      "execution_count": null,
      "outputs": []
    },
    {
      "cell_type": "code",
      "source": [
        "from nltk.translate.bleu_score import sentence_bleu, SmoothingFunction\n",
        "\n",
        "def sequence_to_text(sequence, tokenizer):\n",
        "    reverse_word_index = dict((i, word) for word, i in tokenizer.word_index.items())\n",
        "    if isinstance(sequence[0], (list, np.ndarray)):\n",
        "        sequence = sequence[0]\n",
        "    return ' '.join([reverse_word_index.get(int(idx), '') for idx in sequence if idx != 0])\n",
        "\n",
        "def evaluate_model(model, X_test, y_test, decoder_input_test, en_tokenizer, ur_tokenizer, model_name, sample_size=5):\n",
        "    predicted_seq = model.predict([X_test[:sample_size], decoder_input_test[:sample_size]])\n",
        "    predicted_seq = np.argmax(predicted_seq, axis=-1)\n",
        "\n",
        "    bleu_scores = []\n",
        "    print(f\"\\n--- {model_name} Evaluation (on {sample_size} samples) ---\\n\")\n",
        "\n",
        "    for i in range(sample_size):\n",
        "        eng = sequence_to_text(X_test[i], en_tokenizer)\n",
        "        ref = sequence_to_text(y_test[i].flatten(), ur_tokenizer)\n",
        "        hyp = sequence_to_text(predicted_seq[i], ur_tokenizer)\n",
        "\n",
        "        print(f\" English   : {eng}\")\n",
        "        print(f\" Reference : {ref}\")\n",
        "        print(f\" Predicted : {hyp}\")\n",
        "\n",
        "        smoothie = SmoothingFunction().method4\n",
        "        bleu_score = sentence_bleu([ref.split()], hyp.split(), smoothing_function=smoothie)\n",
        "        bleu_scores.append(bleu_score)\n",
        "        print(f\" BLEU Score: {bleu_score:.4f}\\n\")\n",
        "\n",
        "    avg_bleu_score = np.mean(bleu_scores)\n",
        "    print(f\"--- {model_name} Average BLEU Score (on {sample_size} samples): {avg_bleu_score:.4f} ---\\n\")\n",
        "    return avg_bleu_score\n"
      ],
      "metadata": {
        "id": "zDTxmWkcByGx"
      },
      "execution_count": null,
      "outputs": []
    },
    {
      "cell_type": "code",
      "source": [
        "# Evaluate vanilla RNN model\n",
        "avg_bleu_rnn = evaluate_model(\n",
        "    rnn_model, X_test, y_test, decoder_input_test, en_tokenizer, ur_tokenizer,\n",
        "    model_name=\"Vanilla RNN\"\n",
        ")\n",
        "\n",
        "# Evaluate RNN with GloVe\n",
        "avg_bleu_glove = evaluate_model(\n",
        "    rnn_model_glove, X_test, y_test, decoder_input_test, en_tokenizer, ur_tokenizer,\n",
        "    model_name=\"RNN with GloVe Embeddings\"\n",
        ")\n"
      ],
      "metadata": {
        "colab": {
          "base_uri": "https://localhost:8080/"
        },
        "id": "aoFLxf-1B1dT",
        "outputId": "18888c0f-bb15-407f-dbe4-452a8b04d4d1"
      },
      "execution_count": null,
      "outputs": [
        {
          "output_type": "stream",
          "name": "stdout",
          "text": [
            "\u001b[1m1/1\u001b[0m \u001b[32m━━━━━━━━━━━━━━━━━━━━\u001b[0m\u001b[37m\u001b[0m \u001b[1m1s\u001b[0m 634ms/step\n",
            "\n",
            "--- Vanilla RNN Evaluation (on 5 samples) ---\n",
            "\n",
            " English   : he can no longer wait\n",
            " Reference : وہ مزید انتظار نہیں کر سکتا\n",
            " Predicted : اب مذاق نہیں کرتے سکتے\n",
            " BLEU Score: 0.0374\n",
            "\n",
            " English   : what is zain drinking\n",
            " Reference : زین پینے کیا ہے\n",
            " Predicted : کیا کے\n",
            " BLEU Score: 0.0248\n",
            "\n",
            " English   : dont burst my bubble\n",
            " Reference : میرا بلبلا مت پھٹاؤ\n",
            " Predicted : انتظار مت توڑو\n",
            " BLEU Score: 0.0519\n",
            "\n",
            " English   : are you still married\n",
            " Reference : کیا آپ اب بھی شادی شدہ ہیں\n",
            " Predicted : آپ اب بھی یہاں ہیں؟ ہے؟\n",
            " BLEU Score: 0.1979\n",
            "\n",
            " English   : i will come back later\n",
            " Reference : میں بعد میں واپس آؤں گا\n",
            " Predicted : اس میں واپس آؤں گا۔\n",
            " BLEU Score: 0.2452\n",
            "\n",
            "--- Vanilla RNN Average BLEU Score (on 5 samples): 0.1115 ---\n",
            "\n"
          ]
        },
        {
          "output_type": "stream",
          "name": "stderr",
          "text": [
            "WARNING:tensorflow:5 out of the last 106 calls to <function TensorFlowTrainer.make_predict_function.<locals>.one_step_on_data_distributed at 0x79f9d20b2520> triggered tf.function retracing. Tracing is expensive and the excessive number of tracings could be due to (1) creating @tf.function repeatedly in a loop, (2) passing tensors with different shapes, (3) passing Python objects instead of tensors. For (1), please define your @tf.function outside of the loop. For (2), @tf.function has reduce_retracing=True option that can avoid unnecessary retracing. For (3), please refer to https://www.tensorflow.org/guide/function#controlling_retracing and https://www.tensorflow.org/api_docs/python/tf/function for  more details.\n"
          ]
        },
        {
          "output_type": "stream",
          "name": "stdout",
          "text": [
            "\u001b[1m1/1\u001b[0m \u001b[32m━━━━━━━━━━━━━━━━━━━━\u001b[0m\u001b[37m\u001b[0m \u001b[1m1s\u001b[0m 623ms/step\n",
            "\n",
            "--- RNN with GloVe Embeddings Evaluation (on 5 samples) ---\n",
            "\n",
            " English   : he can no longer wait\n",
            " Reference : وہ مزید انتظار نہیں کر سکتا\n",
            " Predicted : اس نہیں کر کرتا سکتے\n",
            " BLEU Score: 0.0992\n",
            "\n",
            " English   : what is zain drinking\n",
            " Reference : زین پینے کیا ہے\n",
            " Predicted : نے کے چاہتا\n",
            " BLEU Score: 0.0000\n",
            "\n",
            " English   : dont burst my bubble\n",
            " Reference : میرا بلبلا مت پھٹاؤ\n",
            " Predicted : مطلب کہاں جاؤ\n",
            " BLEU Score: 0.0000\n",
            "\n",
            " English   : are you still married\n",
            " Reference : کیا آپ اب بھی شادی شدہ ہیں\n",
            " Predicted : آپ کے بھی یہاں شدہ ہے؟\n",
            " BLEU Score: 0.0419\n",
            "\n",
            " English   : i will come back later\n",
            " Reference : میں بعد میں واپس آؤں گا\n",
            " Predicted : نے میں آپ آؤں گا۔\n",
            " BLEU Score: 0.0444\n",
            "\n",
            "--- RNN with GloVe Embeddings Average BLEU Score (on 5 samples): 0.0371 ---\n",
            "\n"
          ]
        }
      ]
    },
    {
      "cell_type": "code",
      "source": [
        "print(\" Final BLEU Score Comparison:\")\n",
        "print(f\"Vanilla RNN         : {avg_bleu_glove:.4f}\")\n",
        "print(f\"RNN with GloVe      : {avg_bleu_rnn:.4f}\")\n",
        "\n",
        "if avg_bleu_glove > avg_bleu_rnn:\n",
        "    print(\" GloVe embeddings improved the translation quality!\")\n",
        "else:\n",
        "    print(\" GloVe embeddings didn't help in this case or more tuning is needed.\")\n"
      ],
      "metadata": {
        "colab": {
          "base_uri": "https://localhost:8080/"
        },
        "id": "P1BvrlRKC5RM",
        "outputId": "95bba1df-58ca-4d43-e25b-c76eef260c1b"
      },
      "execution_count": null,
      "outputs": [
        {
          "output_type": "stream",
          "name": "stdout",
          "text": [
            " Final BLEU Score Comparison:\n",
            "Vanilla RNN         : 0.0371\n",
            "RNN with GloVe      : 0.1115\n",
            " GloVe embeddings didn't help in this case or more tuning is needed.\n"
          ]
        }
      ]
    },
    {
      "cell_type": "code",
      "source": [
        "import matplotlib.pyplot as plt\n",
        "\n",
        "# Assuming you have the scores returned like this\n",
        "bleu_rnn = evaluate_model(rnn_model, X_test, y_test, decoder_input_test, en_tokenizer, ur_tokenizer, \"Vanilla RNN\", sample_size=5)\n",
        "bleu_glove = evaluate_model(rnn_model_glove, X_test, y_test, decoder_input_test, en_tokenizer, ur_tokenizer, \"RNN with GloVe\", sample_size=5)\n",
        "\n",
        "plt.figure(figsize=(6, 4))\n",
        "plt.bar([\"glove RNN\", \"RNN vanilla\"], [bleu_rnn, bleu_glove], color=[\"skyblue\", \"orange\"])\n",
        "plt.ylabel(\"BLEU Score\")\n",
        "plt.title(\"Model Comparison: BLEU Scores\")\n",
        "plt.ylim(0, 1)\n",
        "plt.show()\n"
      ],
      "metadata": {
        "colab": {
          "base_uri": "https://localhost:8080/",
          "height": 1000
        },
        "id": "gmY-KCT8DCW6",
        "outputId": "59cb3506-5395-455e-a5d7-a3660a0516c7"
      },
      "execution_count": null,
      "outputs": [
        {
          "output_type": "stream",
          "name": "stdout",
          "text": [
            "\u001b[1m1/1\u001b[0m \u001b[32m━━━━━━━━━━━━━━━━━━━━\u001b[0m\u001b[37m\u001b[0m \u001b[1m0s\u001b[0m 48ms/step\n",
            "\n",
            "--- Vanilla RNN Evaluation (on 5 samples) ---\n",
            "\n",
            " English   : he can no longer wait\n",
            " Reference : وہ مزید انتظار نہیں کر سکتا\n",
            " Predicted : اب مذاق نہیں کرتے سکتے\n",
            " BLEU Score: 0.0374\n",
            "\n",
            " English   : what is zain drinking\n",
            " Reference : زین پینے کیا ہے\n",
            " Predicted : کیا کے\n",
            " BLEU Score: 0.0248\n",
            "\n",
            " English   : dont burst my bubble\n",
            " Reference : میرا بلبلا مت پھٹاؤ\n",
            " Predicted : انتظار مت توڑو\n",
            " BLEU Score: 0.0519\n",
            "\n",
            " English   : are you still married\n",
            " Reference : کیا آپ اب بھی شادی شدہ ہیں\n",
            " Predicted : آپ اب بھی یہاں ہیں؟ ہے؟\n",
            " BLEU Score: 0.1979\n",
            "\n",
            " English   : i will come back later\n",
            " Reference : میں بعد میں واپس آؤں گا\n",
            " Predicted : اس میں واپس آؤں گا۔\n",
            " BLEU Score: 0.2452\n",
            "\n",
            "--- Vanilla RNN Average BLEU Score (on 5 samples): 0.1115 ---\n",
            "\n",
            "\u001b[1m1/1\u001b[0m \u001b[32m━━━━━━━━━━━━━━━━━━━━\u001b[0m\u001b[37m\u001b[0m \u001b[1m0s\u001b[0m 48ms/step\n",
            "\n",
            "--- RNN with GloVe Evaluation (on 5 samples) ---\n",
            "\n",
            " English   : he can no longer wait\n",
            " Reference : وہ مزید انتظار نہیں کر سکتا\n",
            " Predicted : اس نہیں کر کرتا سکتے\n",
            " BLEU Score: 0.0992\n",
            "\n",
            " English   : what is zain drinking\n",
            " Reference : زین پینے کیا ہے\n",
            " Predicted : نے کے چاہتا\n",
            " BLEU Score: 0.0000\n",
            "\n",
            " English   : dont burst my bubble\n",
            " Reference : میرا بلبلا مت پھٹاؤ\n",
            " Predicted : مطلب کہاں جاؤ\n",
            " BLEU Score: 0.0000\n",
            "\n",
            " English   : are you still married\n",
            " Reference : کیا آپ اب بھی شادی شدہ ہیں\n",
            " Predicted : آپ کے بھی یہاں شدہ ہے؟\n",
            " BLEU Score: 0.0419\n",
            "\n",
            " English   : i will come back later\n",
            " Reference : میں بعد میں واپس آؤں گا\n",
            " Predicted : نے میں آپ آؤں گا۔\n",
            " BLEU Score: 0.0444\n",
            "\n",
            "--- RNN with GloVe Average BLEU Score (on 5 samples): 0.0371 ---\n",
            "\n"
          ]
        },
        {
          "output_type": "display_data",
          "data": {
            "text/plain": [
              "<Figure size 600x400 with 1 Axes>"
            ],
            "image/png": "[encoded data removed]"
          },
          "metadata": {}
        }
      ]
    }
  ]
}